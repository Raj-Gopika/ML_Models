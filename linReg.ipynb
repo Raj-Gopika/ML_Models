{
  "nbformat": 4,
  "nbformat_minor": 0,
  "metadata": {
    "colab": {
      "provenance": [],
      "authorship_tag": "ABX9TyPZXHt7aGQHHLttRrCQDjQh",
      "include_colab_link": true
    },
    "kernelspec": {
      "name": "python3",
      "display_name": "Python 3"
    },
    "language_info": {
      "name": "python"
    }
  },
  "cells": [
    {
      "cell_type": "markdown",
      "metadata": {
        "id": "view-in-github",
        "colab_type": "text"
      },
      "source": [
        "<a href=\"https://colab.research.google.com/github/Raj-Gopika/ML_Models/blob/main/linReg.ipynb\" target=\"_parent\"><img src=\"https://colab.research.google.com/assets/colab-badge.svg\" alt=\"Open In Colab\"/></a>"
      ]
    },
    {
      "cell_type": "markdown",
      "source": [
        "# Perceptual impairment in face identification with poor sleep."
      ],
      "metadata": {
        "id": "Z8Jp9Kl5Fshs"
      }
    },
    {
      "cell_type": "markdown",
      "source": [
        "## Import data and preprocess"
      ],
      "metadata": {
        "id": "lMJUjNfoGXuF"
      }
    },
    {
      "cell_type": "code",
      "source": [
        "\n",
        "\n",
        "\n",
        "\n",
        "\n",
        "\n"
      ],
      "metadata": {
        "id": "guFVW02EFzvs"
      },
      "execution_count": null,
      "outputs": []
    }
  ]
}