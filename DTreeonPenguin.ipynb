{
  "nbformat": 4,
  "nbformat_minor": 0,
  "metadata": {
    "colab": {
      "provenance": [],
      "authorship_tag": "ABX9TyN8zbOFKPJ5CMTwNTr5CwQz",
      "include_colab_link": true
    },
    "kernelspec": {
      "name": "python3",
      "display_name": "Python 3"
    },
    "language_info": {
      "name": "python"
    }
  },
  "cells": [
    {
      "cell_type": "markdown",
      "metadata": {
        "id": "view-in-github",
        "colab_type": "text"
      },
      "source": [
        "<a href=\"https://colab.research.google.com/github/Raj-Gopika/ML_Models/blob/main/DTreeonPenguin.ipynb\" target=\"_parent\"><img src=\"https://colab.research.google.com/assets/colab-badge.svg\" alt=\"Open In Colab\"/></a>"
      ]
    },
    {
      "cell_type": "markdown",
      "source": [
        "# Decision Tree Classification on penquin dtat set"
      ],
      "metadata": {
        "id": "qLhnXmsHrgtC"
      }
    },
    {
      "cell_type": "markdown",
      "source": [
        "## importing essential modules"
      ],
      "metadata": {
        "id": "20ztPo0irric"
      }
    },
    {
      "cell_type": "markdown",
      "source": [
        "importing packages for data manipulation and visualization"
      ],
      "metadata": {
        "id": "2QaLmsrXtFrl"
      }
    },
    {
      "cell_type": "code",
      "source": [
        "%matplotlib inline\n",
        "import numpy as np\n",
        "import pandas as pd\n",
        "import seaborn as sns\n",
        "import matplotlib.pyplot as plt\n",
        "\n",
        "sns.set(\n",
        "    { \"figure.figsize\": (6,4) },\n",
        "    style =  \"ticks\",\n",
        "    color_codes = True,\n",
        "    font_scale = 0.8\n",
        ")\n",
        "%config InlineBackend.figure_format = 'retina'"
      ],
      "metadata": {
        "id": "Pxp6o9Ehrd4d"
      },
      "execution_count": 3,
      "outputs": []
    },
    {
      "cell_type": "markdown",
      "source": [
        "Importing packages to implement ml models and calculation accuracy"
      ],
      "metadata": {
        "id": "pQ6NAMUEtCkM"
      }
    },
    {
      "cell_type": "code",
      "source": [
        "from sklearn.model_selection import train_test_split\n",
        "from sklearn.tree import DecisionTreeClassifier\n",
        "from sklearn.tree import export_text\n",
        "\n",
        "from sklearn.metrics import balanced_accuracy_score\n",
        "from sklearn.metrics import confusion_matrix, ConfusionMatrixDisplay"
      ],
      "metadata": {
        "id": "ZAztppRvtPbl"
      },
      "execution_count": 4,
      "outputs": []
    },
    {
      "cell_type": "markdown",
      "source": [
        "tree visualisation is better with dtreeviz package so importing dtreeviz package"
      ],
      "metadata": {
        "id": "R1fHmquotuXG"
      }
    },
    {
      "cell_type": "code",
      "source": [
        "import sys\n",
        "if 'google.colab' in sys.modules:\n",
        "  !pip install -q dtreeviz\n",
        "import dtreeviz"
      ],
      "metadata": {
        "colab": {
          "base_uri": "https://localhost:8080/"
        },
        "id": "zGikLGoFt26G",
        "outputId": "325b9ec3-7802-46ca-be29-7657703c30c1"
      },
      "execution_count": 5,
      "outputs": [
        {
          "output_type": "stream",
          "name": "stdout",
          "text": [
            "\u001b[?25l   \u001b[90m━━━━━━━━━━━━━━━━━━━━━━━━━━━━━━━━━━━━━━━━\u001b[0m \u001b[32m0.0/91.8 kB\u001b[0m \u001b[31m?\u001b[0m eta \u001b[36m-:--:--\u001b[0m\r\u001b[2K   \u001b[90m━━━━━━━━━━━━━━━━━━━━━━━━━━━━━━━━━━━━━━━━\u001b[0m \u001b[32m91.8/91.8 kB\u001b[0m \u001b[31m3.4 MB/s\u001b[0m eta \u001b[36m0:00:00\u001b[0m\n",
            "\u001b[?25h"
          ]
        }
      ]
    },
    {
      "cell_type": "markdown",
      "source": [
        "## Use Case: Penguin Dataset rom seaborn"
      ],
      "metadata": {
        "id": "z9HlXvbQumOe"
      }
    },
    {
      "cell_type": "code",
      "source": [
        "penguins = sns.load_dataset(\"penguins\")\n",
        "penguins.head()"
      ],
      "metadata": {
        "colab": {
          "base_uri": "https://localhost:8080/",
          "height": 226
        },
        "id": "RajcWX2vux5W",
        "outputId": "f427c147-1338-4775-a70d-d10350f89c82"
      },
      "execution_count": 46,
      "outputs": [
        {
          "output_type": "execute_result",
          "data": {
            "text/plain": [
              "  species     island  bill_length_mm  bill_depth_mm  flipper_length_mm  \\\n",
              "0  Adelie  Torgersen            39.1           18.7              181.0   \n",
              "1  Adelie  Torgersen            39.5           17.4              186.0   \n",
              "2  Adelie  Torgersen            40.3           18.0              195.0   \n",
              "3  Adelie  Torgersen             NaN            NaN                NaN   \n",
              "4  Adelie  Torgersen            36.7           19.3              193.0   \n",
              "\n",
              "   body_mass_g     sex  \n",
              "0       3750.0    Male  \n",
              "1       3800.0  Female  \n",
              "2       3250.0  Female  \n",
              "3          NaN     NaN  \n",
              "4       3450.0  Female  "
            ],
            "text/html": [
              "\n",
              "  <div id=\"df-823e6848-1460-47e8-93a2-b8383fef3eb8\" class=\"colab-df-container\">\n",
              "    <div>\n",
              "<style scoped>\n",
              "    .dataframe tbody tr th:only-of-type {\n",
              "        vertical-align: middle;\n",
              "    }\n",
              "\n",
              "    .dataframe tbody tr th {\n",
              "        vertical-align: top;\n",
              "    }\n",
              "\n",
              "    .dataframe thead th {\n",
              "        text-align: right;\n",
              "    }\n",
              "</style>\n",
              "<table border=\"1\" class=\"dataframe\">\n",
              "  <thead>\n",
              "    <tr style=\"text-align: right;\">\n",
              "      <th></th>\n",
              "      <th>species</th>\n",
              "      <th>island</th>\n",
              "      <th>bill_length_mm</th>\n",
              "      <th>bill_depth_mm</th>\n",
              "      <th>flipper_length_mm</th>\n",
              "      <th>body_mass_g</th>\n",
              "      <th>sex</th>\n",
              "    </tr>\n",
              "  </thead>\n",
              "  <tbody>\n",
              "    <tr>\n",
              "      <th>0</th>\n",
              "      <td>Adelie</td>\n",
              "      <td>Torgersen</td>\n",
              "      <td>39.1</td>\n",
              "      <td>18.7</td>\n",
              "      <td>181.0</td>\n",
              "      <td>3750.0</td>\n",
              "      <td>Male</td>\n",
              "    </tr>\n",
              "    <tr>\n",
              "      <th>1</th>\n",
              "      <td>Adelie</td>\n",
              "      <td>Torgersen</td>\n",
              "      <td>39.5</td>\n",
              "      <td>17.4</td>\n",
              "      <td>186.0</td>\n",
              "      <td>3800.0</td>\n",
              "      <td>Female</td>\n",
              "    </tr>\n",
              "    <tr>\n",
              "      <th>2</th>\n",
              "      <td>Adelie</td>\n",
              "      <td>Torgersen</td>\n",
              "      <td>40.3</td>\n",
              "      <td>18.0</td>\n",
              "      <td>195.0</td>\n",
              "      <td>3250.0</td>\n",
              "      <td>Female</td>\n",
              "    </tr>\n",
              "    <tr>\n",
              "      <th>3</th>\n",
              "      <td>Adelie</td>\n",
              "      <td>Torgersen</td>\n",
              "      <td>NaN</td>\n",
              "      <td>NaN</td>\n",
              "      <td>NaN</td>\n",
              "      <td>NaN</td>\n",
              "      <td>NaN</td>\n",
              "    </tr>\n",
              "    <tr>\n",
              "      <th>4</th>\n",
              "      <td>Adelie</td>\n",
              "      <td>Torgersen</td>\n",
              "      <td>36.7</td>\n",
              "      <td>19.3</td>\n",
              "      <td>193.0</td>\n",
              "      <td>3450.0</td>\n",
              "      <td>Female</td>\n",
              "    </tr>\n",
              "  </tbody>\n",
              "</table>\n",
              "</div>\n",
              "    <div class=\"colab-df-buttons\">\n",
              "\n",
              "  <div class=\"colab-df-container\">\n",
              "    <button class=\"colab-df-convert\" onclick=\"convertToInteractive('df-823e6848-1460-47e8-93a2-b8383fef3eb8')\"\n",
              "            title=\"Convert this dataframe to an interactive table.\"\n",
              "            style=\"display:none;\">\n",
              "\n",
              "  <svg xmlns=\"http://www.w3.org/2000/svg\" height=\"24px\" viewBox=\"0 -960 960 960\">\n",
              "    <path d=\"M120-120v-720h720v720H120Zm60-500h600v-160H180v160Zm220 220h160v-160H400v160Zm0 220h160v-160H400v160ZM180-400h160v-160H180v160Zm440 0h160v-160H620v160ZM180-180h160v-160H180v160Zm440 0h160v-160H620v160Z\"/>\n",
              "  </svg>\n",
              "    </button>\n",
              "\n",
              "  <style>\n",
              "    .colab-df-container {\n",
              "      display:flex;\n",
              "      gap: 12px;\n",
              "    }\n",
              "\n",
              "    .colab-df-convert {\n",
              "      background-color: #E8F0FE;\n",
              "      border: none;\n",
              "      border-radius: 50%;\n",
              "      cursor: pointer;\n",
              "      display: none;\n",
              "      fill: #1967D2;\n",
              "      height: 32px;\n",
              "      padding: 0 0 0 0;\n",
              "      width: 32px;\n",
              "    }\n",
              "\n",
              "    .colab-df-convert:hover {\n",
              "      background-color: #E2EBFA;\n",
              "      box-shadow: 0px 1px 2px rgba(60, 64, 67, 0.3), 0px 1px 3px 1px rgba(60, 64, 67, 0.15);\n",
              "      fill: #174EA6;\n",
              "    }\n",
              "\n",
              "    .colab-df-buttons div {\n",
              "      margin-bottom: 4px;\n",
              "    }\n",
              "\n",
              "    [theme=dark] .colab-df-convert {\n",
              "      background-color: #3B4455;\n",
              "      fill: #D2E3FC;\n",
              "    }\n",
              "\n",
              "    [theme=dark] .colab-df-convert:hover {\n",
              "      background-color: #434B5C;\n",
              "      box-shadow: 0px 1px 3px 1px rgba(0, 0, 0, 0.15);\n",
              "      filter: drop-shadow(0px 1px 2px rgba(0, 0, 0, 0.3));\n",
              "      fill: #FFFFFF;\n",
              "    }\n",
              "  </style>\n",
              "\n",
              "    <script>\n",
              "      const buttonEl =\n",
              "        document.querySelector('#df-823e6848-1460-47e8-93a2-b8383fef3eb8 button.colab-df-convert');\n",
              "      buttonEl.style.display =\n",
              "        google.colab.kernel.accessAllowed ? 'block' : 'none';\n",
              "\n",
              "      async function convertToInteractive(key) {\n",
              "        const element = document.querySelector('#df-823e6848-1460-47e8-93a2-b8383fef3eb8');\n",
              "        const dataTable =\n",
              "          await google.colab.kernel.invokeFunction('convertToInteractive',\n",
              "                                                    [key], {});\n",
              "        if (!dataTable) return;\n",
              "\n",
              "        const docLinkHtml = 'Like what you see? Visit the ' +\n",
              "          '<a target=\"_blank\" href=https://colab.research.google.com/notebooks/data_table.ipynb>data table notebook</a>'\n",
              "          + ' to learn more about interactive tables.';\n",
              "        element.innerHTML = '';\n",
              "        dataTable['output_type'] = 'display_data';\n",
              "        await google.colab.output.renderOutput(dataTable, element);\n",
              "        const docLink = document.createElement('div');\n",
              "        docLink.innerHTML = docLinkHtml;\n",
              "        element.appendChild(docLink);\n",
              "      }\n",
              "    </script>\n",
              "  </div>\n",
              "\n",
              "\n",
              "<div id=\"df-39abb140-f4f0-444c-acea-2664a1f7d18e\">\n",
              "  <button class=\"colab-df-quickchart\" onclick=\"quickchart('df-39abb140-f4f0-444c-acea-2664a1f7d18e')\"\n",
              "            title=\"Suggest charts\"\n",
              "            style=\"display:none;\">\n",
              "\n",
              "<svg xmlns=\"http://www.w3.org/2000/svg\" height=\"24px\"viewBox=\"0 0 24 24\"\n",
              "     width=\"24px\">\n",
              "    <g>\n",
              "        <path d=\"M19 3H5c-1.1 0-2 .9-2 2v14c0 1.1.9 2 2 2h14c1.1 0 2-.9 2-2V5c0-1.1-.9-2-2-2zM9 17H7v-7h2v7zm4 0h-2V7h2v10zm4 0h-2v-4h2v4z\"/>\n",
              "    </g>\n",
              "</svg>\n",
              "  </button>\n",
              "\n",
              "<style>\n",
              "  .colab-df-quickchart {\n",
              "      --bg-color: #E8F0FE;\n",
              "      --fill-color: #1967D2;\n",
              "      --hover-bg-color: #E2EBFA;\n",
              "      --hover-fill-color: #174EA6;\n",
              "      --disabled-fill-color: #AAA;\n",
              "      --disabled-bg-color: #DDD;\n",
              "  }\n",
              "\n",
              "  [theme=dark] .colab-df-quickchart {\n",
              "      --bg-color: #3B4455;\n",
              "      --fill-color: #D2E3FC;\n",
              "      --hover-bg-color: #434B5C;\n",
              "      --hover-fill-color: #FFFFFF;\n",
              "      --disabled-bg-color: #3B4455;\n",
              "      --disabled-fill-color: #666;\n",
              "  }\n",
              "\n",
              "  .colab-df-quickchart {\n",
              "    background-color: var(--bg-color);\n",
              "    border: none;\n",
              "    border-radius: 50%;\n",
              "    cursor: pointer;\n",
              "    display: none;\n",
              "    fill: var(--fill-color);\n",
              "    height: 32px;\n",
              "    padding: 0;\n",
              "    width: 32px;\n",
              "  }\n",
              "\n",
              "  .colab-df-quickchart:hover {\n",
              "    background-color: var(--hover-bg-color);\n",
              "    box-shadow: 0 1px 2px rgba(60, 64, 67, 0.3), 0 1px 3px 1px rgba(60, 64, 67, 0.15);\n",
              "    fill: var(--button-hover-fill-color);\n",
              "  }\n",
              "\n",
              "  .colab-df-quickchart-complete:disabled,\n",
              "  .colab-df-quickchart-complete:disabled:hover {\n",
              "    background-color: var(--disabled-bg-color);\n",
              "    fill: var(--disabled-fill-color);\n",
              "    box-shadow: none;\n",
              "  }\n",
              "\n",
              "  .colab-df-spinner {\n",
              "    border: 2px solid var(--fill-color);\n",
              "    border-color: transparent;\n",
              "    border-bottom-color: var(--fill-color);\n",
              "    animation:\n",
              "      spin 1s steps(1) infinite;\n",
              "  }\n",
              "\n",
              "  @keyframes spin {\n",
              "    0% {\n",
              "      border-color: transparent;\n",
              "      border-bottom-color: var(--fill-color);\n",
              "      border-left-color: var(--fill-color);\n",
              "    }\n",
              "    20% {\n",
              "      border-color: transparent;\n",
              "      border-left-color: var(--fill-color);\n",
              "      border-top-color: var(--fill-color);\n",
              "    }\n",
              "    30% {\n",
              "      border-color: transparent;\n",
              "      border-left-color: var(--fill-color);\n",
              "      border-top-color: var(--fill-color);\n",
              "      border-right-color: var(--fill-color);\n",
              "    }\n",
              "    40% {\n",
              "      border-color: transparent;\n",
              "      border-right-color: var(--fill-color);\n",
              "      border-top-color: var(--fill-color);\n",
              "    }\n",
              "    60% {\n",
              "      border-color: transparent;\n",
              "      border-right-color: var(--fill-color);\n",
              "    }\n",
              "    80% {\n",
              "      border-color: transparent;\n",
              "      border-right-color: var(--fill-color);\n",
              "      border-bottom-color: var(--fill-color);\n",
              "    }\n",
              "    90% {\n",
              "      border-color: transparent;\n",
              "      border-bottom-color: var(--fill-color);\n",
              "    }\n",
              "  }\n",
              "</style>\n",
              "\n",
              "  <script>\n",
              "    async function quickchart(key) {\n",
              "      const quickchartButtonEl =\n",
              "        document.querySelector('#' + key + ' button');\n",
              "      quickchartButtonEl.disabled = true;  // To prevent multiple clicks.\n",
              "      quickchartButtonEl.classList.add('colab-df-spinner');\n",
              "      try {\n",
              "        const charts = await google.colab.kernel.invokeFunction(\n",
              "            'suggestCharts', [key], {});\n",
              "      } catch (error) {\n",
              "        console.error('Error during call to suggestCharts:', error);\n",
              "      }\n",
              "      quickchartButtonEl.classList.remove('colab-df-spinner');\n",
              "      quickchartButtonEl.classList.add('colab-df-quickchart-complete');\n",
              "    }\n",
              "    (() => {\n",
              "      let quickchartButtonEl =\n",
              "        document.querySelector('#df-39abb140-f4f0-444c-acea-2664a1f7d18e button');\n",
              "      quickchartButtonEl.style.display =\n",
              "        google.colab.kernel.accessAllowed ? 'block' : 'none';\n",
              "    })();\n",
              "  </script>\n",
              "</div>\n",
              "\n",
              "    </div>\n",
              "  </div>\n"
            ],
            "application/vnd.google.colaboratory.intrinsic+json": {
              "type": "dataframe",
              "variable_name": "penguins",
              "summary": "{\n  \"name\": \"penguins\",\n  \"rows\": 344,\n  \"fields\": [\n    {\n      \"column\": \"species\",\n      \"properties\": {\n        \"dtype\": \"category\",\n        \"num_unique_values\": 3,\n        \"samples\": [\n          \"Adelie\",\n          \"Chinstrap\",\n          \"Gentoo\"\n        ],\n        \"semantic_type\": \"\",\n        \"description\": \"\"\n      }\n    },\n    {\n      \"column\": \"island\",\n      \"properties\": {\n        \"dtype\": \"category\",\n        \"num_unique_values\": 3,\n        \"samples\": [\n          \"Torgersen\",\n          \"Biscoe\",\n          \"Dream\"\n        ],\n        \"semantic_type\": \"\",\n        \"description\": \"\"\n      }\n    },\n    {\n      \"column\": \"bill_length_mm\",\n      \"properties\": {\n        \"dtype\": \"number\",\n        \"std\": 5.459583713926532,\n        \"min\": 32.1,\n        \"max\": 59.6,\n        \"num_unique_values\": 164,\n        \"samples\": [\n          48.2,\n          49.8,\n          45.1\n        ],\n        \"semantic_type\": \"\",\n        \"description\": \"\"\n      }\n    },\n    {\n      \"column\": \"bill_depth_mm\",\n      \"properties\": {\n        \"dtype\": \"number\",\n        \"std\": 1.9747931568167816,\n        \"min\": 13.1,\n        \"max\": 21.5,\n        \"num_unique_values\": 80,\n        \"samples\": [\n          16.9,\n          18.7,\n          18.6\n        ],\n        \"semantic_type\": \"\",\n        \"description\": \"\"\n      }\n    },\n    {\n      \"column\": \"flipper_length_mm\",\n      \"properties\": {\n        \"dtype\": \"number\",\n        \"std\": 14.061713679356894,\n        \"min\": 172.0,\n        \"max\": 231.0,\n        \"num_unique_values\": 55,\n        \"samples\": [\n          201.0,\n          180.0,\n          212.0\n        ],\n        \"semantic_type\": \"\",\n        \"description\": \"\"\n      }\n    },\n    {\n      \"column\": \"body_mass_g\",\n      \"properties\": {\n        \"dtype\": \"number\",\n        \"std\": 801.9545356980954,\n        \"min\": 2700.0,\n        \"max\": 6300.0,\n        \"num_unique_values\": 94,\n        \"samples\": [\n          4350.0,\n          4150.0,\n          3525.0\n        ],\n        \"semantic_type\": \"\",\n        \"description\": \"\"\n      }\n    },\n    {\n      \"column\": \"sex\",\n      \"properties\": {\n        \"dtype\": \"category\",\n        \"num_unique_values\": 2,\n        \"samples\": [\n          \"Female\",\n          \"Male\"\n        ],\n        \"semantic_type\": \"\",\n        \"description\": \"\"\n      }\n    }\n  ]\n}"
            }
          },
          "metadata": {},
          "execution_count": 46
        }
      ]
    },
    {
      "cell_type": "markdown",
      "source": [
        "Removing categorical values for simplification.\n",
        "settin x for features and y fro target. filling out the null feature values with mean of the values to avoid missing values\n",
        "\n"
      ],
      "metadata": {
        "id": "MW3lIoOCvKrG"
      }
    },
    {
      "cell_type": "code",
      "source": [
        "penguins['species'] = penguins['species'].replace(['Adelie', 'Gentoo', 'Chinstrap'], [0, 1, 2])\n",
        "penguins = penguins.drop(columns = ['island', 'sex'])\n",
        "x = penguins.drop(columns = 'species')\n",
        "y = penguins['species']\n",
        "x = x.fillna(x.mean())"
      ],
      "metadata": {
        "colab": {
          "base_uri": "https://localhost:8080/"
        },
        "id": "D46tZYGMvfpD",
        "outputId": "19a1a328-240b-4c3f-b141-76b5a608f4b9"
      },
      "execution_count": 47,
      "outputs": [
        {
          "output_type": "stream",
          "name": "stderr",
          "text": [
            "<ipython-input-47-32d2ddf14f3b>:1: FutureWarning: Downcasting behavior in `replace` is deprecated and will be removed in a future version. To retain the old behavior, explicitly call `result.infer_objects(copy=False)`. To opt-in to the future behavior, set `pd.set_option('future.no_silent_downcasting', True)`\n"
          ]
        }
      ]
    },
    {
      "cell_type": "code",
      "source": [
        "penguins.head()"
      ],
      "metadata": {
        "colab": {
          "base_uri": "https://localhost:8080/",
          "height": 206
        },
        "id": "qWPtAWrlwDFA",
        "outputId": "9ff1bb88-5c0b-420f-8309-02135483f478"
      },
      "execution_count": 48,
      "outputs": [
        {
          "output_type": "execute_result",
          "data": {
            "text/plain": [
              "   species  bill_length_mm  bill_depth_mm  flipper_length_mm  body_mass_g\n",
              "0        0            39.1           18.7              181.0       3750.0\n",
              "1        0            39.5           17.4              186.0       3800.0\n",
              "2        0            40.3           18.0              195.0       3250.0\n",
              "3        0             NaN            NaN                NaN          NaN\n",
              "4        0            36.7           19.3              193.0       3450.0"
            ],
            "text/html": [
              "\n",
              "  <div id=\"df-ba9130ab-c8ea-40ff-ba26-71b4ea94d615\" class=\"colab-df-container\">\n",
              "    <div>\n",
              "<style scoped>\n",
              "    .dataframe tbody tr th:only-of-type {\n",
              "        vertical-align: middle;\n",
              "    }\n",
              "\n",
              "    .dataframe tbody tr th {\n",
              "        vertical-align: top;\n",
              "    }\n",
              "\n",
              "    .dataframe thead th {\n",
              "        text-align: right;\n",
              "    }\n",
              "</style>\n",
              "<table border=\"1\" class=\"dataframe\">\n",
              "  <thead>\n",
              "    <tr style=\"text-align: right;\">\n",
              "      <th></th>\n",
              "      <th>species</th>\n",
              "      <th>bill_length_mm</th>\n",
              "      <th>bill_depth_mm</th>\n",
              "      <th>flipper_length_mm</th>\n",
              "      <th>body_mass_g</th>\n",
              "    </tr>\n",
              "  </thead>\n",
              "  <tbody>\n",
              "    <tr>\n",
              "      <th>0</th>\n",
              "      <td>0</td>\n",
              "      <td>39.1</td>\n",
              "      <td>18.7</td>\n",
              "      <td>181.0</td>\n",
              "      <td>3750.0</td>\n",
              "    </tr>\n",
              "    <tr>\n",
              "      <th>1</th>\n",
              "      <td>0</td>\n",
              "      <td>39.5</td>\n",
              "      <td>17.4</td>\n",
              "      <td>186.0</td>\n",
              "      <td>3800.0</td>\n",
              "    </tr>\n",
              "    <tr>\n",
              "      <th>2</th>\n",
              "      <td>0</td>\n",
              "      <td>40.3</td>\n",
              "      <td>18.0</td>\n",
              "      <td>195.0</td>\n",
              "      <td>3250.0</td>\n",
              "    </tr>\n",
              "    <tr>\n",
              "      <th>3</th>\n",
              "      <td>0</td>\n",
              "      <td>NaN</td>\n",
              "      <td>NaN</td>\n",
              "      <td>NaN</td>\n",
              "      <td>NaN</td>\n",
              "    </tr>\n",
              "    <tr>\n",
              "      <th>4</th>\n",
              "      <td>0</td>\n",
              "      <td>36.7</td>\n",
              "      <td>19.3</td>\n",
              "      <td>193.0</td>\n",
              "      <td>3450.0</td>\n",
              "    </tr>\n",
              "  </tbody>\n",
              "</table>\n",
              "</div>\n",
              "    <div class=\"colab-df-buttons\">\n",
              "\n",
              "  <div class=\"colab-df-container\">\n",
              "    <button class=\"colab-df-convert\" onclick=\"convertToInteractive('df-ba9130ab-c8ea-40ff-ba26-71b4ea94d615')\"\n",
              "            title=\"Convert this dataframe to an interactive table.\"\n",
              "            style=\"display:none;\">\n",
              "\n",
              "  <svg xmlns=\"http://www.w3.org/2000/svg\" height=\"24px\" viewBox=\"0 -960 960 960\">\n",
              "    <path d=\"M120-120v-720h720v720H120Zm60-500h600v-160H180v160Zm220 220h160v-160H400v160Zm0 220h160v-160H400v160ZM180-400h160v-160H180v160Zm440 0h160v-160H620v160ZM180-180h160v-160H180v160Zm440 0h160v-160H620v160Z\"/>\n",
              "  </svg>\n",
              "    </button>\n",
              "\n",
              "  <style>\n",
              "    .colab-df-container {\n",
              "      display:flex;\n",
              "      gap: 12px;\n",
              "    }\n",
              "\n",
              "    .colab-df-convert {\n",
              "      background-color: #E8F0FE;\n",
              "      border: none;\n",
              "      border-radius: 50%;\n",
              "      cursor: pointer;\n",
              "      display: none;\n",
              "      fill: #1967D2;\n",
              "      height: 32px;\n",
              "      padding: 0 0 0 0;\n",
              "      width: 32px;\n",
              "    }\n",
              "\n",
              "    .colab-df-convert:hover {\n",
              "      background-color: #E2EBFA;\n",
              "      box-shadow: 0px 1px 2px rgba(60, 64, 67, 0.3), 0px 1px 3px 1px rgba(60, 64, 67, 0.15);\n",
              "      fill: #174EA6;\n",
              "    }\n",
              "\n",
              "    .colab-df-buttons div {\n",
              "      margin-bottom: 4px;\n",
              "    }\n",
              "\n",
              "    [theme=dark] .colab-df-convert {\n",
              "      background-color: #3B4455;\n",
              "      fill: #D2E3FC;\n",
              "    }\n",
              "\n",
              "    [theme=dark] .colab-df-convert:hover {\n",
              "      background-color: #434B5C;\n",
              "      box-shadow: 0px 1px 3px 1px rgba(0, 0, 0, 0.15);\n",
              "      filter: drop-shadow(0px 1px 2px rgba(0, 0, 0, 0.3));\n",
              "      fill: #FFFFFF;\n",
              "    }\n",
              "  </style>\n",
              "\n",
              "    <script>\n",
              "      const buttonEl =\n",
              "        document.querySelector('#df-ba9130ab-c8ea-40ff-ba26-71b4ea94d615 button.colab-df-convert');\n",
              "      buttonEl.style.display =\n",
              "        google.colab.kernel.accessAllowed ? 'block' : 'none';\n",
              "\n",
              "      async function convertToInteractive(key) {\n",
              "        const element = document.querySelector('#df-ba9130ab-c8ea-40ff-ba26-71b4ea94d615');\n",
              "        const dataTable =\n",
              "          await google.colab.kernel.invokeFunction('convertToInteractive',\n",
              "                                                    [key], {});\n",
              "        if (!dataTable) return;\n",
              "\n",
              "        const docLinkHtml = 'Like what you see? Visit the ' +\n",
              "          '<a target=\"_blank\" href=https://colab.research.google.com/notebooks/data_table.ipynb>data table notebook</a>'\n",
              "          + ' to learn more about interactive tables.';\n",
              "        element.innerHTML = '';\n",
              "        dataTable['output_type'] = 'display_data';\n",
              "        await google.colab.output.renderOutput(dataTable, element);\n",
              "        const docLink = document.createElement('div');\n",
              "        docLink.innerHTML = docLinkHtml;\n",
              "        element.appendChild(docLink);\n",
              "      }\n",
              "    </script>\n",
              "  </div>\n",
              "\n",
              "\n",
              "<div id=\"df-ff1e3653-d81e-44f1-83ee-2c10c851078d\">\n",
              "  <button class=\"colab-df-quickchart\" onclick=\"quickchart('df-ff1e3653-d81e-44f1-83ee-2c10c851078d')\"\n",
              "            title=\"Suggest charts\"\n",
              "            style=\"display:none;\">\n",
              "\n",
              "<svg xmlns=\"http://www.w3.org/2000/svg\" height=\"24px\"viewBox=\"0 0 24 24\"\n",
              "     width=\"24px\">\n",
              "    <g>\n",
              "        <path d=\"M19 3H5c-1.1 0-2 .9-2 2v14c0 1.1.9 2 2 2h14c1.1 0 2-.9 2-2V5c0-1.1-.9-2-2-2zM9 17H7v-7h2v7zm4 0h-2V7h2v10zm4 0h-2v-4h2v4z\"/>\n",
              "    </g>\n",
              "</svg>\n",
              "  </button>\n",
              "\n",
              "<style>\n",
              "  .colab-df-quickchart {\n",
              "      --bg-color: #E8F0FE;\n",
              "      --fill-color: #1967D2;\n",
              "      --hover-bg-color: #E2EBFA;\n",
              "      --hover-fill-color: #174EA6;\n",
              "      --disabled-fill-color: #AAA;\n",
              "      --disabled-bg-color: #DDD;\n",
              "  }\n",
              "\n",
              "  [theme=dark] .colab-df-quickchart {\n",
              "      --bg-color: #3B4455;\n",
              "      --fill-color: #D2E3FC;\n",
              "      --hover-bg-color: #434B5C;\n",
              "      --hover-fill-color: #FFFFFF;\n",
              "      --disabled-bg-color: #3B4455;\n",
              "      --disabled-fill-color: #666;\n",
              "  }\n",
              "\n",
              "  .colab-df-quickchart {\n",
              "    background-color: var(--bg-color);\n",
              "    border: none;\n",
              "    border-radius: 50%;\n",
              "    cursor: pointer;\n",
              "    display: none;\n",
              "    fill: var(--fill-color);\n",
              "    height: 32px;\n",
              "    padding: 0;\n",
              "    width: 32px;\n",
              "  }\n",
              "\n",
              "  .colab-df-quickchart:hover {\n",
              "    background-color: var(--hover-bg-color);\n",
              "    box-shadow: 0 1px 2px rgba(60, 64, 67, 0.3), 0 1px 3px 1px rgba(60, 64, 67, 0.15);\n",
              "    fill: var(--button-hover-fill-color);\n",
              "  }\n",
              "\n",
              "  .colab-df-quickchart-complete:disabled,\n",
              "  .colab-df-quickchart-complete:disabled:hover {\n",
              "    background-color: var(--disabled-bg-color);\n",
              "    fill: var(--disabled-fill-color);\n",
              "    box-shadow: none;\n",
              "  }\n",
              "\n",
              "  .colab-df-spinner {\n",
              "    border: 2px solid var(--fill-color);\n",
              "    border-color: transparent;\n",
              "    border-bottom-color: var(--fill-color);\n",
              "    animation:\n",
              "      spin 1s steps(1) infinite;\n",
              "  }\n",
              "\n",
              "  @keyframes spin {\n",
              "    0% {\n",
              "      border-color: transparent;\n",
              "      border-bottom-color: var(--fill-color);\n",
              "      border-left-color: var(--fill-color);\n",
              "    }\n",
              "    20% {\n",
              "      border-color: transparent;\n",
              "      border-left-color: var(--fill-color);\n",
              "      border-top-color: var(--fill-color);\n",
              "    }\n",
              "    30% {\n",
              "      border-color: transparent;\n",
              "      border-left-color: var(--fill-color);\n",
              "      border-top-color: var(--fill-color);\n",
              "      border-right-color: var(--fill-color);\n",
              "    }\n",
              "    40% {\n",
              "      border-color: transparent;\n",
              "      border-right-color: var(--fill-color);\n",
              "      border-top-color: var(--fill-color);\n",
              "    }\n",
              "    60% {\n",
              "      border-color: transparent;\n",
              "      border-right-color: var(--fill-color);\n",
              "    }\n",
              "    80% {\n",
              "      border-color: transparent;\n",
              "      border-right-color: var(--fill-color);\n",
              "      border-bottom-color: var(--fill-color);\n",
              "    }\n",
              "    90% {\n",
              "      border-color: transparent;\n",
              "      border-bottom-color: var(--fill-color);\n",
              "    }\n",
              "  }\n",
              "</style>\n",
              "\n",
              "  <script>\n",
              "    async function quickchart(key) {\n",
              "      const quickchartButtonEl =\n",
              "        document.querySelector('#' + key + ' button');\n",
              "      quickchartButtonEl.disabled = true;  // To prevent multiple clicks.\n",
              "      quickchartButtonEl.classList.add('colab-df-spinner');\n",
              "      try {\n",
              "        const charts = await google.colab.kernel.invokeFunction(\n",
              "            'suggestCharts', [key], {});\n",
              "      } catch (error) {\n",
              "        console.error('Error during call to suggestCharts:', error);\n",
              "      }\n",
              "      quickchartButtonEl.classList.remove('colab-df-spinner');\n",
              "      quickchartButtonEl.classList.add('colab-df-quickchart-complete');\n",
              "    }\n",
              "    (() => {\n",
              "      let quickchartButtonEl =\n",
              "        document.querySelector('#df-ff1e3653-d81e-44f1-83ee-2c10c851078d button');\n",
              "      quickchartButtonEl.style.display =\n",
              "        google.colab.kernel.accessAllowed ? 'block' : 'none';\n",
              "    })();\n",
              "  </script>\n",
              "</div>\n",
              "\n",
              "    </div>\n",
              "  </div>\n"
            ],
            "application/vnd.google.colaboratory.intrinsic+json": {
              "type": "dataframe",
              "variable_name": "penguins",
              "summary": "{\n  \"name\": \"penguins\",\n  \"rows\": 344,\n  \"fields\": [\n    {\n      \"column\": \"species\",\n      \"properties\": {\n        \"dtype\": \"number\",\n        \"std\": 0,\n        \"min\": 0,\n        \"max\": 2,\n        \"num_unique_values\": 3,\n        \"samples\": [\n          0,\n          2,\n          1\n        ],\n        \"semantic_type\": \"\",\n        \"description\": \"\"\n      }\n    },\n    {\n      \"column\": \"bill_length_mm\",\n      \"properties\": {\n        \"dtype\": \"number\",\n        \"std\": 5.459583713926532,\n        \"min\": 32.1,\n        \"max\": 59.6,\n        \"num_unique_values\": 164,\n        \"samples\": [\n          48.2,\n          49.8,\n          45.1\n        ],\n        \"semantic_type\": \"\",\n        \"description\": \"\"\n      }\n    },\n    {\n      \"column\": \"bill_depth_mm\",\n      \"properties\": {\n        \"dtype\": \"number\",\n        \"std\": 1.9747931568167816,\n        \"min\": 13.1,\n        \"max\": 21.5,\n        \"num_unique_values\": 80,\n        \"samples\": [\n          16.9,\n          18.7,\n          18.6\n        ],\n        \"semantic_type\": \"\",\n        \"description\": \"\"\n      }\n    },\n    {\n      \"column\": \"flipper_length_mm\",\n      \"properties\": {\n        \"dtype\": \"number\",\n        \"std\": 14.061713679356894,\n        \"min\": 172.0,\n        \"max\": 231.0,\n        \"num_unique_values\": 55,\n        \"samples\": [\n          201.0,\n          180.0,\n          212.0\n        ],\n        \"semantic_type\": \"\",\n        \"description\": \"\"\n      }\n    },\n    {\n      \"column\": \"body_mass_g\",\n      \"properties\": {\n        \"dtype\": \"number\",\n        \"std\": 801.9545356980954,\n        \"min\": 2700.0,\n        \"max\": 6300.0,\n        \"num_unique_values\": 94,\n        \"samples\": [\n          4350.0,\n          4150.0,\n          3525.0\n        ],\n        \"semantic_type\": \"\",\n        \"description\": \"\"\n      }\n    }\n  ]\n}"
            }
          },
          "metadata": {},
          "execution_count": 48
        }
      ]
    },
    {
      "cell_type": "markdown",
      "source": [
        "Splitting the dataset to train and test"
      ],
      "metadata": {
        "id": "8eJSH6iGwbxg"
      }
    },
    {
      "cell_type": "code",
      "source": [
        "#test_size bydefault is 75-25 if not specified\n",
        "\n",
        "x_train, x_test, y_train,y_test = train_test_split(x, y, random_state=47 )\n"
      ],
      "metadata": {
        "id": "3wipExA4wmjK"
      },
      "execution_count": 49,
      "outputs": []
    },
    {
      "cell_type": "code",
      "source": [
        "x_train.shape, x_test.shape, x.shape"
      ],
      "metadata": {
        "id": "qkcM6MtNx16v",
        "outputId": "a88f12d1-6c3b-4489-be37-029852d83eba",
        "colab": {
          "base_uri": "https://localhost:8080/"
        }
      },
      "execution_count": 50,
      "outputs": [
        {
          "output_type": "execute_result",
          "data": {
            "text/plain": [
              "((258, 4), (86, 4), (344, 4))"
            ]
          },
          "metadata": {},
          "execution_count": 50
        }
      ]
    },
    {
      "cell_type": "markdown",
      "source": [
        "Fitting the model to the training data"
      ],
      "metadata": {
        "id": "XChMIPEyyTjP"
      }
    },
    {
      "cell_type": "code",
      "source": [
        "#depth intially set to two so splitting into two branches\n",
        "dt = DecisionTreeClassifier(max_depth=2)\n",
        "dt.fit(x_train, y_train)"
      ],
      "metadata": {
        "id": "IiQrL_uIyYRo",
        "outputId": "badcbab6-63c3-4b5d-f7eb-833ebcd0a3ef",
        "colab": {
          "base_uri": "https://localhost:8080/",
          "height": 80
        }
      },
      "execution_count": 51,
      "outputs": [
        {
          "output_type": "execute_result",
          "data": {
            "text/plain": [
              "DecisionTreeClassifier(max_depth=2)"
            ],
            "text/html": [
              "<style>#sk-container-id-2 {\n",
              "  /* Definition of color scheme common for light and dark mode */\n",
              "  --sklearn-color-text: black;\n",
              "  --sklearn-color-line: gray;\n",
              "  /* Definition of color scheme for unfitted estimators */\n",
              "  --sklearn-color-unfitted-level-0: #fff5e6;\n",
              "  --sklearn-color-unfitted-level-1: #f6e4d2;\n",
              "  --sklearn-color-unfitted-level-2: #ffe0b3;\n",
              "  --sklearn-color-unfitted-level-3: chocolate;\n",
              "  /* Definition of color scheme for fitted estimators */\n",
              "  --sklearn-color-fitted-level-0: #f0f8ff;\n",
              "  --sklearn-color-fitted-level-1: #d4ebff;\n",
              "  --sklearn-color-fitted-level-2: #b3dbfd;\n",
              "  --sklearn-color-fitted-level-3: cornflowerblue;\n",
              "\n",
              "  /* Specific color for light theme */\n",
              "  --sklearn-color-text-on-default-background: var(--sg-text-color, var(--theme-code-foreground, var(--jp-content-font-color1, black)));\n",
              "  --sklearn-color-background: var(--sg-background-color, var(--theme-background, var(--jp-layout-color0, white)));\n",
              "  --sklearn-color-border-box: var(--sg-text-color, var(--theme-code-foreground, var(--jp-content-font-color1, black)));\n",
              "  --sklearn-color-icon: #696969;\n",
              "\n",
              "  @media (prefers-color-scheme: dark) {\n",
              "    /* Redefinition of color scheme for dark theme */\n",
              "    --sklearn-color-text-on-default-background: var(--sg-text-color, var(--theme-code-foreground, var(--jp-content-font-color1, white)));\n",
              "    --sklearn-color-background: var(--sg-background-color, var(--theme-background, var(--jp-layout-color0, #111)));\n",
              "    --sklearn-color-border-box: var(--sg-text-color, var(--theme-code-foreground, var(--jp-content-font-color1, white)));\n",
              "    --sklearn-color-icon: #878787;\n",
              "  }\n",
              "}\n",
              "\n",
              "#sk-container-id-2 {\n",
              "  color: var(--sklearn-color-text);\n",
              "}\n",
              "\n",
              "#sk-container-id-2 pre {\n",
              "  padding: 0;\n",
              "}\n",
              "\n",
              "#sk-container-id-2 input.sk-hidden--visually {\n",
              "  border: 0;\n",
              "  clip: rect(1px 1px 1px 1px);\n",
              "  clip: rect(1px, 1px, 1px, 1px);\n",
              "  height: 1px;\n",
              "  margin: -1px;\n",
              "  overflow: hidden;\n",
              "  padding: 0;\n",
              "  position: absolute;\n",
              "  width: 1px;\n",
              "}\n",
              "\n",
              "#sk-container-id-2 div.sk-dashed-wrapped {\n",
              "  border: 1px dashed var(--sklearn-color-line);\n",
              "  margin: 0 0.4em 0.5em 0.4em;\n",
              "  box-sizing: border-box;\n",
              "  padding-bottom: 0.4em;\n",
              "  background-color: var(--sklearn-color-background);\n",
              "}\n",
              "\n",
              "#sk-container-id-2 div.sk-container {\n",
              "  /* jupyter's `normalize.less` sets `[hidden] { display: none; }`\n",
              "     but bootstrap.min.css set `[hidden] { display: none !important; }`\n",
              "     so we also need the `!important` here to be able to override the\n",
              "     default hidden behavior on the sphinx rendered scikit-learn.org.\n",
              "     See: https://github.com/scikit-learn/scikit-learn/issues/21755 */\n",
              "  display: inline-block !important;\n",
              "  position: relative;\n",
              "}\n",
              "\n",
              "#sk-container-id-2 div.sk-text-repr-fallback {\n",
              "  display: none;\n",
              "}\n",
              "\n",
              "div.sk-parallel-item,\n",
              "div.sk-serial,\n",
              "div.sk-item {\n",
              "  /* draw centered vertical line to link estimators */\n",
              "  background-image: linear-gradient(var(--sklearn-color-text-on-default-background), var(--sklearn-color-text-on-default-background));\n",
              "  background-size: 2px 100%;\n",
              "  background-repeat: no-repeat;\n",
              "  background-position: center center;\n",
              "}\n",
              "\n",
              "/* Parallel-specific style estimator block */\n",
              "\n",
              "#sk-container-id-2 div.sk-parallel-item::after {\n",
              "  content: \"\";\n",
              "  width: 100%;\n",
              "  border-bottom: 2px solid var(--sklearn-color-text-on-default-background);\n",
              "  flex-grow: 1;\n",
              "}\n",
              "\n",
              "#sk-container-id-2 div.sk-parallel {\n",
              "  display: flex;\n",
              "  align-items: stretch;\n",
              "  justify-content: center;\n",
              "  background-color: var(--sklearn-color-background);\n",
              "  position: relative;\n",
              "}\n",
              "\n",
              "#sk-container-id-2 div.sk-parallel-item {\n",
              "  display: flex;\n",
              "  flex-direction: column;\n",
              "}\n",
              "\n",
              "#sk-container-id-2 div.sk-parallel-item:first-child::after {\n",
              "  align-self: flex-end;\n",
              "  width: 50%;\n",
              "}\n",
              "\n",
              "#sk-container-id-2 div.sk-parallel-item:last-child::after {\n",
              "  align-self: flex-start;\n",
              "  width: 50%;\n",
              "}\n",
              "\n",
              "#sk-container-id-2 div.sk-parallel-item:only-child::after {\n",
              "  width: 0;\n",
              "}\n",
              "\n",
              "/* Serial-specific style estimator block */\n",
              "\n",
              "#sk-container-id-2 div.sk-serial {\n",
              "  display: flex;\n",
              "  flex-direction: column;\n",
              "  align-items: center;\n",
              "  background-color: var(--sklearn-color-background);\n",
              "  padding-right: 1em;\n",
              "  padding-left: 1em;\n",
              "}\n",
              "\n",
              "\n",
              "/* Toggleable style: style used for estimator/Pipeline/ColumnTransformer box that is\n",
              "clickable and can be expanded/collapsed.\n",
              "- Pipeline and ColumnTransformer use this feature and define the default style\n",
              "- Estimators will overwrite some part of the style using the `sk-estimator` class\n",
              "*/\n",
              "\n",
              "/* Pipeline and ColumnTransformer style (default) */\n",
              "\n",
              "#sk-container-id-2 div.sk-toggleable {\n",
              "  /* Default theme specific background. It is overwritten whether we have a\n",
              "  specific estimator or a Pipeline/ColumnTransformer */\n",
              "  background-color: var(--sklearn-color-background);\n",
              "}\n",
              "\n",
              "/* Toggleable label */\n",
              "#sk-container-id-2 label.sk-toggleable__label {\n",
              "  cursor: pointer;\n",
              "  display: block;\n",
              "  width: 100%;\n",
              "  margin-bottom: 0;\n",
              "  padding: 0.5em;\n",
              "  box-sizing: border-box;\n",
              "  text-align: center;\n",
              "}\n",
              "\n",
              "#sk-container-id-2 label.sk-toggleable__label-arrow:before {\n",
              "  /* Arrow on the left of the label */\n",
              "  content: \"▸\";\n",
              "  float: left;\n",
              "  margin-right: 0.25em;\n",
              "  color: var(--sklearn-color-icon);\n",
              "}\n",
              "\n",
              "#sk-container-id-2 label.sk-toggleable__label-arrow:hover:before {\n",
              "  color: var(--sklearn-color-text);\n",
              "}\n",
              "\n",
              "/* Toggleable content - dropdown */\n",
              "\n",
              "#sk-container-id-2 div.sk-toggleable__content {\n",
              "  max-height: 0;\n",
              "  max-width: 0;\n",
              "  overflow: hidden;\n",
              "  text-align: left;\n",
              "  /* unfitted */\n",
              "  background-color: var(--sklearn-color-unfitted-level-0);\n",
              "}\n",
              "\n",
              "#sk-container-id-2 div.sk-toggleable__content.fitted {\n",
              "  /* fitted */\n",
              "  background-color: var(--sklearn-color-fitted-level-0);\n",
              "}\n",
              "\n",
              "#sk-container-id-2 div.sk-toggleable__content pre {\n",
              "  margin: 0.2em;\n",
              "  border-radius: 0.25em;\n",
              "  color: var(--sklearn-color-text);\n",
              "  /* unfitted */\n",
              "  background-color: var(--sklearn-color-unfitted-level-0);\n",
              "}\n",
              "\n",
              "#sk-container-id-2 div.sk-toggleable__content.fitted pre {\n",
              "  /* unfitted */\n",
              "  background-color: var(--sklearn-color-fitted-level-0);\n",
              "}\n",
              "\n",
              "#sk-container-id-2 input.sk-toggleable__control:checked~div.sk-toggleable__content {\n",
              "  /* Expand drop-down */\n",
              "  max-height: 200px;\n",
              "  max-width: 100%;\n",
              "  overflow: auto;\n",
              "}\n",
              "\n",
              "#sk-container-id-2 input.sk-toggleable__control:checked~label.sk-toggleable__label-arrow:before {\n",
              "  content: \"▾\";\n",
              "}\n",
              "\n",
              "/* Pipeline/ColumnTransformer-specific style */\n",
              "\n",
              "#sk-container-id-2 div.sk-label input.sk-toggleable__control:checked~label.sk-toggleable__label {\n",
              "  color: var(--sklearn-color-text);\n",
              "  background-color: var(--sklearn-color-unfitted-level-2);\n",
              "}\n",
              "\n",
              "#sk-container-id-2 div.sk-label.fitted input.sk-toggleable__control:checked~label.sk-toggleable__label {\n",
              "  background-color: var(--sklearn-color-fitted-level-2);\n",
              "}\n",
              "\n",
              "/* Estimator-specific style */\n",
              "\n",
              "/* Colorize estimator box */\n",
              "#sk-container-id-2 div.sk-estimator input.sk-toggleable__control:checked~label.sk-toggleable__label {\n",
              "  /* unfitted */\n",
              "  background-color: var(--sklearn-color-unfitted-level-2);\n",
              "}\n",
              "\n",
              "#sk-container-id-2 div.sk-estimator.fitted input.sk-toggleable__control:checked~label.sk-toggleable__label {\n",
              "  /* fitted */\n",
              "  background-color: var(--sklearn-color-fitted-level-2);\n",
              "}\n",
              "\n",
              "#sk-container-id-2 div.sk-label label.sk-toggleable__label,\n",
              "#sk-container-id-2 div.sk-label label {\n",
              "  /* The background is the default theme color */\n",
              "  color: var(--sklearn-color-text-on-default-background);\n",
              "}\n",
              "\n",
              "/* On hover, darken the color of the background */\n",
              "#sk-container-id-2 div.sk-label:hover label.sk-toggleable__label {\n",
              "  color: var(--sklearn-color-text);\n",
              "  background-color: var(--sklearn-color-unfitted-level-2);\n",
              "}\n",
              "\n",
              "/* Label box, darken color on hover, fitted */\n",
              "#sk-container-id-2 div.sk-label.fitted:hover label.sk-toggleable__label.fitted {\n",
              "  color: var(--sklearn-color-text);\n",
              "  background-color: var(--sklearn-color-fitted-level-2);\n",
              "}\n",
              "\n",
              "/* Estimator label */\n",
              "\n",
              "#sk-container-id-2 div.sk-label label {\n",
              "  font-family: monospace;\n",
              "  font-weight: bold;\n",
              "  display: inline-block;\n",
              "  line-height: 1.2em;\n",
              "}\n",
              "\n",
              "#sk-container-id-2 div.sk-label-container {\n",
              "  text-align: center;\n",
              "}\n",
              "\n",
              "/* Estimator-specific */\n",
              "#sk-container-id-2 div.sk-estimator {\n",
              "  font-family: monospace;\n",
              "  border: 1px dotted var(--sklearn-color-border-box);\n",
              "  border-radius: 0.25em;\n",
              "  box-sizing: border-box;\n",
              "  margin-bottom: 0.5em;\n",
              "  /* unfitted */\n",
              "  background-color: var(--sklearn-color-unfitted-level-0);\n",
              "}\n",
              "\n",
              "#sk-container-id-2 div.sk-estimator.fitted {\n",
              "  /* fitted */\n",
              "  background-color: var(--sklearn-color-fitted-level-0);\n",
              "}\n",
              "\n",
              "/* on hover */\n",
              "#sk-container-id-2 div.sk-estimator:hover {\n",
              "  /* unfitted */\n",
              "  background-color: var(--sklearn-color-unfitted-level-2);\n",
              "}\n",
              "\n",
              "#sk-container-id-2 div.sk-estimator.fitted:hover {\n",
              "  /* fitted */\n",
              "  background-color: var(--sklearn-color-fitted-level-2);\n",
              "}\n",
              "\n",
              "/* Specification for estimator info (e.g. \"i\" and \"?\") */\n",
              "\n",
              "/* Common style for \"i\" and \"?\" */\n",
              "\n",
              ".sk-estimator-doc-link,\n",
              "a:link.sk-estimator-doc-link,\n",
              "a:visited.sk-estimator-doc-link {\n",
              "  float: right;\n",
              "  font-size: smaller;\n",
              "  line-height: 1em;\n",
              "  font-family: monospace;\n",
              "  background-color: var(--sklearn-color-background);\n",
              "  border-radius: 1em;\n",
              "  height: 1em;\n",
              "  width: 1em;\n",
              "  text-decoration: none !important;\n",
              "  margin-left: 1ex;\n",
              "  /* unfitted */\n",
              "  border: var(--sklearn-color-unfitted-level-1) 1pt solid;\n",
              "  color: var(--sklearn-color-unfitted-level-1);\n",
              "}\n",
              "\n",
              ".sk-estimator-doc-link.fitted,\n",
              "a:link.sk-estimator-doc-link.fitted,\n",
              "a:visited.sk-estimator-doc-link.fitted {\n",
              "  /* fitted */\n",
              "  border: var(--sklearn-color-fitted-level-1) 1pt solid;\n",
              "  color: var(--sklearn-color-fitted-level-1);\n",
              "}\n",
              "\n",
              "/* On hover */\n",
              "div.sk-estimator:hover .sk-estimator-doc-link:hover,\n",
              ".sk-estimator-doc-link:hover,\n",
              "div.sk-label-container:hover .sk-estimator-doc-link:hover,\n",
              ".sk-estimator-doc-link:hover {\n",
              "  /* unfitted */\n",
              "  background-color: var(--sklearn-color-unfitted-level-3);\n",
              "  color: var(--sklearn-color-background);\n",
              "  text-decoration: none;\n",
              "}\n",
              "\n",
              "div.sk-estimator.fitted:hover .sk-estimator-doc-link.fitted:hover,\n",
              ".sk-estimator-doc-link.fitted:hover,\n",
              "div.sk-label-container:hover .sk-estimator-doc-link.fitted:hover,\n",
              ".sk-estimator-doc-link.fitted:hover {\n",
              "  /* fitted */\n",
              "  background-color: var(--sklearn-color-fitted-level-3);\n",
              "  color: var(--sklearn-color-background);\n",
              "  text-decoration: none;\n",
              "}\n",
              "\n",
              "/* Span, style for the box shown on hovering the info icon */\n",
              ".sk-estimator-doc-link span {\n",
              "  display: none;\n",
              "  z-index: 9999;\n",
              "  position: relative;\n",
              "  font-weight: normal;\n",
              "  right: .2ex;\n",
              "  padding: .5ex;\n",
              "  margin: .5ex;\n",
              "  width: min-content;\n",
              "  min-width: 20ex;\n",
              "  max-width: 50ex;\n",
              "  color: var(--sklearn-color-text);\n",
              "  box-shadow: 2pt 2pt 4pt #999;\n",
              "  /* unfitted */\n",
              "  background: var(--sklearn-color-unfitted-level-0);\n",
              "  border: .5pt solid var(--sklearn-color-unfitted-level-3);\n",
              "}\n",
              "\n",
              ".sk-estimator-doc-link.fitted span {\n",
              "  /* fitted */\n",
              "  background: var(--sklearn-color-fitted-level-0);\n",
              "  border: var(--sklearn-color-fitted-level-3);\n",
              "}\n",
              "\n",
              ".sk-estimator-doc-link:hover span {\n",
              "  display: block;\n",
              "}\n",
              "\n",
              "/* \"?\"-specific style due to the `<a>` HTML tag */\n",
              "\n",
              "#sk-container-id-2 a.estimator_doc_link {\n",
              "  float: right;\n",
              "  font-size: 1rem;\n",
              "  line-height: 1em;\n",
              "  font-family: monospace;\n",
              "  background-color: var(--sklearn-color-background);\n",
              "  border-radius: 1rem;\n",
              "  height: 1rem;\n",
              "  width: 1rem;\n",
              "  text-decoration: none;\n",
              "  /* unfitted */\n",
              "  color: var(--sklearn-color-unfitted-level-1);\n",
              "  border: var(--sklearn-color-unfitted-level-1) 1pt solid;\n",
              "}\n",
              "\n",
              "#sk-container-id-2 a.estimator_doc_link.fitted {\n",
              "  /* fitted */\n",
              "  border: var(--sklearn-color-fitted-level-1) 1pt solid;\n",
              "  color: var(--sklearn-color-fitted-level-1);\n",
              "}\n",
              "\n",
              "/* On hover */\n",
              "#sk-container-id-2 a.estimator_doc_link:hover {\n",
              "  /* unfitted */\n",
              "  background-color: var(--sklearn-color-unfitted-level-3);\n",
              "  color: var(--sklearn-color-background);\n",
              "  text-decoration: none;\n",
              "}\n",
              "\n",
              "#sk-container-id-2 a.estimator_doc_link.fitted:hover {\n",
              "  /* fitted */\n",
              "  background-color: var(--sklearn-color-fitted-level-3);\n",
              "}\n",
              "</style><div id=\"sk-container-id-2\" class=\"sk-top-container\"><div class=\"sk-text-repr-fallback\"><pre>DecisionTreeClassifier(max_depth=2)</pre><b>In a Jupyter environment, please rerun this cell to show the HTML representation or trust the notebook. <br />On GitHub, the HTML representation is unable to render, please try loading this page with nbviewer.org.</b></div><div class=\"sk-container\" hidden><div class=\"sk-item\"><div class=\"sk-estimator fitted sk-toggleable\"><input class=\"sk-toggleable__control sk-hidden--visually\" id=\"sk-estimator-id-2\" type=\"checkbox\" checked><label for=\"sk-estimator-id-2\" class=\"sk-toggleable__label fitted sk-toggleable__label-arrow fitted\">&nbsp;&nbsp;DecisionTreeClassifier<a class=\"sk-estimator-doc-link fitted\" rel=\"noreferrer\" target=\"_blank\" href=\"https://scikit-learn.org/1.5/modules/generated/sklearn.tree.DecisionTreeClassifier.html\">?<span>Documentation for DecisionTreeClassifier</span></a><span class=\"sk-estimator-doc-link fitted\">i<span>Fitted</span></span></label><div class=\"sk-toggleable__content fitted\"><pre>DecisionTreeClassifier(max_depth=2)</pre></div> </div></div></div></div>"
            ]
          },
          "metadata": {},
          "execution_count": 51
        }
      ]
    },
    {
      "cell_type": "code",
      "source": [
        "balanced_accuracy_score(y_test, dt.predict(x_test))"
      ],
      "metadata": {
        "id": "IdYg2wXFyjMZ",
        "outputId": "365642e6-fd53-4efd-ec8d-f273db71418e",
        "colab": {
          "base_uri": "https://localhost:8080/"
        }
      },
      "execution_count": 52,
      "outputs": [
        {
          "output_type": "execute_result",
          "data": {
            "text/plain": [
              "0.9440971510555443"
            ]
          },
          "metadata": {},
          "execution_count": 52
        }
      ]
    },
    {
      "cell_type": "code",
      "source": [
        "balanced_accuracy_score(y_train, dt.predict(x_train))"
      ],
      "metadata": {
        "id": "iKi3-5MszVUR",
        "outputId": "6bf9303b-d2e8-4777-a61c-8619252d881f",
        "colab": {
          "base_uri": "https://localhost:8080/"
        }
      },
      "execution_count": 53,
      "outputs": [
        {
          "output_type": "execute_result",
          "data": {
            "text/plain": [
              "0.9548997526938704"
            ]
          },
          "metadata": {},
          "execution_count": 53
        }
      ]
    },
    {
      "cell_type": "code",
      "source": [
        "ConfusionMatrixDisplay(confusion_matrix= confusion_matrix(y_test, dt.predict(x_test))).plot()"
      ],
      "metadata": {
        "id": "EI7iJYyo2h3k",
        "outputId": "de6627ab-960b-401e-d955-cfbdbdbfe9fe",
        "colab": {
          "base_uri": "https://localhost:8080/",
          "height": 405
        }
      },
      "execution_count": 54,
      "outputs": [
        {
          "output_type": "execute_result",
          "data": {
            "text/plain": [
              "<sklearn.metrics._plot.confusion_matrix.ConfusionMatrixDisplay at 0x7c16d0500820>"
            ]
          },
          "metadata": {},
          "execution_count": 54
        },
        {
          "output_type": "display_data",
          "data": {
            "text/plain": [
              "<Figure size 600x400 with 2 Axes>"
            ],
            "image/png": "[encoded data removed]"
          },
          "metadata": {
            "image/png": {
              "width": 432,
              "height": 371
            }
          }
        }
      ]
    },
    {
      "cell_type": "code",
      "source": [
        "print(export_text(dt, feature_names= x.columns, class_names=['Adelie', 'Chinstrap', 'Gentoo']))"
      ],
      "metadata": {
        "id": "7qRJCJhg5fvc",
        "outputId": "6983095a-043e-482c-b63a-de955da9e129",
        "colab": {
          "base_uri": "https://localhost:8080/"
        }
      },
      "execution_count": 55,
      "outputs": [
        {
          "output_type": "stream",
          "name": "stdout",
          "text": [
            "|--- flipper_length_mm <= 207.50\n",
            "|   |--- bill_length_mm <= 43.35\n",
            "|   |   |--- class: Adelie\n",
            "|   |--- bill_length_mm >  43.35\n",
            "|   |   |--- class: Gentoo\n",
            "|--- flipper_length_mm >  207.50\n",
            "|   |--- bill_depth_mm <= 18.10\n",
            "|   |   |--- class: Chinstrap\n",
            "|   |--- bill_depth_mm >  18.10\n",
            "|   |   |--- class: Gentoo\n",
            "\n"
          ]
        }
      ]
    },
    {
      "cell_type": "code",
      "source": [
        "penguins['species'].unique()"
      ],
      "metadata": {
        "id": "_yiqG4Eu5hSr",
        "outputId": "4d93123a-ec83-4b53-a5fd-3b2ac7cf386d",
        "colab": {
          "base_uri": "https://localhost:8080/"
        }
      },
      "execution_count": 56,
      "outputs": [
        {
          "output_type": "execute_result",
          "data": {
            "text/plain": [
              "array([0, 2, 1])"
            ]
          },
          "metadata": {},
          "execution_count": 56
        }
      ]
    },
    {
      "cell_type": "code",
      "source": [
        "dtviz = dtreeviz.model(dt, x, y, target_name='species', feature_names=x.columns, class_names= ['Adelie', 'Chinstrap', 'Gentoo'])"
      ],
      "metadata": {
        "id": "_X0_EsVc7LHw"
      },
      "execution_count": 57,
      "outputs": []
    },
    {
      "cell_type": "code",
      "source": [
        "dtviz.view(scale=1.5, fontname='sans-serif')"
      ],
      "metadata": {
        "id": "Q_B0BpwY7jFO",
        "outputId": "ca17b061-3d0e-4fc7-be5d-6cf61b56405c",
        "colab": {
          "base_uri": "https://localhost:8080/",
          "height": 521
        }
      },
      "execution_count": 58,
      "outputs": [
        {
          "output_type": "stream",
          "name": "stderr",
          "text": [
            "/usr/local/lib/python3.10/dist-packages/sklearn/base.py:493: UserWarning: X does not have valid feature names, but DecisionTreeClassifier was fitted with feature names\n"
          ]
        },
        {
          "output_type": "execute_result",
          "data": {
            "text/plain": [
              "<dtreeviz.utils.DTreeVizRender at 0x7c16cf4de230>"
            ],
            "image/svg+xml": "<svg xmlns=\"http://www.w3.org/2000/svg\" xmlns:dc=\"http://purl.org/dc/elements/1.1/\" xmlns:ns2=\"http://creativecommons.org/ns#\" xmlns:rdf=\"http://www.w3.org/1999/02/22-rdf-syntax-ns#\" xmlns:xlink=\"http://www.w3.org/1999/xlink\" width=\"532.5\" height=\"462.0\" viewBox=\"0.0 0.0 532.5 462.0\">\n<g id=\"graph0\" class=\"graph\" transform=\"scale(1.5 1.5) rotate(0) translate(4 304)\">\n<title>G</title>\n<polygon fill=\"white\" stroke=\"transparent\" points=\"-4,4 -4,-304 351,-304 351,4 -4,4\" />\n<g id=\"clust4\" class=\"cluster\">\n<title>cluster_legend</title>\n</g>\n\n<g id=\"node1\" class=\"node\">\n<title>node1</title>\n<svg width=\"150px\" height=\"64px\" viewBox=\"0 0 201.32 86.229375\" version=\"1.1\" preserveAspectRatio=\"xMinYMin meet\" x=\"20\" y=\"-169\">\n <metadata>\n  <rdf:RDF>\n   <ns2:Work>\n    <dc:type rdf:resource=\"http://purl.org/dc/dcmitype/StillImage\" />\n    <dc:date>2024-10-16T15:26:01.573342</dc:date>\n    <dc:format>image/svg+xml</dc:format>\n    <dc:creator>\n     <ns2:Agent>\n      <dc:title>Matplotlib v3.7.1, https://matplotlib.org/</dc:title>\n     </ns2:Agent>\n    </dc:creator>\n   </ns2:Work>\n  </rdf:RDF>\n </metadata>\n <defs>\n  <style type=\"text/css\">*{stroke-linejoin: round; stroke-linecap: butt}</style>\n </defs>\n <g id=\"figure_1\">\n  <g id=\"patch_1\">\n   <path d=\"M 0 86.229375  L 201.32 86.229375  L 201.32 0  L 0 0  z \" style=\"fill: #ffffff\" />\n  </g>\n  <g id=\"axes_1\">\n   <g id=\"patch_2\">\n    <path d=\"M 17.18 51.039375  L 201.32 51.039375  L 201.32 0.639375  L 17.18 0.639375  z \" style=\"fill: #ffffff\" />\n   </g>\n   <g id=\"matplotlib.axis_1\">\n    <g id=\"xtick_1\">\n     <g id=\"line2d_1\">\n      <defs>\n       <path id=\"m26eeb489e5\" d=\"M 0 0  L 0 3.5  \" style=\"stroke: #262626; stroke-width: 0.3\" />\n      </defs>\n      <g>\n       <use xlink:href=\"#m26eeb489e5\" x=\"34.717143\" y=\"51.039375\" style=\"fill: #262626; stroke: #262626; stroke-width: 0.3\" />\n      </g>\n     </g>\n     <g id=\"text_1\">\n      \n      <g style=\"fill: #444443\" transform=\"translate(23.265893 68.618125) scale(0.08 -0.08)\">\n       <defs>\n        <path id=\"DejaVuSans-33\" d=\"M 2597 2516  Q 3050 2419 3304 2112  Q 3559 1806 3559 1356  Q 3559 666 3084 287  Q 2609 -91 1734 -91  Q 1441 -91 1130 -33  Q 819 25 488 141  L 488 750  Q 750 597 1062 519  Q 1375 441 1716 441  Q 2309 441 2620 675  Q 2931 909 2931 1356  Q 2931 1769 2642 2001  Q 2353 2234 1838 2234  L 1294 2234  L 1294 2753  L 1863 2753  Q 2328 2753 2575 2939  Q 2822 3125 2822 3475  Q 2822 3834 2567 4026  Q 2313 4219 1838 4219  Q 1578 4219 1281 4162  Q 984 4106 628 3988  L 628 4550  Q 988 4650 1302 4700  Q 1616 4750 1894 4750  Q 2613 4750 3031 4423  Q 3450 4097 3450 3541  Q 3450 3153 3228 2886  Q 3006 2619 2597 2516  z \" transform=\"scale(0.015625)\" />\n        <path id=\"DejaVuSans-32\" d=\"M 1228 531  L 3431 531  L 3431 0  L 469 0  L 469 531  Q 828 903 1448 1529  Q 2069 2156 2228 2338  Q 2531 2678 2651 2914  Q 2772 3150 2772 3378  Q 2772 3750 2511 3984  Q 2250 4219 1831 4219  Q 1534 4219 1204 4116  Q 875 4013 500 3803  L 500 4441  Q 881 4594 1212 4672  Q 1544 4750 1819 4750  Q 2544 4750 2975 4387  Q 3406 4025 3406 3419  Q 3406 3131 3298 2873  Q 3191 2616 2906 2266  Q 2828 2175 2409 1742  Q 1991 1309 1228 531  z \" transform=\"scale(0.015625)\" />\n        <path id=\"DejaVuSans-2e\" d=\"M 684 794  L 1344 794  L 1344 0  L 684 0  L 684 794  z \" transform=\"scale(0.015625)\" />\n        <path id=\"DejaVuSans-31\" d=\"M 794 531  L 1825 531  L 1825 4091  L 703 3866  L 703 4441  L 1819 4666  L 2450 4666  L 2450 531  L 3481 531  L 3481 0  L 794 0  L 794 531  z \" transform=\"scale(0.015625)\" />\n        <path id=\"DejaVuSans-30\" d=\"M 2034 4250  Q 1547 4250 1301 3770  Q 1056 3291 1056 2328  Q 1056 1369 1301 889  Q 1547 409 2034 409  Q 2525 409 2770 889  Q 3016 1369 3016 2328  Q 3016 3291 2770 3770  Q 2525 4250 2034 4250  z M 2034 4750  Q 2819 4750 3233 4129  Q 3647 3509 3647 2328  Q 3647 1150 3233 529  Q 2819 -91 2034 -91  Q 1250 -91 836 529  Q 422 1150 422 2328  Q 422 3509 836 4129  Q 1250 4750 2034 4750  z \" transform=\"scale(0.015625)\" />\n       </defs>\n       <use xlink:href=\"#DejaVuSans-33\" />\n       <use xlink:href=\"#DejaVuSans-32\" x=\"63.623047\" />\n       <use xlink:href=\"#DejaVuSans-2e\" x=\"127.246094\" />\n       <use xlink:href=\"#DejaVuSans-31\" x=\"159.033203\" />\n       <use xlink:href=\"#DejaVuSans-30\" x=\"222.65625\" />\n      </g>\n     </g>\n    </g>\n    <g id=\"xtick_2\">\n     <g id=\"line2d_2\">\n      <g>\n       <use xlink:href=\"#m26eeb489e5\" x=\"95.698573\" y=\"51.039375\" style=\"fill: #262626; stroke: #262626; stroke-width: 0.3\" />\n      </g>\n     </g>\n     <g id=\"text_2\">\n      \n      <g style=\"fill: #444443\" transform=\"translate(84.247323 68.618125) scale(0.08 -0.08)\">\n       <defs>\n        <path id=\"DejaVuSans-34\" d=\"M 2419 4116  L 825 1625  L 2419 1625  L 2419 4116  z M 2253 4666  L 3047 4666  L 3047 1625  L 3713 1625  L 3713 1100  L 3047 1100  L 3047 0  L 2419 0  L 2419 1100  L 313 1100  L 313 1709  L 2253 4666  z \" transform=\"scale(0.015625)\" />\n        <path id=\"DejaVuSans-35\" d=\"M 691 4666  L 3169 4666  L 3169 4134  L 1269 4134  L 1269 2991  Q 1406 3038 1543 3061  Q 1681 3084 1819 3084  Q 2600 3084 3056 2656  Q 3513 2228 3513 1497  Q 3513 744 3044 326  Q 2575 -91 1722 -91  Q 1428 -91 1123 -41  Q 819 9 494 109  L 494 744  Q 775 591 1075 516  Q 1375 441 1709 441  Q 2250 441 2565 725  Q 2881 1009 2881 1497  Q 2881 1984 2565 2268  Q 2250 2553 1709 2553  Q 1456 2553 1204 2497  Q 953 2441 691 2322  L 691 4666  z \" transform=\"scale(0.015625)\" />\n       </defs>\n       <use xlink:href=\"#DejaVuSans-34\" />\n       <use xlink:href=\"#DejaVuSans-33\" x=\"63.623047\" />\n       <use xlink:href=\"#DejaVuSans-2e\" x=\"127.246094\" />\n       <use xlink:href=\"#DejaVuSans-33\" x=\"159.033203\" />\n       <use xlink:href=\"#DejaVuSans-35\" x=\"222.65625\" />\n      </g>\n     </g>\n    </g>\n    <g id=\"xtick_3\">\n     <g id=\"line2d_3\">\n      <g>\n       <use xlink:href=\"#m26eeb489e5\" x=\"183.782857\" y=\"51.039375\" style=\"fill: #262626; stroke: #262626; stroke-width: 0.3\" />\n      </g>\n     </g>\n     <g id=\"text_3\">\n      \n      <g style=\"fill: #444443\" transform=\"translate(172.331607 68.618125) scale(0.08 -0.08)\">\n       <defs>\n        <path id=\"DejaVuSans-39\" d=\"M 703 97  L 703 672  Q 941 559 1184 500  Q 1428 441 1663 441  Q 2288 441 2617 861  Q 2947 1281 2994 2138  Q 2813 1869 2534 1725  Q 2256 1581 1919 1581  Q 1219 1581 811 2004  Q 403 2428 403 3163  Q 403 3881 828 4315  Q 1253 4750 1959 4750  Q 2769 4750 3195 4129  Q 3622 3509 3622 2328  Q 3622 1225 3098 567  Q 2575 -91 1691 -91  Q 1453 -91 1209 -44  Q 966 3 703 97  z M 1959 2075  Q 2384 2075 2632 2365  Q 2881 2656 2881 3163  Q 2881 3666 2632 3958  Q 2384 4250 1959 4250  Q 1534 4250 1286 3958  Q 1038 3666 1038 3163  Q 1038 2656 1286 2365  Q 1534 2075 1959 2075  z \" transform=\"scale(0.015625)\" />\n        <path id=\"DejaVuSans-36\" d=\"M 2113 2584  Q 1688 2584 1439 2293  Q 1191 2003 1191 1497  Q 1191 994 1439 701  Q 1688 409 2113 409  Q 2538 409 2786 701  Q 3034 994 3034 1497  Q 3034 2003 2786 2293  Q 2538 2584 2113 2584  z M 3366 4563  L 3366 3988  Q 3128 4100 2886 4159  Q 2644 4219 2406 4219  Q 1781 4219 1451 3797  Q 1122 3375 1075 2522  Q 1259 2794 1537 2939  Q 1816 3084 2150 3084  Q 2853 3084 3261 2657  Q 3669 2231 3669 1497  Q 3669 778 3244 343  Q 2819 -91 2113 -91  Q 1303 -91 875 529  Q 447 1150 447 2328  Q 447 3434 972 4092  Q 1497 4750 2381 4750  Q 2619 4750 2861 4703  Q 3103 4656 3366 4563  z \" transform=\"scale(0.015625)\" />\n       </defs>\n       <use xlink:href=\"#DejaVuSans-35\" />\n       <use xlink:href=\"#DejaVuSans-39\" x=\"63.623047\" />\n       <use xlink:href=\"#DejaVuSans-2e\" x=\"127.246094\" />\n       <use xlink:href=\"#DejaVuSans-36\" x=\"159.033203\" />\n       <use xlink:href=\"#DejaVuSans-30\" x=\"222.65625\" />\n      </g>\n     </g>\n    </g>\n    <g id=\"text_4\">\n     \n     <g style=\"fill: #444443\" transform=\"translate(63.626562 83.4) scale(0.12 -0.12)\">\n      <defs>\n       <path id=\"DejaVuSans-62\" d=\"M 3116 1747  Q 3116 2381 2855 2742  Q 2594 3103 2138 3103  Q 1681 3103 1420 2742  Q 1159 2381 1159 1747  Q 1159 1113 1420 752  Q 1681 391 2138 391  Q 2594 391 2855 752  Q 3116 1113 3116 1747  z M 1159 2969  Q 1341 3281 1617 3432  Q 1894 3584 2278 3584  Q 2916 3584 3314 3078  Q 3713 2572 3713 1747  Q 3713 922 3314 415  Q 2916 -91 2278 -91  Q 1894 -91 1617 61  Q 1341 213 1159 525  L 1159 0  L 581 0  L 581 4863  L 1159 4863  L 1159 2969  z \" transform=\"scale(0.015625)\" />\n       <path id=\"DejaVuSans-69\" d=\"M 603 3500  L 1178 3500  L 1178 0  L 603 0  L 603 3500  z M 603 4863  L 1178 4863  L 1178 4134  L 603 4134  L 603 4863  z \" transform=\"scale(0.015625)\" />\n       <path id=\"DejaVuSans-6c\" d=\"M 603 4863  L 1178 4863  L 1178 0  L 603 0  L 603 4863  z \" transform=\"scale(0.015625)\" />\n       <path id=\"DejaVuSans-5f\" d=\"M 3263 -1063  L 3263 -1509  L -63 -1509  L -63 -1063  L 3263 -1063  z \" transform=\"scale(0.015625)\" />\n       <path id=\"DejaVuSans-65\" d=\"M 3597 1894  L 3597 1613  L 953 1613  Q 991 1019 1311 708  Q 1631 397 2203 397  Q 2534 397 2845 478  Q 3156 559 3463 722  L 3463 178  Q 3153 47 2828 -22  Q 2503 -91 2169 -91  Q 1331 -91 842 396  Q 353 884 353 1716  Q 353 2575 817 3079  Q 1281 3584 2069 3584  Q 2775 3584 3186 3129  Q 3597 2675 3597 1894  z M 3022 2063  Q 3016 2534 2758 2815  Q 2500 3097 2075 3097  Q 1594 3097 1305 2825  Q 1016 2553 972 2059  L 3022 2063  z \" transform=\"scale(0.015625)\" />\n       <path id=\"DejaVuSans-6e\" d=\"M 3513 2113  L 3513 0  L 2938 0  L 2938 2094  Q 2938 2591 2744 2837  Q 2550 3084 2163 3084  Q 1697 3084 1428 2787  Q 1159 2491 1159 1978  L 1159 0  L 581 0  L 581 3500  L 1159 3500  L 1159 2956  Q 1366 3272 1645 3428  Q 1925 3584 2291 3584  Q 2894 3584 3203 3211  Q 3513 2838 3513 2113  z \" transform=\"scale(0.015625)\" />\n       <path id=\"DejaVuSans-67\" d=\"M 2906 1791  Q 2906 2416 2648 2759  Q 2391 3103 1925 3103  Q 1463 3103 1205 2759  Q 947 2416 947 1791  Q 947 1169 1205 825  Q 1463 481 1925 481  Q 2391 481 2648 825  Q 2906 1169 2906 1791  z M 3481 434  Q 3481 -459 3084 -895  Q 2688 -1331 1869 -1331  Q 1566 -1331 1297 -1286  Q 1028 -1241 775 -1147  L 775 -588  Q 1028 -725 1275 -790  Q 1522 -856 1778 -856  Q 2344 -856 2625 -561  Q 2906 -266 2906 331  L 2906 616  Q 2728 306 2450 153  Q 2172 0 1784 0  Q 1141 0 747 490  Q 353 981 353 1791  Q 353 2603 747 3093  Q 1141 3584 1784 3584  Q 2172 3584 2450 3431  Q 2728 3278 2906 2969  L 2906 3500  L 3481 3500  L 3481 434  z \" transform=\"scale(0.015625)\" />\n       <path id=\"DejaVuSans-74\" d=\"M 1172 4494  L 1172 3500  L 2356 3500  L 2356 3053  L 1172 3053  L 1172 1153  Q 1172 725 1289 603  Q 1406 481 1766 481  L 2356 481  L 2356 0  L 1766 0  Q 1100 0 847 248  Q 594 497 594 1153  L 594 3053  L 172 3053  L 172 3500  L 594 3500  L 594 4494  L 1172 4494  z \" transform=\"scale(0.015625)\" />\n       <path id=\"DejaVuSans-68\" d=\"M 3513 2113  L 3513 0  L 2938 0  L 2938 2094  Q 2938 2591 2744 2837  Q 2550 3084 2163 3084  Q 1697 3084 1428 2787  Q 1159 2491 1159 1978  L 1159 0  L 581 0  L 581 4863  L 1159 4863  L 1159 2956  Q 1366 3272 1645 3428  Q 1925 3584 2291 3584  Q 2894 3584 3203 3211  Q 3513 2838 3513 2113  z \" transform=\"scale(0.015625)\" />\n       <path id=\"DejaVuSans-6d\" d=\"M 3328 2828  Q 3544 3216 3844 3400  Q 4144 3584 4550 3584  Q 5097 3584 5394 3201  Q 5691 2819 5691 2113  L 5691 0  L 5113 0  L 5113 2094  Q 5113 2597 4934 2840  Q 4756 3084 4391 3084  Q 3944 3084 3684 2787  Q 3425 2491 3425 1978  L 3425 0  L 2847 0  L 2847 2094  Q 2847 2600 2669 2842  Q 2491 3084 2119 3084  Q 1678 3084 1418 2786  Q 1159 2488 1159 1978  L 1159 0  L 581 0  L 581 3500  L 1159 3500  L 1159 2956  Q 1356 3278 1631 3431  Q 1906 3584 2284 3584  Q 2666 3584 2933 3390  Q 3200 3197 3328 2828  z \" transform=\"scale(0.015625)\" />\n      </defs>\n      <use xlink:href=\"#DejaVuSans-62\" />\n      <use xlink:href=\"#DejaVuSans-69\" x=\"63.476562\" />\n      <use xlink:href=\"#DejaVuSans-6c\" x=\"91.259766\" />\n      <use xlink:href=\"#DejaVuSans-6c\" x=\"119.042969\" />\n      <use xlink:href=\"#DejaVuSans-5f\" x=\"146.826172\" />\n      <use xlink:href=\"#DejaVuSans-6c\" x=\"196.826172\" />\n      <use xlink:href=\"#DejaVuSans-65\" x=\"224.609375\" />\n      <use xlink:href=\"#DejaVuSans-6e\" x=\"286.132812\" />\n      <use xlink:href=\"#DejaVuSans-67\" x=\"349.511719\" />\n      <use xlink:href=\"#DejaVuSans-74\" x=\"412.988281\" />\n      <use xlink:href=\"#DejaVuSans-68\" x=\"452.197266\" />\n      <use xlink:href=\"#DejaVuSans-5f\" x=\"515.576172\" />\n      <use xlink:href=\"#DejaVuSans-6d\" x=\"565.576172\" />\n      <use xlink:href=\"#DejaVuSans-6d\" x=\"662.988281\" />\n     </g>\n    </g>\n   </g>\n   <g id=\"matplotlib.axis_2\">\n    <g id=\"ytick_1\">\n     <g id=\"line2d_4\">\n      <defs>\n       <path id=\"m7766133eae\" d=\"M 0 0  L -3.5 0  \" style=\"stroke: #262626; stroke-width: 0.3\" />\n      </defs>\n      <g>\n       <use xlink:href=\"#m7766133eae\" x=\"17.18\" y=\"51.039375\" style=\"fill: #262626; stroke: #262626; stroke-width: 0.3\" />\n      </g>\n     </g>\n     <g id=\"text_5\">\n      \n      <g style=\"fill: #444443\" transform=\"translate(5.09 54.07875) scale(0.08 -0.08)\">\n       <use xlink:href=\"#DejaVuSans-30\" />\n      </g>\n     </g>\n    </g>\n    <g id=\"ytick_2\">\n     <g id=\"line2d_5\">\n      <g>\n       <use xlink:href=\"#m7766133eae\" x=\"17.18\" y=\"3.039375\" style=\"fill: #262626; stroke: #262626; stroke-width: 0.3\" />\n      </g>\n     </g>\n     <g id=\"text_6\">\n      \n      <g style=\"fill: #444443\" transform=\"translate(0 6.07875) scale(0.08 -0.08)\">\n       <use xlink:href=\"#DejaVuSans-33\" />\n       <use xlink:href=\"#DejaVuSans-32\" x=\"63.623047\" />\n      </g>\n     </g>\n    </g>\n   </g>\n   <g id=\"patch_3\">\n    <path d=\"M 34.717143 51.039375  L 43.485714 51.039375  L 43.485714 46.539375  L 34.717143 46.539375  z \" clip-path=\"url(#pfcb0044d65)\" style=\"fill: #fefebb; stroke: #444443; stroke-width: 0.5; stroke-linejoin: miter\" />\n   </g>\n   <g id=\"patch_4\">\n    <path d=\"M 43.485714 51.039375  L 52.254286 51.039375  L 52.254286 34.539375  L 43.485714 34.539375  z \" clip-path=\"url(#pfcb0044d65)\" style=\"fill: #fefebb; stroke: #444443; stroke-width: 0.5; stroke-linejoin: miter\" />\n   </g>\n   <g id=\"patch_5\">\n    <path d=\"M 52.254286 51.039375  L 61.022857 51.039375  L 61.022857 12.039375  L 52.254286 12.039375  z \" clip-path=\"url(#pfcb0044d65)\" style=\"fill: #fefebb; stroke: #444443; stroke-width: 0.5; stroke-linejoin: miter\" />\n   </g>\n   <g id=\"patch_6\">\n    <path d=\"M 61.022857 51.039375  L 69.791429 51.039375  L 69.791429 6.039375  L 61.022857 6.039375  z \" clip-path=\"url(#pfcb0044d65)\" style=\"fill: #fefebb; stroke: #444443; stroke-width: 0.5; stroke-linejoin: miter\" />\n   </g>\n   <g id=\"patch_7\">\n    <path d=\"M 69.791429 51.039375  L 78.56 51.039375  L 78.56 4.539375  L 69.791429 4.539375  z \" clip-path=\"url(#pfcb0044d65)\" style=\"fill: #fefebb; stroke: #444443; stroke-width: 0.5; stroke-linejoin: miter\" />\n   </g>\n   <g id=\"patch_8\">\n    <path d=\"M 78.56 51.039375  L 87.328571 51.039375  L 87.328571 4.539375  L 78.56 4.539375  z \" clip-path=\"url(#pfcb0044d65)\" style=\"fill: #fefebb; stroke: #444443; stroke-width: 0.5; stroke-linejoin: miter\" />\n   </g>\n   <g id=\"patch_9\">\n    <path d=\"M 87.328571 51.039375  L 96.097143 51.039375  L 96.097143 31.539375  L 87.328571 31.539375  z \" clip-path=\"url(#pfcb0044d65)\" style=\"fill: #fefebb; stroke: #444443; stroke-width: 0.5; stroke-linejoin: miter\" />\n   </g>\n   <g id=\"patch_10\">\n    <path d=\"M 96.097143 51.039375  L 104.865714 51.039375  L 104.865714 48.039375  L 96.097143 48.039375  z \" clip-path=\"url(#pfcb0044d65)\" style=\"fill: #fefebb; stroke: #444443; stroke-width: 0.5; stroke-linejoin: miter\" />\n   </g>\n   <g id=\"patch_11\">\n    <path d=\"M 104.865714 51.039375  L 113.634286 51.039375  L 113.634286 46.539375  L 104.865714 46.539375  z \" clip-path=\"url(#pfcb0044d65)\" style=\"fill: #fefebb; stroke: #444443; stroke-width: 0.5; stroke-linejoin: miter\" />\n   </g>\n   <g id=\"patch_12\">\n    <path d=\"M 113.634286 51.039375  L 122.402857 51.039375  L 122.402857 51.039375  L 113.634286 51.039375  z \" clip-path=\"url(#pfcb0044d65)\" style=\"fill: #fefebb; stroke: #444443; stroke-width: 0.5; stroke-linejoin: miter\" />\n   </g>\n   <g id=\"patch_13\">\n    <path d=\"M 122.402857 51.039375  L 131.171429 51.039375  L 131.171429 51.039375  L 122.402857 51.039375  z \" clip-path=\"url(#pfcb0044d65)\" style=\"fill: #fefebb; stroke: #444443; stroke-width: 0.5; stroke-linejoin: miter\" />\n   </g>\n   <g id=\"patch_14\">\n    <path d=\"M 131.171429 51.039375  L 139.94 51.039375  L 139.94 51.039375  L 131.171429 51.039375  z \" clip-path=\"url(#pfcb0044d65)\" style=\"fill: #fefebb; stroke: #444443; stroke-width: 0.5; stroke-linejoin: miter\" />\n   </g>\n   <g id=\"patch_15\">\n    <path d=\"M 139.94 51.039375  L 148.708571 51.039375  L 148.708571 51.039375  L 139.94 51.039375  z \" clip-path=\"url(#pfcb0044d65)\" style=\"fill: #fefebb; stroke: #444443; stroke-width: 0.5; stroke-linejoin: miter\" />\n   </g>\n   <g id=\"patch_16\">\n    <path d=\"M 148.708571 51.039375  L 157.477143 51.039375  L 157.477143 51.039375  L 148.708571 51.039375  z \" clip-path=\"url(#pfcb0044d65)\" style=\"fill: #fefebb; stroke: #444443; stroke-width: 0.5; stroke-linejoin: miter\" />\n   </g>\n   <g id=\"patch_17\">\n    <path d=\"M 157.477143 51.039375  L 166.245714 51.039375  L 166.245714 51.039375  L 157.477143 51.039375  z \" clip-path=\"url(#pfcb0044d65)\" style=\"fill: #fefebb; stroke: #444443; stroke-width: 0.5; stroke-linejoin: miter\" />\n   </g>\n   <g id=\"patch_18\">\n    <path d=\"M 166.245714 51.039375  L 175.014286 51.039375  L 175.014286 51.039375  L 166.245714 51.039375  z \" clip-path=\"url(#pfcb0044d65)\" style=\"fill: #fefebb; stroke: #444443; stroke-width: 0.5; stroke-linejoin: miter\" />\n   </g>\n   <g id=\"patch_19\">\n    <path d=\"M 175.014286 51.039375  L 183.782857 51.039375  L 183.782857 51.039375  L 175.014286 51.039375  z \" clip-path=\"url(#pfcb0044d65)\" style=\"fill: #fefebb; stroke: #444443; stroke-width: 0.5; stroke-linejoin: miter\" />\n   </g>\n   <g id=\"patch_20\">\n    <path d=\"M 34.717143 46.539375  L 43.485714 46.539375  L 43.485714 46.539375  L 34.717143 46.539375  z \" clip-path=\"url(#pfcb0044d65)\" style=\"fill: #d9e6f5; stroke: #444443; stroke-width: 0.5; stroke-linejoin: miter\" />\n   </g>\n   <g id=\"patch_21\">\n    <path d=\"M 43.485714 34.539375  L 52.254286 34.539375  L 52.254286 34.539375  L 43.485714 34.539375  z \" clip-path=\"url(#pfcb0044d65)\" style=\"fill: #d9e6f5; stroke: #444443; stroke-width: 0.5; stroke-linejoin: miter\" />\n   </g>\n   <g id=\"patch_22\">\n    <path d=\"M 52.254286 12.039375  L 61.022857 12.039375  L 61.022857 12.039375  L 52.254286 12.039375  z \" clip-path=\"url(#pfcb0044d65)\" style=\"fill: #d9e6f5; stroke: #444443; stroke-width: 0.5; stroke-linejoin: miter\" />\n   </g>\n   <g id=\"patch_23\">\n    <path d=\"M 61.022857 6.039375  L 69.791429 6.039375  L 69.791429 6.039375  L 61.022857 6.039375  z \" clip-path=\"url(#pfcb0044d65)\" style=\"fill: #d9e6f5; stroke: #444443; stroke-width: 0.5; stroke-linejoin: miter\" />\n   </g>\n   <g id=\"patch_24\">\n    <path d=\"M 69.791429 4.539375  L 78.56 4.539375  L 78.56 4.539375  L 69.791429 4.539375  z \" clip-path=\"url(#pfcb0044d65)\" style=\"fill: #d9e6f5; stroke: #444443; stroke-width: 0.5; stroke-linejoin: miter\" />\n   </g>\n   <g id=\"patch_25\">\n    <path d=\"M 78.56 4.539375  L 87.328571 4.539375  L 87.328571 4.539375  L 78.56 4.539375  z \" clip-path=\"url(#pfcb0044d65)\" style=\"fill: #d9e6f5; stroke: #444443; stroke-width: 0.5; stroke-linejoin: miter\" />\n   </g>\n   <g id=\"patch_26\">\n    <path d=\"M 87.328571 31.539375  L 96.097143 31.539375  L 96.097143 31.539375  L 87.328571 31.539375  z \" clip-path=\"url(#pfcb0044d65)\" style=\"fill: #d9e6f5; stroke: #444443; stroke-width: 0.5; stroke-linejoin: miter\" />\n   </g>\n   <g id=\"patch_27\">\n    <path d=\"M 96.097143 48.039375  L 104.865714 48.039375  L 104.865714 46.539375  L 96.097143 46.539375  z \" clip-path=\"url(#pfcb0044d65)\" style=\"fill: #d9e6f5; stroke: #444443; stroke-width: 0.5; stroke-linejoin: miter\" />\n   </g>\n   <g id=\"patch_28\">\n    <path d=\"M 104.865714 46.539375  L 113.634286 46.539375  L 113.634286 45.039375  L 104.865714 45.039375  z \" clip-path=\"url(#pfcb0044d65)\" style=\"fill: #d9e6f5; stroke: #444443; stroke-width: 0.5; stroke-linejoin: miter\" />\n   </g>\n   <g id=\"patch_29\">\n    <path d=\"M 113.634286 51.039375  L 122.402857 51.039375  L 122.402857 51.039375  L 113.634286 51.039375  z \" clip-path=\"url(#pfcb0044d65)\" style=\"fill: #d9e6f5; stroke: #444443; stroke-width: 0.5; stroke-linejoin: miter\" />\n   </g>\n   <g id=\"patch_30\">\n    <path d=\"M 122.402857 51.039375  L 131.171429 51.039375  L 131.171429 49.539375  L 122.402857 49.539375  z \" clip-path=\"url(#pfcb0044d65)\" style=\"fill: #d9e6f5; stroke: #444443; stroke-width: 0.5; stroke-linejoin: miter\" />\n   </g>\n   <g id=\"patch_31\">\n    <path d=\"M 131.171429 51.039375  L 139.94 51.039375  L 139.94 51.039375  L 131.171429 51.039375  z \" clip-path=\"url(#pfcb0044d65)\" style=\"fill: #d9e6f5; stroke: #444443; stroke-width: 0.5; stroke-linejoin: miter\" />\n   </g>\n   <g id=\"patch_32\">\n    <path d=\"M 139.94 51.039375  L 148.708571 51.039375  L 148.708571 51.039375  L 139.94 51.039375  z \" clip-path=\"url(#pfcb0044d65)\" style=\"fill: #d9e6f5; stroke: #444443; stroke-width: 0.5; stroke-linejoin: miter\" />\n   </g>\n   <g id=\"patch_33\">\n    <path d=\"M 148.708571 51.039375  L 157.477143 51.039375  L 157.477143 51.039375  L 148.708571 51.039375  z \" clip-path=\"url(#pfcb0044d65)\" style=\"fill: #d9e6f5; stroke: #444443; stroke-width: 0.5; stroke-linejoin: miter\" />\n   </g>\n   <g id=\"patch_34\">\n    <path d=\"M 157.477143 51.039375  L 166.245714 51.039375  L 166.245714 51.039375  L 157.477143 51.039375  z \" clip-path=\"url(#pfcb0044d65)\" style=\"fill: #d9e6f5; stroke: #444443; stroke-width: 0.5; stroke-linejoin: miter\" />\n   </g>\n   <g id=\"patch_35\">\n    <path d=\"M 166.245714 51.039375  L 175.014286 51.039375  L 175.014286 51.039375  L 166.245714 51.039375  z \" clip-path=\"url(#pfcb0044d65)\" style=\"fill: #d9e6f5; stroke: #444443; stroke-width: 0.5; stroke-linejoin: miter\" />\n   </g>\n   <g id=\"patch_36\">\n    <path d=\"M 175.014286 51.039375  L 183.782857 51.039375  L 183.782857 51.039375  L 175.014286 51.039375  z \" clip-path=\"url(#pfcb0044d65)\" style=\"fill: #d9e6f5; stroke: #444443; stroke-width: 0.5; stroke-linejoin: miter\" />\n   </g>\n   <g id=\"patch_37\">\n    <path d=\"M 34.717143 46.539375  L 43.485714 46.539375  L 43.485714 46.539375  L 34.717143 46.539375  z \" clip-path=\"url(#pfcb0044d65)\" style=\"fill: #a1dab4; stroke: #444443; stroke-width: 0.5; stroke-linejoin: miter\" />\n   </g>\n   <g id=\"patch_38\">\n    <path d=\"M 43.485714 34.539375  L 52.254286 34.539375  L 52.254286 34.539375  L 43.485714 34.539375  z \" clip-path=\"url(#pfcb0044d65)\" style=\"fill: #a1dab4; stroke: #444443; stroke-width: 0.5; stroke-linejoin: miter\" />\n   </g>\n   <g id=\"patch_39\">\n    <path d=\"M 52.254286 12.039375  L 61.022857 12.039375  L 61.022857 12.039375  L 52.254286 12.039375  z \" clip-path=\"url(#pfcb0044d65)\" style=\"fill: #a1dab4; stroke: #444443; stroke-width: 0.5; stroke-linejoin: miter\" />\n   </g>\n   <g id=\"patch_40\">\n    <path d=\"M 61.022857 6.039375  L 69.791429 6.039375  L 69.791429 6.039375  L 61.022857 6.039375  z \" clip-path=\"url(#pfcb0044d65)\" style=\"fill: #a1dab4; stroke: #444443; stroke-width: 0.5; stroke-linejoin: miter\" />\n   </g>\n   <g id=\"patch_41\">\n    <path d=\"M 69.791429 4.539375  L 78.56 4.539375  L 78.56 4.539375  L 69.791429 4.539375  z \" clip-path=\"url(#pfcb0044d65)\" style=\"fill: #a1dab4; stroke: #444443; stroke-width: 0.5; stroke-linejoin: miter\" />\n   </g>\n   <g id=\"patch_42\">\n    <path d=\"M 78.56 4.539375  L 87.328571 4.539375  L 87.328571 3.039375  L 78.56 3.039375  z \" clip-path=\"url(#pfcb0044d65)\" style=\"fill: #a1dab4; stroke: #444443; stroke-width: 0.5; stroke-linejoin: miter\" />\n   </g>\n   <g id=\"patch_43\">\n    <path d=\"M 87.328571 31.539375  L 96.097143 31.539375  L 96.097143 25.539375  L 87.328571 25.539375  z \" clip-path=\"url(#pfcb0044d65)\" style=\"fill: #a1dab4; stroke: #444443; stroke-width: 0.5; stroke-linejoin: miter\" />\n   </g>\n   <g id=\"patch_44\">\n    <path d=\"M 96.097143 46.539375  L 104.865714 46.539375  L 104.865714 45.039375  L 96.097143 45.039375  z \" clip-path=\"url(#pfcb0044d65)\" style=\"fill: #a1dab4; stroke: #444443; stroke-width: 0.5; stroke-linejoin: miter\" />\n   </g>\n   <g id=\"patch_45\">\n    <path d=\"M 104.865714 45.039375  L 113.634286 45.039375  L 113.634286 22.539375  L 104.865714 22.539375  z \" clip-path=\"url(#pfcb0044d65)\" style=\"fill: #a1dab4; stroke: #444443; stroke-width: 0.5; stroke-linejoin: miter\" />\n   </g>\n   <g id=\"patch_46\">\n    <path d=\"M 113.634286 51.039375  L 122.402857 51.039375  L 122.402857 40.539375  L 113.634286 40.539375  z \" clip-path=\"url(#pfcb0044d65)\" style=\"fill: #a1dab4; stroke: #444443; stroke-width: 0.5; stroke-linejoin: miter\" />\n   </g>\n   <g id=\"patch_47\">\n    <path d=\"M 122.402857 49.539375  L 131.171429 49.539375  L 131.171429 39.039375  L 122.402857 39.039375  z \" clip-path=\"url(#pfcb0044d65)\" style=\"fill: #a1dab4; stroke: #444443; stroke-width: 0.5; stroke-linejoin: miter\" />\n   </g>\n   <g id=\"patch_48\">\n    <path d=\"M 131.171429 51.039375  L 139.94 51.039375  L 139.94 24.039375  L 131.171429 24.039375  z \" clip-path=\"url(#pfcb0044d65)\" style=\"fill: #a1dab4; stroke: #444443; stroke-width: 0.5; stroke-linejoin: miter\" />\n   </g>\n   <g id=\"patch_49\">\n    <path d=\"M 139.94 51.039375  L 148.708571 51.039375  L 148.708571 40.539375  L 139.94 40.539375  z \" clip-path=\"url(#pfcb0044d65)\" style=\"fill: #a1dab4; stroke: #444443; stroke-width: 0.5; stroke-linejoin: miter\" />\n   </g>\n   <g id=\"patch_50\">\n    <path d=\"M 148.708571 51.039375  L 157.477143 51.039375  L 157.477143 48.039375  L 148.708571 48.039375  z \" clip-path=\"url(#pfcb0044d65)\" style=\"fill: #a1dab4; stroke: #444443; stroke-width: 0.5; stroke-linejoin: miter\" />\n   </g>\n   <g id=\"patch_51\">\n    <path d=\"M 157.477143 51.039375  L 166.245714 51.039375  L 166.245714 49.539375  L 157.477143 49.539375  z \" clip-path=\"url(#pfcb0044d65)\" style=\"fill: #a1dab4; stroke: #444443; stroke-width: 0.5; stroke-linejoin: miter\" />\n   </g>\n   <g id=\"patch_52\">\n    <path d=\"M 166.245714 51.039375  L 175.014286 51.039375  L 175.014286 51.039375  L 166.245714 51.039375  z \" clip-path=\"url(#pfcb0044d65)\" style=\"fill: #a1dab4; stroke: #444443; stroke-width: 0.5; stroke-linejoin: miter\" />\n   </g>\n   <g id=\"patch_53\">\n    <path d=\"M 175.014286 51.039375  L 183.782857 51.039375  L 183.782857 49.539375  L 175.014286 49.539375  z \" clip-path=\"url(#pfcb0044d65)\" style=\"fill: #a1dab4; stroke: #444443; stroke-width: 0.5; stroke-linejoin: miter\" />\n   </g>\n   <g id=\"patch_54\">\n    <path d=\"M 95.698573 51.870975  L 92.384053 60.186975  L 99.013093 60.186975  z \" style=\"fill: #444443; stroke: #ffffff; stroke-linejoin: miter\" />\n   </g>\n   <g id=\"patch_55\">\n    <path d=\"M 17.18 51.039375  L 17.18 0.639375  \" style=\"fill: none; stroke: #444443; stroke-width: 0.3; stroke-linejoin: miter; stroke-linecap: square\" />\n   </g>\n   <g id=\"patch_56\">\n    <path d=\"M 17.18 51.039375  L 201.32 51.039375  \" style=\"fill: none; stroke: #444443; stroke-width: 0.3; stroke-linejoin: miter; stroke-linecap: square\" />\n   </g>\n  </g>\n </g>\n <defs>\n  <clipPath id=\"pfcb0044d65\">\n   <rect x=\"17.18\" y=\"0.639375\" width=\"184.14\" height=\"50.4\" />\n  </clipPath>\n </defs>\n</svg></g>\n\n<g id=\"node2\" class=\"node\">\n<title>node4</title>\n<svg width=\"150px\" height=\"48px\" viewBox=\"0 0 201.32 64.629375\" version=\"1.1\" preserveAspectRatio=\"xMinYMin meet\" x=\"191\" y=\"-161\">\n <metadata>\n  <rdf:RDF>\n   <ns2:Work>\n    <dc:type rdf:resource=\"http://purl.org/dc/dcmitype/StillImage\" />\n    <dc:date>2024-10-16T15:26:01.847737</dc:date>\n    <dc:format>image/svg+xml</dc:format>\n    <dc:creator>\n     <ns2:Agent>\n      <dc:title>Matplotlib v3.7.1, https://matplotlib.org/</dc:title>\n     </ns2:Agent>\n    </dc:creator>\n   </ns2:Work>\n  </rdf:RDF>\n </metadata>\n <defs>\n  <style type=\"text/css\">*{stroke-linejoin: round; stroke-linecap: butt}</style>\n </defs>\n <g id=\"figure_1\">\n  <g id=\"patch_1\">\n   <path d=\"M 0 64.629375  L 201.32 64.629375  L 201.32 0  L 0 0  z \" style=\"fill: #ffffff\" />\n  </g>\n  <g id=\"axes_1\">\n   <g id=\"patch_2\">\n    <path d=\"M 17.18 29.439375  L 201.32 29.439375  L 201.32 1.719375  L 17.18 1.719375  z \" style=\"fill: #ffffff\" />\n   </g>\n   <g id=\"matplotlib.axis_1\">\n    <g id=\"xtick_1\">\n     <g id=\"line2d_1\">\n      <defs>\n       <path id=\"m4197cbb420\" d=\"M 0 0  L 0 3.5  \" style=\"stroke: #262626; stroke-width: 0.3\" />\n      </defs>\n      <g>\n       <use xlink:href=\"#m4197cbb420\" x=\"34.717143\" y=\"29.439375\" style=\"fill: #262626; stroke: #262626; stroke-width: 0.3\" />\n      </g>\n     </g>\n     <g id=\"text_1\">\n      \n      <g style=\"fill: #444443\" transform=\"translate(25.810893 47.018125) scale(0.08 -0.08)\">\n       <defs>\n        <path id=\"DejaVuSans-31\" d=\"M 794 531  L 1825 531  L 1825 4091  L 703 3866  L 703 4441  L 1819 4666  L 2450 4666  L 2450 531  L 3481 531  L 3481 0  L 794 0  L 794 531  z \" transform=\"scale(0.015625)\" />\n        <path id=\"DejaVuSans-33\" d=\"M 2597 2516  Q 3050 2419 3304 2112  Q 3559 1806 3559 1356  Q 3559 666 3084 287  Q 2609 -91 1734 -91  Q 1441 -91 1130 -33  Q 819 25 488 141  L 488 750  Q 750 597 1062 519  Q 1375 441 1716 441  Q 2309 441 2620 675  Q 2931 909 2931 1356  Q 2931 1769 2642 2001  Q 2353 2234 1838 2234  L 1294 2234  L 1294 2753  L 1863 2753  Q 2328 2753 2575 2939  Q 2822 3125 2822 3475  Q 2822 3834 2567 4026  Q 2313 4219 1838 4219  Q 1578 4219 1281 4162  Q 984 4106 628 3988  L 628 4550  Q 988 4650 1302 4700  Q 1616 4750 1894 4750  Q 2613 4750 3031 4423  Q 3450 4097 3450 3541  Q 3450 3153 3228 2886  Q 3006 2619 2597 2516  z \" transform=\"scale(0.015625)\" />\n        <path id=\"DejaVuSans-2e\" d=\"M 684 794  L 1344 794  L 1344 0  L 684 0  L 684 794  z \" transform=\"scale(0.015625)\" />\n       </defs>\n       <use xlink:href=\"#DejaVuSans-31\" />\n       <use xlink:href=\"#DejaVuSans-33\" x=\"63.623047\" />\n       <use xlink:href=\"#DejaVuSans-2e\" x=\"127.246094\" />\n       <use xlink:href=\"#DejaVuSans-31\" x=\"159.033203\" />\n      </g>\n     </g>\n    </g>\n    <g id=\"xtick_2\">\n     <g id=\"line2d_2\">\n      <g>\n       <use xlink:href=\"#m4197cbb420\" x=\"123.446725\" y=\"29.439375\" style=\"fill: #262626; stroke: #262626; stroke-width: 0.3\" />\n      </g>\n     </g>\n     <g id=\"text_2\">\n      \n      <g style=\"fill: #444443\" transform=\"translate(114.540475 47.018125) scale(0.08 -0.08)\">\n       <defs>\n        <path id=\"DejaVuSans-38\" d=\"M 2034 2216  Q 1584 2216 1326 1975  Q 1069 1734 1069 1313  Q 1069 891 1326 650  Q 1584 409 2034 409  Q 2484 409 2743 651  Q 3003 894 3003 1313  Q 3003 1734 2745 1975  Q 2488 2216 2034 2216  z M 1403 2484  Q 997 2584 770 2862  Q 544 3141 544 3541  Q 544 4100 942 4425  Q 1341 4750 2034 4750  Q 2731 4750 3128 4425  Q 3525 4100 3525 3541  Q 3525 3141 3298 2862  Q 3072 2584 2669 2484  Q 3125 2378 3379 2068  Q 3634 1759 3634 1313  Q 3634 634 3220 271  Q 2806 -91 2034 -91  Q 1263 -91 848 271  Q 434 634 434 1313  Q 434 1759 690 2068  Q 947 2378 1403 2484  z M 1172 3481  Q 1172 3119 1398 2916  Q 1625 2713 2034 2713  Q 2441 2713 2670 2916  Q 2900 3119 2900 3481  Q 2900 3844 2670 4047  Q 2441 4250 2034 4250  Q 1625 4250 1398 4047  Q 1172 3844 1172 3481  z \" transform=\"scale(0.015625)\" />\n       </defs>\n       <use xlink:href=\"#DejaVuSans-31\" />\n       <use xlink:href=\"#DejaVuSans-38\" x=\"63.623047\" />\n       <use xlink:href=\"#DejaVuSans-2e\" x=\"127.246094\" />\n       <use xlink:href=\"#DejaVuSans-31\" x=\"159.033203\" />\n      </g>\n     </g>\n    </g>\n    <g id=\"xtick_3\">\n     <g id=\"line2d_3\">\n      <g>\n       <use xlink:href=\"#m4197cbb420\" x=\"183.782857\" y=\"29.439375\" style=\"fill: #262626; stroke: #262626; stroke-width: 0.3\" />\n      </g>\n     </g>\n     <g id=\"text_3\">\n      \n      <g style=\"fill: #444443\" transform=\"translate(174.876607 47.018125) scale(0.08 -0.08)\">\n       <defs>\n        <path id=\"DejaVuSans-32\" d=\"M 1228 531  L 3431 531  L 3431 0  L 469 0  L 469 531  Q 828 903 1448 1529  Q 2069 2156 2228 2338  Q 2531 2678 2651 2914  Q 2772 3150 2772 3378  Q 2772 3750 2511 3984  Q 2250 4219 1831 4219  Q 1534 4219 1204 4116  Q 875 4013 500 3803  L 500 4441  Q 881 4594 1212 4672  Q 1544 4750 1819 4750  Q 2544 4750 2975 4387  Q 3406 4025 3406 3419  Q 3406 3131 3298 2873  Q 3191 2616 2906 2266  Q 2828 2175 2409 1742  Q 1991 1309 1228 531  z \" transform=\"scale(0.015625)\" />\n        <path id=\"DejaVuSans-35\" d=\"M 691 4666  L 3169 4666  L 3169 4134  L 1269 4134  L 1269 2991  Q 1406 3038 1543 3061  Q 1681 3084 1819 3084  Q 2600 3084 3056 2656  Q 3513 2228 3513 1497  Q 3513 744 3044 326  Q 2575 -91 1722 -91  Q 1428 -91 1123 -41  Q 819 9 494 109  L 494 744  Q 775 591 1075 516  Q 1375 441 1709 441  Q 2250 441 2565 725  Q 2881 1009 2881 1497  Q 2881 1984 2565 2268  Q 2250 2553 1709 2553  Q 1456 2553 1204 2497  Q 953 2441 691 2322  L 691 4666  z \" transform=\"scale(0.015625)\" />\n       </defs>\n       <use xlink:href=\"#DejaVuSans-32\" />\n       <use xlink:href=\"#DejaVuSans-31\" x=\"63.623047\" />\n       <use xlink:href=\"#DejaVuSans-2e\" x=\"127.246094\" />\n       <use xlink:href=\"#DejaVuSans-35\" x=\"159.033203\" />\n      </g>\n     </g>\n    </g>\n    <g id=\"text_4\">\n     \n     <g style=\"fill: #444443\" transform=\"translate(65.286875 61.8) scale(0.12 -0.12)\">\n      <defs>\n       <path id=\"DejaVuSans-62\" d=\"M 3116 1747  Q 3116 2381 2855 2742  Q 2594 3103 2138 3103  Q 1681 3103 1420 2742  Q 1159 2381 1159 1747  Q 1159 1113 1420 752  Q 1681 391 2138 391  Q 2594 391 2855 752  Q 3116 1113 3116 1747  z M 1159 2969  Q 1341 3281 1617 3432  Q 1894 3584 2278 3584  Q 2916 3584 3314 3078  Q 3713 2572 3713 1747  Q 3713 922 3314 415  Q 2916 -91 2278 -91  Q 1894 -91 1617 61  Q 1341 213 1159 525  L 1159 0  L 581 0  L 581 4863  L 1159 4863  L 1159 2969  z \" transform=\"scale(0.015625)\" />\n       <path id=\"DejaVuSans-69\" d=\"M 603 3500  L 1178 3500  L 1178 0  L 603 0  L 603 3500  z M 603 4863  L 1178 4863  L 1178 4134  L 603 4134  L 603 4863  z \" transform=\"scale(0.015625)\" />\n       <path id=\"DejaVuSans-6c\" d=\"M 603 4863  L 1178 4863  L 1178 0  L 603 0  L 603 4863  z \" transform=\"scale(0.015625)\" />\n       <path id=\"DejaVuSans-5f\" d=\"M 3263 -1063  L 3263 -1509  L -63 -1509  L -63 -1063  L 3263 -1063  z \" transform=\"scale(0.015625)\" />\n       <path id=\"DejaVuSans-64\" d=\"M 2906 2969  L 2906 4863  L 3481 4863  L 3481 0  L 2906 0  L 2906 525  Q 2725 213 2448 61  Q 2172 -91 1784 -91  Q 1150 -91 751 415  Q 353 922 353 1747  Q 353 2572 751 3078  Q 1150 3584 1784 3584  Q 2172 3584 2448 3432  Q 2725 3281 2906 2969  z M 947 1747  Q 947 1113 1208 752  Q 1469 391 1925 391  Q 2381 391 2643 752  Q 2906 1113 2906 1747  Q 2906 2381 2643 2742  Q 2381 3103 1925 3103  Q 1469 3103 1208 2742  Q 947 2381 947 1747  z \" transform=\"scale(0.015625)\" />\n       <path id=\"DejaVuSans-65\" d=\"M 3597 1894  L 3597 1613  L 953 1613  Q 991 1019 1311 708  Q 1631 397 2203 397  Q 2534 397 2845 478  Q 3156 559 3463 722  L 3463 178  Q 3153 47 2828 -22  Q 2503 -91 2169 -91  Q 1331 -91 842 396  Q 353 884 353 1716  Q 353 2575 817 3079  Q 1281 3584 2069 3584  Q 2775 3584 3186 3129  Q 3597 2675 3597 1894  z M 3022 2063  Q 3016 2534 2758 2815  Q 2500 3097 2075 3097  Q 1594 3097 1305 2825  Q 1016 2553 972 2059  L 3022 2063  z \" transform=\"scale(0.015625)\" />\n       <path id=\"DejaVuSans-70\" d=\"M 1159 525  L 1159 -1331  L 581 -1331  L 581 3500  L 1159 3500  L 1159 2969  Q 1341 3281 1617 3432  Q 1894 3584 2278 3584  Q 2916 3584 3314 3078  Q 3713 2572 3713 1747  Q 3713 922 3314 415  Q 2916 -91 2278 -91  Q 1894 -91 1617 61  Q 1341 213 1159 525  z M 3116 1747  Q 3116 2381 2855 2742  Q 2594 3103 2138 3103  Q 1681 3103 1420 2742  Q 1159 2381 1159 1747  Q 1159 1113 1420 752  Q 1681 391 2138 391  Q 2594 391 2855 752  Q 3116 1113 3116 1747  z \" transform=\"scale(0.015625)\" />\n       <path id=\"DejaVuSans-74\" d=\"M 1172 4494  L 1172 3500  L 2356 3500  L 2356 3053  L 1172 3053  L 1172 1153  Q 1172 725 1289 603  Q 1406 481 1766 481  L 2356 481  L 2356 0  L 1766 0  Q 1100 0 847 248  Q 594 497 594 1153  L 594 3053  L 172 3053  L 172 3500  L 594 3500  L 594 4494  L 1172 4494  z \" transform=\"scale(0.015625)\" />\n       <path id=\"DejaVuSans-68\" d=\"M 3513 2113  L 3513 0  L 2938 0  L 2938 2094  Q 2938 2591 2744 2837  Q 2550 3084 2163 3084  Q 1697 3084 1428 2787  Q 1159 2491 1159 1978  L 1159 0  L 581 0  L 581 4863  L 1159 4863  L 1159 2956  Q 1366 3272 1645 3428  Q 1925 3584 2291 3584  Q 2894 3584 3203 3211  Q 3513 2838 3513 2113  z \" transform=\"scale(0.015625)\" />\n       <path id=\"DejaVuSans-6d\" d=\"M 3328 2828  Q 3544 3216 3844 3400  Q 4144 3584 4550 3584  Q 5097 3584 5394 3201  Q 5691 2819 5691 2113  L 5691 0  L 5113 0  L 5113 2094  Q 5113 2597 4934 2840  Q 4756 3084 4391 3084  Q 3944 3084 3684 2787  Q 3425 2491 3425 1978  L 3425 0  L 2847 0  L 2847 2094  Q 2847 2600 2669 2842  Q 2491 3084 2119 3084  Q 1678 3084 1418 2786  Q 1159 2488 1159 1978  L 1159 0  L 581 0  L 581 3500  L 1159 3500  L 1159 2956  Q 1356 3278 1631 3431  Q 1906 3584 2284 3584  Q 2666 3584 2933 3390  Q 3200 3197 3328 2828  z \" transform=\"scale(0.015625)\" />\n      </defs>\n      <use xlink:href=\"#DejaVuSans-62\" />\n      <use xlink:href=\"#DejaVuSans-69\" x=\"63.476562\" />\n      <use xlink:href=\"#DejaVuSans-6c\" x=\"91.259766\" />\n      <use xlink:href=\"#DejaVuSans-6c\" x=\"119.042969\" />\n      <use xlink:href=\"#DejaVuSans-5f\" x=\"146.826172\" />\n      <use xlink:href=\"#DejaVuSans-64\" x=\"196.826172\" />\n      <use xlink:href=\"#DejaVuSans-65\" x=\"260.302734\" />\n      <use xlink:href=\"#DejaVuSans-70\" x=\"321.826172\" />\n      <use xlink:href=\"#DejaVuSans-74\" x=\"385.302734\" />\n      <use xlink:href=\"#DejaVuSans-68\" x=\"424.511719\" />\n      <use xlink:href=\"#DejaVuSans-5f\" x=\"487.890625\" />\n      <use xlink:href=\"#DejaVuSans-6d\" x=\"537.890625\" />\n      <use xlink:href=\"#DejaVuSans-6d\" x=\"635.302734\" />\n     </g>\n    </g>\n   </g>\n   <g id=\"matplotlib.axis_2\">\n    <g id=\"ytick_1\">\n     <g id=\"line2d_4\">\n      <defs>\n       <path id=\"m971fa48109\" d=\"M 0 0  L -3.5 0  \" style=\"stroke: #262626; stroke-width: 0.3\" />\n      </defs>\n      <g>\n       <use xlink:href=\"#m971fa48109\" x=\"17.18\" y=\"29.439375\" style=\"fill: #262626; stroke: #262626; stroke-width: 0.3\" />\n      </g>\n     </g>\n     <g id=\"text_5\">\n      \n      <g style=\"fill: #444443\" transform=\"translate(5.09 32.47875) scale(0.08 -0.08)\">\n       <defs>\n        <path id=\"DejaVuSans-30\" d=\"M 2034 4250  Q 1547 4250 1301 3770  Q 1056 3291 1056 2328  Q 1056 1369 1301 889  Q 1547 409 2034 409  Q 2525 409 2770 889  Q 3016 1369 3016 2328  Q 3016 3291 2770 3770  Q 2525 4250 2034 4250  z M 2034 4750  Q 2819 4750 3233 4129  Q 3647 3509 3647 2328  Q 3647 1150 3233 529  Q 2819 -91 2034 -91  Q 1250 -91 836 529  Q 422 1150 422 2328  Q 422 3509 836 4129  Q 1250 4750 2034 4750  z \" transform=\"scale(0.015625)\" />\n       </defs>\n       <use xlink:href=\"#DejaVuSans-30\" />\n      </g>\n     </g>\n    </g>\n    <g id=\"ytick_2\">\n     <g id=\"line2d_5\">\n      <g>\n       <use xlink:href=\"#m971fa48109\" x=\"17.18\" y=\"3.039375\" style=\"fill: #262626; stroke: #262626; stroke-width: 0.3\" />\n      </g>\n     </g>\n     <g id=\"text_6\">\n      \n      <g style=\"fill: #444443\" transform=\"translate(0 6.07875) scale(0.08 -0.08)\">\n       <defs>\n        <path id=\"DejaVuSans-34\" d=\"M 2419 4116  L 825 1625  L 2419 1625  L 2419 4116  z M 2253 4666  L 3047 4666  L 3047 1625  L 3713 1625  L 3713 1100  L 3047 1100  L 3047 0  L 2419 0  L 2419 1100  L 313 1100  L 313 1709  L 2253 4666  z \" transform=\"scale(0.015625)\" />\n       </defs>\n       <use xlink:href=\"#DejaVuSans-32\" />\n       <use xlink:href=\"#DejaVuSans-34\" x=\"63.623047\" />\n      </g>\n     </g>\n    </g>\n   </g>\n   <g id=\"patch_3\">\n    <path d=\"M 34.717143 29.439375  L 43.485714 29.439375  L 43.485714 29.439375  L 34.717143 29.439375  z \" clip-path=\"url(#p45bd9bf46d)\" style=\"fill: #fefebb; stroke: #444443; stroke-width: 0.5; stroke-linejoin: miter\" />\n   </g>\n   <g id=\"patch_4\">\n    <path d=\"M 43.485714 29.439375  L 52.254286 29.439375  L 52.254286 29.439375  L 43.485714 29.439375  z \" clip-path=\"url(#p45bd9bf46d)\" style=\"fill: #fefebb; stroke: #444443; stroke-width: 0.5; stroke-linejoin: miter\" />\n   </g>\n   <g id=\"patch_5\">\n    <path d=\"M 52.254286 29.439375  L 61.022857 29.439375  L 61.022857 29.439375  L 52.254286 29.439375  z \" clip-path=\"url(#p45bd9bf46d)\" style=\"fill: #fefebb; stroke: #444443; stroke-width: 0.5; stroke-linejoin: miter\" />\n   </g>\n   <g id=\"patch_6\">\n    <path d=\"M 61.022857 29.439375  L 69.791429 29.439375  L 69.791429 29.439375  L 61.022857 29.439375  z \" clip-path=\"url(#p45bd9bf46d)\" style=\"fill: #fefebb; stroke: #444443; stroke-width: 0.5; stroke-linejoin: miter\" />\n   </g>\n   <g id=\"patch_7\">\n    <path d=\"M 69.791429 29.439375  L 78.56 29.439375  L 78.56 29.439375  L 69.791429 29.439375  z \" clip-path=\"url(#p45bd9bf46d)\" style=\"fill: #fefebb; stroke: #444443; stroke-width: 0.5; stroke-linejoin: miter\" />\n   </g>\n   <g id=\"patch_8\">\n    <path d=\"M 78.56 29.439375  L 87.328571 29.439375  L 87.328571 29.439375  L 78.56 29.439375  z \" clip-path=\"url(#p45bd9bf46d)\" style=\"fill: #fefebb; stroke: #444443; stroke-width: 0.5; stroke-linejoin: miter\" />\n   </g>\n   <g id=\"patch_9\">\n    <path d=\"M 87.328571 29.439375  L 96.097143 29.439375  L 96.097143 29.439375  L 87.328571 29.439375  z \" clip-path=\"url(#p45bd9bf46d)\" style=\"fill: #fefebb; stroke: #444443; stroke-width: 0.5; stroke-linejoin: miter\" />\n   </g>\n   <g id=\"patch_10\">\n    <path d=\"M 96.097143 29.439375  L 104.865714 29.439375  L 104.865714 29.439375  L 96.097143 29.439375  z \" clip-path=\"url(#p45bd9bf46d)\" style=\"fill: #fefebb; stroke: #444443; stroke-width: 0.5; stroke-linejoin: miter\" />\n   </g>\n   <g id=\"patch_11\">\n    <path d=\"M 104.865714 29.439375  L 113.634286 29.439375  L 113.634286 29.439375  L 104.865714 29.439375  z \" clip-path=\"url(#p45bd9bf46d)\" style=\"fill: #fefebb; stroke: #444443; stroke-width: 0.5; stroke-linejoin: miter\" />\n   </g>\n   <g id=\"patch_12\">\n    <path d=\"M 113.634286 29.439375  L 122.402857 29.439375  L 122.402857 28.339375  L 113.634286 28.339375  z \" clip-path=\"url(#p45bd9bf46d)\" style=\"fill: #fefebb; stroke: #444443; stroke-width: 0.5; stroke-linejoin: miter\" />\n   </g>\n   <g id=\"patch_13\">\n    <path d=\"M 122.402857 29.439375  L 131.171429 29.439375  L 131.171429 29.439375  L 122.402857 29.439375  z \" clip-path=\"url(#p45bd9bf46d)\" style=\"fill: #fefebb; stroke: #444443; stroke-width: 0.5; stroke-linejoin: miter\" />\n   </g>\n   <g id=\"patch_14\">\n    <path d=\"M 131.171429 29.439375  L 139.94 29.439375  L 139.94 28.339375  L 131.171429 28.339375  z \" clip-path=\"url(#p45bd9bf46d)\" style=\"fill: #fefebb; stroke: #444443; stroke-width: 0.5; stroke-linejoin: miter\" />\n   </g>\n   <g id=\"patch_15\">\n    <path d=\"M 139.94 29.439375  L 148.708571 29.439375  L 148.708571 29.439375  L 139.94 29.439375  z \" clip-path=\"url(#p45bd9bf46d)\" style=\"fill: #fefebb; stroke: #444443; stroke-width: 0.5; stroke-linejoin: miter\" />\n   </g>\n   <g id=\"patch_16\">\n    <path d=\"M 148.708571 29.439375  L 157.477143 29.439375  L 157.477143 29.439375  L 148.708571 29.439375  z \" clip-path=\"url(#p45bd9bf46d)\" style=\"fill: #fefebb; stroke: #444443; stroke-width: 0.5; stroke-linejoin: miter\" />\n   </g>\n   <g id=\"patch_17\">\n    <path d=\"M 157.477143 29.439375  L 166.245714 29.439375  L 166.245714 29.439375  L 157.477143 29.439375  z \" clip-path=\"url(#p45bd9bf46d)\" style=\"fill: #fefebb; stroke: #444443; stroke-width: 0.5; stroke-linejoin: miter\" />\n   </g>\n   <g id=\"patch_18\">\n    <path d=\"M 166.245714 29.439375  L 175.014286 29.439375  L 175.014286 29.439375  L 166.245714 29.439375  z \" clip-path=\"url(#p45bd9bf46d)\" style=\"fill: #fefebb; stroke: #444443; stroke-width: 0.5; stroke-linejoin: miter\" />\n   </g>\n   <g id=\"patch_19\">\n    <path d=\"M 175.014286 29.439375  L 183.782857 29.439375  L 183.782857 29.439375  L 175.014286 29.439375  z \" clip-path=\"url(#p45bd9bf46d)\" style=\"fill: #fefebb; stroke: #444443; stroke-width: 0.5; stroke-linejoin: miter\" />\n   </g>\n   <g id=\"patch_20\">\n    <path d=\"M 34.717143 29.439375  L 43.485714 29.439375  L 43.485714 22.839375  L 34.717143 22.839375  z \" clip-path=\"url(#p45bd9bf46d)\" style=\"fill: #d9e6f5; stroke: #444443; stroke-width: 0.5; stroke-linejoin: miter\" />\n   </g>\n   <g id=\"patch_21\">\n    <path d=\"M 43.485714 29.439375  L 52.254286 29.439375  L 52.254286 10.739375  L 43.485714 10.739375  z \" clip-path=\"url(#p45bd9bf46d)\" style=\"fill: #d9e6f5; stroke: #444443; stroke-width: 0.5; stroke-linejoin: miter\" />\n   </g>\n   <g id=\"patch_22\">\n    <path d=\"M 52.254286 29.439375  L 61.022857 29.439375  L 61.022857 3.039375  L 52.254286 3.039375  z \" clip-path=\"url(#p45bd9bf46d)\" style=\"fill: #d9e6f5; stroke: #444443; stroke-width: 0.5; stroke-linejoin: miter\" />\n   </g>\n   <g id=\"patch_23\">\n    <path d=\"M 61.022857 29.439375  L 69.791429 29.439375  L 69.791429 6.339375  L 61.022857 6.339375  z \" clip-path=\"url(#p45bd9bf46d)\" style=\"fill: #d9e6f5; stroke: #444443; stroke-width: 0.5; stroke-linejoin: miter\" />\n   </g>\n   <g id=\"patch_24\">\n    <path d=\"M 69.791429 29.439375  L 78.56 29.439375  L 78.56 14.039375  L 69.791429 14.039375  z \" clip-path=\"url(#p45bd9bf46d)\" style=\"fill: #d9e6f5; stroke: #444443; stroke-width: 0.5; stroke-linejoin: miter\" />\n   </g>\n   <g id=\"patch_25\">\n    <path d=\"M 78.56 29.439375  L 87.328571 29.439375  L 87.328571 7.439375  L 78.56 7.439375  z \" clip-path=\"url(#p45bd9bf46d)\" style=\"fill: #d9e6f5; stroke: #444443; stroke-width: 0.5; stroke-linejoin: miter\" />\n   </g>\n   <g id=\"patch_26\">\n    <path d=\"M 87.328571 29.439375  L 96.097143 29.439375  L 96.097143 16.239375  L 87.328571 16.239375  z \" clip-path=\"url(#p45bd9bf46d)\" style=\"fill: #d9e6f5; stroke: #444443; stroke-width: 0.5; stroke-linejoin: miter\" />\n   </g>\n   <g id=\"patch_27\">\n    <path d=\"M 96.097143 29.439375  L 104.865714 29.439375  L 104.865714 25.039375  L 96.097143 25.039375  z \" clip-path=\"url(#p45bd9bf46d)\" style=\"fill: #d9e6f5; stroke: #444443; stroke-width: 0.5; stroke-linejoin: miter\" />\n   </g>\n   <g id=\"patch_28\">\n    <path d=\"M 104.865714 29.439375  L 113.634286 29.439375  L 113.634286 26.139375  L 104.865714 26.139375  z \" clip-path=\"url(#p45bd9bf46d)\" style=\"fill: #d9e6f5; stroke: #444443; stroke-width: 0.5; stroke-linejoin: miter\" />\n   </g>\n   <g id=\"patch_29\">\n    <path d=\"M 113.634286 28.339375  L 122.402857 28.339375  L 122.402857 28.339375  L 113.634286 28.339375  z \" clip-path=\"url(#p45bd9bf46d)\" style=\"fill: #d9e6f5; stroke: #444443; stroke-width: 0.5; stroke-linejoin: miter\" />\n   </g>\n   <g id=\"patch_30\">\n    <path d=\"M 122.402857 29.439375  L 131.171429 29.439375  L 131.171429 29.439375  L 122.402857 29.439375  z \" clip-path=\"url(#p45bd9bf46d)\" style=\"fill: #d9e6f5; stroke: #444443; stroke-width: 0.5; stroke-linejoin: miter\" />\n   </g>\n   <g id=\"patch_31\">\n    <path d=\"M 131.171429 28.339375  L 139.94 28.339375  L 139.94 28.339375  L 131.171429 28.339375  z \" clip-path=\"url(#p45bd9bf46d)\" style=\"fill: #d9e6f5; stroke: #444443; stroke-width: 0.5; stroke-linejoin: miter\" />\n   </g>\n   <g id=\"patch_32\">\n    <path d=\"M 139.94 29.439375  L 148.708571 29.439375  L 148.708571 29.439375  L 139.94 29.439375  z \" clip-path=\"url(#p45bd9bf46d)\" style=\"fill: #d9e6f5; stroke: #444443; stroke-width: 0.5; stroke-linejoin: miter\" />\n   </g>\n   <g id=\"patch_33\">\n    <path d=\"M 148.708571 29.439375  L 157.477143 29.439375  L 157.477143 29.439375  L 148.708571 29.439375  z \" clip-path=\"url(#p45bd9bf46d)\" style=\"fill: #d9e6f5; stroke: #444443; stroke-width: 0.5; stroke-linejoin: miter\" />\n   </g>\n   <g id=\"patch_34\">\n    <path d=\"M 157.477143 29.439375  L 166.245714 29.439375  L 166.245714 29.439375  L 157.477143 29.439375  z \" clip-path=\"url(#p45bd9bf46d)\" style=\"fill: #d9e6f5; stroke: #444443; stroke-width: 0.5; stroke-linejoin: miter\" />\n   </g>\n   <g id=\"patch_35\">\n    <path d=\"M 166.245714 29.439375  L 175.014286 29.439375  L 175.014286 29.439375  L 166.245714 29.439375  z \" clip-path=\"url(#p45bd9bf46d)\" style=\"fill: #d9e6f5; stroke: #444443; stroke-width: 0.5; stroke-linejoin: miter\" />\n   </g>\n   <g id=\"patch_36\">\n    <path d=\"M 175.014286 29.439375  L 183.782857 29.439375  L 183.782857 29.439375  L 175.014286 29.439375  z \" clip-path=\"url(#p45bd9bf46d)\" style=\"fill: #d9e6f5; stroke: #444443; stroke-width: 0.5; stroke-linejoin: miter\" />\n   </g>\n   <g id=\"patch_37\">\n    <path d=\"M 34.717143 22.839375  L 43.485714 22.839375  L 43.485714 22.839375  L 34.717143 22.839375  z \" clip-path=\"url(#p45bd9bf46d)\" style=\"fill: #a1dab4; stroke: #444443; stroke-width: 0.5; stroke-linejoin: miter\" />\n   </g>\n   <g id=\"patch_38\">\n    <path d=\"M 43.485714 10.739375  L 52.254286 10.739375  L 52.254286 10.739375  L 43.485714 10.739375  z \" clip-path=\"url(#p45bd9bf46d)\" style=\"fill: #a1dab4; stroke: #444443; stroke-width: 0.5; stroke-linejoin: miter\" />\n   </g>\n   <g id=\"patch_39\">\n    <path d=\"M 52.254286 3.039375  L 61.022857 3.039375  L 61.022857 3.039375  L 52.254286 3.039375  z \" clip-path=\"url(#p45bd9bf46d)\" style=\"fill: #a1dab4; stroke: #444443; stroke-width: 0.5; stroke-linejoin: miter\" />\n   </g>\n   <g id=\"patch_40\">\n    <path d=\"M 61.022857 6.339375  L 69.791429 6.339375  L 69.791429 6.339375  L 61.022857 6.339375  z \" clip-path=\"url(#p45bd9bf46d)\" style=\"fill: #a1dab4; stroke: #444443; stroke-width: 0.5; stroke-linejoin: miter\" />\n   </g>\n   <g id=\"patch_41\">\n    <path d=\"M 69.791429 14.039375  L 78.56 14.039375  L 78.56 14.039375  L 69.791429 14.039375  z \" clip-path=\"url(#p45bd9bf46d)\" style=\"fill: #a1dab4; stroke: #444443; stroke-width: 0.5; stroke-linejoin: miter\" />\n   </g>\n   <g id=\"patch_42\">\n    <path d=\"M 78.56 7.439375  L 87.328571 7.439375  L 87.328571 7.439375  L 78.56 7.439375  z \" clip-path=\"url(#p45bd9bf46d)\" style=\"fill: #a1dab4; stroke: #444443; stroke-width: 0.5; stroke-linejoin: miter\" />\n   </g>\n   <g id=\"patch_43\">\n    <path d=\"M 87.328571 16.239375  L 96.097143 16.239375  L 96.097143 16.239375  L 87.328571 16.239375  z \" clip-path=\"url(#p45bd9bf46d)\" style=\"fill: #a1dab4; stroke: #444443; stroke-width: 0.5; stroke-linejoin: miter\" />\n   </g>\n   <g id=\"patch_44\">\n    <path d=\"M 96.097143 25.039375  L 104.865714 25.039375  L 104.865714 25.039375  L 96.097143 25.039375  z \" clip-path=\"url(#p45bd9bf46d)\" style=\"fill: #a1dab4; stroke: #444443; stroke-width: 0.5; stroke-linejoin: miter\" />\n   </g>\n   <g id=\"patch_45\">\n    <path d=\"M 104.865714 26.139375  L 113.634286 26.139375  L 113.634286 26.139375  L 104.865714 26.139375  z \" clip-path=\"url(#p45bd9bf46d)\" style=\"fill: #a1dab4; stroke: #444443; stroke-width: 0.5; stroke-linejoin: miter\" />\n   </g>\n   <g id=\"patch_46\">\n    <path d=\"M 113.634286 28.339375  L 122.402857 28.339375  L 122.402857 28.339375  L 113.634286 28.339375  z \" clip-path=\"url(#p45bd9bf46d)\" style=\"fill: #a1dab4; stroke: #444443; stroke-width: 0.5; stroke-linejoin: miter\" />\n   </g>\n   <g id=\"patch_47\">\n    <path d=\"M 122.402857 29.439375  L 131.171429 29.439375  L 131.171429 29.439375  L 122.402857 29.439375  z \" clip-path=\"url(#p45bd9bf46d)\" style=\"fill: #a1dab4; stroke: #444443; stroke-width: 0.5; stroke-linejoin: miter\" />\n   </g>\n   <g id=\"patch_48\">\n    <path d=\"M 131.171429 28.339375  L 139.94 28.339375  L 139.94 27.239375  L 131.171429 27.239375  z \" clip-path=\"url(#p45bd9bf46d)\" style=\"fill: #a1dab4; stroke: #444443; stroke-width: 0.5; stroke-linejoin: miter\" />\n   </g>\n   <g id=\"patch_49\">\n    <path d=\"M 139.94 29.439375  L 148.708571 29.439375  L 148.708571 28.339375  L 139.94 28.339375  z \" clip-path=\"url(#p45bd9bf46d)\" style=\"fill: #a1dab4; stroke: #444443; stroke-width: 0.5; stroke-linejoin: miter\" />\n   </g>\n   <g id=\"patch_50\">\n    <path d=\"M 148.708571 29.439375  L 157.477143 29.439375  L 157.477143 28.339375  L 148.708571 28.339375  z \" clip-path=\"url(#p45bd9bf46d)\" style=\"fill: #a1dab4; stroke: #444443; stroke-width: 0.5; stroke-linejoin: miter\" />\n   </g>\n   <g id=\"patch_51\">\n    <path d=\"M 157.477143 29.439375  L 166.245714 29.439375  L 166.245714 29.439375  L 157.477143 29.439375  z \" clip-path=\"url(#p45bd9bf46d)\" style=\"fill: #a1dab4; stroke: #444443; stroke-width: 0.5; stroke-linejoin: miter\" />\n   </g>\n   <g id=\"patch_52\">\n    <path d=\"M 166.245714 29.439375  L 175.014286 29.439375  L 175.014286 28.339375  L 166.245714 28.339375  z \" clip-path=\"url(#p45bd9bf46d)\" style=\"fill: #a1dab4; stroke: #444443; stroke-width: 0.5; stroke-linejoin: miter\" />\n   </g>\n   <g id=\"patch_53\">\n    <path d=\"M 175.014286 29.439375  L 183.782857 29.439375  L 183.782857 29.439375  L 175.014286 29.439375  z \" clip-path=\"url(#p45bd9bf46d)\" style=\"fill: #a1dab4; stroke: #444443; stroke-width: 0.5; stroke-linejoin: miter\" />\n   </g>\n   <g id=\"patch_54\">\n    <path d=\"M 123.446725 30.270975  L 120.132205 38.586975  L 126.761245 38.586975  z \" style=\"fill: #444443; stroke: #ffffff; stroke-linejoin: miter\" />\n   </g>\n   <g id=\"patch_55\">\n    <path d=\"M 17.18 29.439375  L 17.18 1.719375  \" style=\"fill: none; stroke: #444443; stroke-width: 0.3; stroke-linejoin: miter; stroke-linecap: square\" />\n   </g>\n   <g id=\"patch_56\">\n    <path d=\"M 17.18 29.439375  L 201.32 29.439375  \" style=\"fill: none; stroke: #444443; stroke-width: 0.3; stroke-linejoin: miter; stroke-linecap: square\" />\n   </g>\n  </g>\n </g>\n <defs>\n  <clipPath id=\"p45bd9bf46d\">\n   <rect x=\"17.18\" y=\"1.719375\" width=\"184.14\" height=\"27.72\" />\n  </clipPath>\n </defs>\n</svg></g>\n\n\n<g id=\"node4\" class=\"node\">\n<title>leaf2</title>\n<polygon fill=\"none\" stroke=\"#444443\" stroke-width=\"0\" points=\"68,-84 0,-84 0,0 68,0 68,-84\" />\n<svg width=\"60px\" height=\"76px\" viewBox=\"0 0 80.079993 102.071542\" version=\"1.1\" preserveAspectRatio=\"xMinYMin meet\" x=\"4\" y=\"-80\">\n <metadata>\n  <rdf:RDF>\n   <ns2:Work>\n    <dc:type rdf:resource=\"http://purl.org/dc/dcmitype/StillImage\" />\n    <dc:date>2024-10-16T15:26:02.675683</dc:date>\n    <dc:format>image/svg+xml</dc:format>\n    <dc:creator>\n     <ns2:Agent>\n      <dc:title>Matplotlib v3.7.1, https://matplotlib.org/</dc:title>\n     </ns2:Agent>\n    </dc:creator>\n   </ns2:Work>\n  </rdf:RDF>\n </metadata>\n <defs>\n  <style type=\"text/css\">*{stroke-linejoin: round; stroke-linecap: butt}</style>\n </defs>\n <g id=\"figure_1\">\n  <g id=\"patch_1\">\n   <path d=\"M 0 102.071542  L 80.079993 102.071542  L 80.079993 0  L 0 0  z \" style=\"fill: #ffffff\" />\n  </g>\n  <g id=\"axes_1\">\n   <g id=\"patch_2\">\n    <path d=\"M 80.079993 40.039998  C 80.079993 34.958321 79.112581 29.92279 77.229527 25.202879  C 75.346474 20.482968 72.581979 16.164401 69.083983 12.478282  C 65.585987 8.792163 61.41802 5.80544 56.80313 3.677946  C 52.188239 1.550452 47.210239 0.320827 42.135526 0.054872  C 37.060812 -0.211083 31.981552 0.491464 27.169558 2.124915  C 22.357565 3.758367 17.900233 6.293056 14.036095 9.593342  C 10.171956 12.893627 6.971192 16.899569 4.605089 21.39679  C 2.238986 25.894012 0.750517 30.800836 0.219336 35.854675  C -0.311844 40.908515 0.123911 46.017583 1.503284 50.90847  C 2.882656 55.799358 5.180593 60.383236 8.274122 64.414803  C 11.367651 68.446369 15.200587 71.852401 19.567813 74.450629  C 23.935039 77.048856 28.757238 78.792089 33.776351 79.587039  C 38.795465 80.381989 43.920337 80.214219 48.876712 79.092706  C 53.833088 77.971194 58.530949 75.916308 62.718893 73.038014  C 66.906837 70.159721 70.508803 66.510296 73.332032 62.285036  C 76.155262 58.059776 78.14848 53.33542 79.205021 48.364789  L 40.039993 40.039998  z \" style=\"fill: #fefebb; stroke: #444443; stroke-width: 0.5; stroke-linejoin: miter\" />\n   </g>\n   <g id=\"patch_3\">\n    <path d=\"M 79.205021 48.364789  C 79.205021 48.364789 79.205021 48.364789 79.205021 48.364789  L 40.039993 40.039998  z \" style=\"fill: #d9e6f5; stroke: #444443; stroke-width: 0.5; stroke-linejoin: miter\" />\n   </g>\n   <g id=\"patch_4\">\n    <path d=\"M 79.205021 48.364789  C 79.495677 46.99736 79.71452 45.615646 79.860649 44.225325  C 80.006777 42.835004 80.079992 41.437984 80.079993 40.040005  L 40.039993 40.039998  z \" style=\"fill: #a1dab4; stroke: #444443; stroke-width: 0.5; stroke-linejoin: miter\" />\n   </g>\n   <g id=\"text_1\">\n    \n    <g style=\"fill: #444443\" transform=\"translate(24.827883 90.121792) scale(0.09 -0.09)\">\n     <defs>\n      <path id=\"DejaVuSans-6e\" d=\"M 3513 2113  L 3513 0  L 2938 0  L 2938 2094  Q 2938 2591 2744 2837  Q 2550 3084 2163 3084  Q 1697 3084 1428 2787  Q 1159 2491 1159 1978  L 1159 0  L 581 0  L 581 3500  L 1159 3500  L 1159 2956  Q 1366 3272 1645 3428  Q 1925 3584 2291 3584  Q 2894 3584 3203 3211  Q 3513 2838 3513 2113  z \" transform=\"scale(0.015625)\" />\n      <path id=\"DejaVuSans-3d\" d=\"M 678 2906  L 4684 2906  L 4684 2381  L 678 2381  L 678 2906  z M 678 1631  L 4684 1631  L 4684 1100  L 678 1100  L 678 1631  z \" transform=\"scale(0.015625)\" />\n      <path id=\"DejaVuSans-31\" d=\"M 794 531  L 1825 531  L 1825 4091  L 703 3866  L 703 4441  L 1819 4666  L 2450 4666  L 2450 531  L 3481 531  L 3481 0  L 794 0  L 794 531  z \" transform=\"scale(0.015625)\" />\n      <path id=\"DejaVuSans-35\" d=\"M 691 4666  L 3169 4666  L 3169 4134  L 1269 4134  L 1269 2991  Q 1406 3038 1543 3061  Q 1681 3084 1819 3084  Q 2600 3084 3056 2656  Q 3513 2228 3513 1497  Q 3513 744 3044 326  Q 2575 -91 1722 -91  Q 1428 -91 1123 -41  Q 819 9 494 109  L 494 744  Q 775 591 1075 516  Q 1375 441 1709 441  Q 2250 441 2565 725  Q 2881 1009 2881 1497  Q 2881 1984 2565 2268  Q 2250 2553 1709 2553  Q 1456 2553 1204 2497  Q 953 2441 691 2322  L 691 4666  z \" transform=\"scale(0.015625)\" />\n      <path id=\"DejaVuSans-30\" d=\"M 2034 4250  Q 1547 4250 1301 3770  Q 1056 3291 1056 2328  Q 1056 1369 1301 889  Q 1547 409 2034 409  Q 2525 409 2770 889  Q 3016 1369 3016 2328  Q 3016 3291 2770 3770  Q 2525 4250 2034 4250  z M 2034 4750  Q 2819 4750 3233 4129  Q 3647 3509 3647 2328  Q 3647 1150 3233 529  Q 2819 -91 2034 -91  Q 1250 -91 836 529  Q 422 1150 422 2328  Q 422 3509 836 4129  Q 1250 4750 2034 4750  z \" transform=\"scale(0.015625)\" />\n     </defs>\n     <use xlink:href=\"#DejaVuSans-6e\" />\n     <use xlink:href=\"#DejaVuSans-3d\" x=\"63.378906\" />\n     <use xlink:href=\"#DejaVuSans-31\" x=\"147.167969\" />\n     <use xlink:href=\"#DejaVuSans-35\" x=\"210.791016\" />\n     <use xlink:href=\"#DejaVuSans-30\" x=\"274.414062\" />\n    </g>\n    \n    <g style=\"fill: #444443\" transform=\"translate(26.145539 100.199823) scale(0.09 -0.09)\">\n     <defs>\n      <path id=\"DejaVuSans-41\" d=\"M 2188 4044  L 1331 1722  L 3047 1722  L 2188 4044  z M 1831 4666  L 2547 4666  L 4325 0  L 3669 0  L 3244 1197  L 1141 1197  L 716 0  L 50 0  L 1831 4666  z \" transform=\"scale(0.015625)\" />\n      <path id=\"DejaVuSans-64\" d=\"M 2906 2969  L 2906 4863  L 3481 4863  L 3481 0  L 2906 0  L 2906 525  Q 2725 213 2448 61  Q 2172 -91 1784 -91  Q 1150 -91 751 415  Q 353 922 353 1747  Q 353 2572 751 3078  Q 1150 3584 1784 3584  Q 2172 3584 2448 3432  Q 2725 3281 2906 2969  z M 947 1747  Q 947 1113 1208 752  Q 1469 391 1925 391  Q 2381 391 2643 752  Q 2906 1113 2906 1747  Q 2906 2381 2643 2742  Q 2381 3103 1925 3103  Q 1469 3103 1208 2742  Q 947 2381 947 1747  z \" transform=\"scale(0.015625)\" />\n      <path id=\"DejaVuSans-65\" d=\"M 3597 1894  L 3597 1613  L 953 1613  Q 991 1019 1311 708  Q 1631 397 2203 397  Q 2534 397 2845 478  Q 3156 559 3463 722  L 3463 178  Q 3153 47 2828 -22  Q 2503 -91 2169 -91  Q 1331 -91 842 396  Q 353 884 353 1716  Q 353 2575 817 3079  Q 1281 3584 2069 3584  Q 2775 3584 3186 3129  Q 3597 2675 3597 1894  z M 3022 2063  Q 3016 2534 2758 2815  Q 2500 3097 2075 3097  Q 1594 3097 1305 2825  Q 1016 2553 972 2059  L 3022 2063  z \" transform=\"scale(0.015625)\" />\n      <path id=\"DejaVuSans-6c\" d=\"M 603 4863  L 1178 4863  L 1178 0  L 603 0  L 603 4863  z \" transform=\"scale(0.015625)\" />\n      <path id=\"DejaVuSans-69\" d=\"M 603 3500  L 1178 3500  L 1178 0  L 603 0  L 603 3500  z M 603 4863  L 1178 4863  L 1178 4134  L 603 4134  L 603 4863  z \" transform=\"scale(0.015625)\" />\n     </defs>\n     <use xlink:href=\"#DejaVuSans-41\" />\n     <use xlink:href=\"#DejaVuSans-64\" x=\"66.658203\" />\n     <use xlink:href=\"#DejaVuSans-65\" x=\"130.134766\" />\n     <use xlink:href=\"#DejaVuSans-6c\" x=\"191.658203\" />\n     <use xlink:href=\"#DejaVuSans-69\" x=\"219.441406\" />\n     <use xlink:href=\"#DejaVuSans-65\" x=\"247.224609\" />\n    </g>\n   </g>\n  </g>\n </g>\n</svg></g>\n\n<g id=\"edge1\" class=\"edge\">\n<title>node1-&gt;leaf2</title>\n<path fill=\"none\" stroke=\"#444443\" stroke-width=\"0.3\" d=\"M71.94,-100.84C69.09,-96.5 66.15,-92.01 63.22,-87.55\" />\n<polygon fill=\"#444443\" stroke=\"#444443\" stroke-width=\"0.3\" points=\"64.35,-86.72 60.99,-84.14 62.01,-88.26 64.35,-86.72\" />\n</g>\n\n<g id=\"node5\" class=\"node\">\n<title>leaf3</title>\n<polygon fill=\"none\" stroke=\"#444443\" stroke-width=\"0\" points=\"150,-84 82,-84 82,0 150,0 150,-84\" />\n<svg width=\"60px\" height=\"76px\" viewBox=\"0 0 80.08 102.071537\" version=\"1.1\" preserveAspectRatio=\"xMinYMin meet\" x=\"86\" y=\"-80\">\n <metadata>\n  <rdf:RDF>\n   <ns2:Work>\n    <dc:type rdf:resource=\"http://purl.org/dc/dcmitype/StillImage\" />\n    <dc:date>2024-10-16T15:26:02.779110</dc:date>\n    <dc:format>image/svg+xml</dc:format>\n    <dc:creator>\n     <ns2:Agent>\n      <dc:title>Matplotlib v3.7.1, https://matplotlib.org/</dc:title>\n     </ns2:Agent>\n    </dc:creator>\n   </ns2:Work>\n  </rdf:RDF>\n </metadata>\n <defs>\n  <style type=\"text/css\">*{stroke-linejoin: round; stroke-linecap: butt}</style>\n </defs>\n <g id=\"figure_1\">\n  <g id=\"patch_1\">\n   <path d=\"M 0 102.071537  L 80.08 102.071537  L 80.08 0  L 0 0  z \" style=\"fill: #ffffff\" />\n  </g>\n  <g id=\"axes_1\">\n   <g id=\"patch_2\">\n    <path d=\"M 80.08 40.039993  C 80.08 36.907326 79.712357 33.785454 78.984622 30.738487  C 78.256886 27.69152 77.174074 24.740459 75.75842 21.945905  L 40.04 40.039993  z \" style=\"fill: #fefebb; stroke: #444443; stroke-width: 0.5; stroke-linejoin: miter\" />\n   </g>\n   <g id=\"patch_3\">\n    <path d=\"M 75.75842 21.945905  C 74.909649 20.270398 73.944035 18.656688 72.868733 17.116733  C 71.793431 15.576777 70.611105 14.11439 69.330515 12.740408  L 40.04 40.039993  z \" style=\"fill: #d9e6f5; stroke: #444443; stroke-width: 0.5; stroke-linejoin: miter\" />\n   </g>\n   <g id=\"patch_4\">\n    <path d=\"M 69.330515 12.740408  C 66.175876 9.355705 62.458292 6.543281 58.343129 4.428239  C 54.227967 2.313197 49.777163 0.927371 45.188702 0.332406  C 40.60024 -0.262559 35.943181 -0.057708 31.424682 0.937846  C 26.906183 1.9334 22.594251 3.704674 18.680692 6.172876  C 14.767134 8.641079 11.310851 11.769061 8.465588 15.417683  C 5.620326 19.066305 3.428906 23.180652 1.988811 27.577706  C 0.548715 31.97476 -0.118383 36.588343 0.017192 41.213231  C 0.152767 45.838118 1.088974 50.404701 2.784168 54.709847  C 4.479362 59.014993 6.908029 62.993905 9.962135 66.469592  C 13.016242 69.945278 16.649821 72.865427 20.701242 75.100142  C 24.752662 77.334857 29.160948 78.850505 33.730006 79.579664  C 38.299063 80.308824 42.960126 80.240521 47.505856 79.377794  C 52.051586 78.515068 56.413568 76.870902 60.397769 74.518433  C 64.38197 72.165965 67.928424 69.140601 70.879376 65.576917  C 73.830328 62.013233 76.141364 57.964865 77.709683 53.611896  C 79.278002 49.258928 80.079999 44.666873 80.08 40.039999  L 40.04 40.039993  z \" style=\"fill: #a1dab4; stroke: #444443; stroke-width: 0.5; stroke-linejoin: miter\" />\n   </g>\n   <g id=\"text_1\">\n    \n    <g style=\"fill: #444443\" transform=\"translate(27.691015 90.121787) scale(0.09 -0.09)\">\n     <defs>\n      <path id=\"DejaVuSans-6e\" d=\"M 3513 2113  L 3513 0  L 2938 0  L 2938 2094  Q 2938 2591 2744 2837  Q 2550 3084 2163 3084  Q 1697 3084 1428 2787  Q 1159 2491 1159 1978  L 1159 0  L 581 0  L 581 3500  L 1159 3500  L 1159 2956  Q 1366 3272 1645 3428  Q 1925 3584 2291 3584  Q 2894 3584 3203 3211  Q 3513 2838 3513 2113  z \" transform=\"scale(0.015625)\" />\n      <path id=\"DejaVuSans-3d\" d=\"M 678 2906  L 4684 2906  L 4684 2381  L 678 2381  L 678 2906  z M 678 1631  L 4684 1631  L 4684 1100  L 678 1100  L 678 1631  z \" transform=\"scale(0.015625)\" />\n      <path id=\"DejaVuSans-36\" d=\"M 2113 2584  Q 1688 2584 1439 2293  Q 1191 2003 1191 1497  Q 1191 994 1439 701  Q 1688 409 2113 409  Q 2538 409 2786 701  Q 3034 994 3034 1497  Q 3034 2003 2786 2293  Q 2538 2584 2113 2584  z M 3366 4563  L 3366 3988  Q 3128 4100 2886 4159  Q 2644 4219 2406 4219  Q 1781 4219 1451 3797  Q 1122 3375 1075 2522  Q 1259 2794 1537 2939  Q 1816 3084 2150 3084  Q 2853 3084 3261 2657  Q 3669 2231 3669 1497  Q 3669 778 3244 343  Q 2819 -91 2113 -91  Q 1303 -91 875 529  Q 447 1150 447 2328  Q 447 3434 972 4092  Q 1497 4750 2381 4750  Q 2619 4750 2861 4703  Q 3103 4656 3366 4563  z \" transform=\"scale(0.015625)\" />\n      <path id=\"DejaVuSans-37\" d=\"M 525 4666  L 3525 4666  L 3525 4397  L 1831 0  L 1172 0  L 2766 4134  L 525 4134  L 525 4666  z \" transform=\"scale(0.015625)\" />\n     </defs>\n     <use xlink:href=\"#DejaVuSans-6e\" />\n     <use xlink:href=\"#DejaVuSans-3d\" x=\"63.378906\" />\n     <use xlink:href=\"#DejaVuSans-36\" x=\"147.167969\" />\n     <use xlink:href=\"#DejaVuSans-37\" x=\"210.791016\" />\n    </g>\n    \n    <g style=\"fill: #444443\" transform=\"translate(23.661406 100.199818) scale(0.09 -0.09)\">\n     <defs>\n      <path id=\"DejaVuSans-47\" d=\"M 3809 666  L 3809 1919  L 2778 1919  L 2778 2438  L 4434 2438  L 4434 434  Q 4069 175 3628 42  Q 3188 -91 2688 -91  Q 1594 -91 976 548  Q 359 1188 359 2328  Q 359 3472 976 4111  Q 1594 4750 2688 4750  Q 3144 4750 3555 4637  Q 3966 4525 4313 4306  L 4313 3634  Q 3963 3931 3569 4081  Q 3175 4231 2741 4231  Q 1884 4231 1454 3753  Q 1025 3275 1025 2328  Q 1025 1384 1454 906  Q 1884 428 2741 428  Q 3075 428 3337 486  Q 3600 544 3809 666  z \" transform=\"scale(0.015625)\" />\n      <path id=\"DejaVuSans-65\" d=\"M 3597 1894  L 3597 1613  L 953 1613  Q 991 1019 1311 708  Q 1631 397 2203 397  Q 2534 397 2845 478  Q 3156 559 3463 722  L 3463 178  Q 3153 47 2828 -22  Q 2503 -91 2169 -91  Q 1331 -91 842 396  Q 353 884 353 1716  Q 353 2575 817 3079  Q 1281 3584 2069 3584  Q 2775 3584 3186 3129  Q 3597 2675 3597 1894  z M 3022 2063  Q 3016 2534 2758 2815  Q 2500 3097 2075 3097  Q 1594 3097 1305 2825  Q 1016 2553 972 2059  L 3022 2063  z \" transform=\"scale(0.015625)\" />\n      <path id=\"DejaVuSans-74\" d=\"M 1172 4494  L 1172 3500  L 2356 3500  L 2356 3053  L 1172 3053  L 1172 1153  Q 1172 725 1289 603  Q 1406 481 1766 481  L 2356 481  L 2356 0  L 1766 0  Q 1100 0 847 248  Q 594 497 594 1153  L 594 3053  L 172 3053  L 172 3500  L 594 3500  L 594 4494  L 1172 4494  z \" transform=\"scale(0.015625)\" />\n      <path id=\"DejaVuSans-6f\" d=\"M 1959 3097  Q 1497 3097 1228 2736  Q 959 2375 959 1747  Q 959 1119 1226 758  Q 1494 397 1959 397  Q 2419 397 2687 759  Q 2956 1122 2956 1747  Q 2956 2369 2687 2733  Q 2419 3097 1959 3097  z M 1959 3584  Q 2709 3584 3137 3096  Q 3566 2609 3566 1747  Q 3566 888 3137 398  Q 2709 -91 1959 -91  Q 1206 -91 779 398  Q 353 888 353 1747  Q 353 2609 779 3096  Q 1206 3584 1959 3584  z \" transform=\"scale(0.015625)\" />\n     </defs>\n     <use xlink:href=\"#DejaVuSans-47\" />\n     <use xlink:href=\"#DejaVuSans-65\" x=\"77.490234\" />\n     <use xlink:href=\"#DejaVuSans-6e\" x=\"139.013672\" />\n     <use xlink:href=\"#DejaVuSans-74\" x=\"202.392578\" />\n     <use xlink:href=\"#DejaVuSans-6f\" x=\"241.601562\" />\n     <use xlink:href=\"#DejaVuSans-6f\" x=\"302.783203\" />\n    </g>\n   </g>\n  </g>\n </g>\n</svg></g>\n\n<g id=\"edge2\" class=\"edge\">\n<title>node1-&gt;leaf3</title>\n<path fill=\"none\" stroke=\"#444443\" stroke-width=\"0.3\" d=\"M102.94,-100.84C103.88,-96.67 104.85,-92.36 105.82,-88.07\" />\n<polygon fill=\"#444443\" stroke=\"#444443\" stroke-width=\"0.3\" points=\"107.19,-88.35 106.71,-84.14 104.46,-87.74 107.19,-88.35\" />\n</g>\n\n<g id=\"node6\" class=\"node\">\n<title>leaf5</title>\n<polygon fill=\"none\" stroke=\"#444443\" stroke-width=\"0\" points=\"268,-84 200,-84 200,0 268,0 268,-84\" />\n<svg width=\"60px\" height=\"76px\" viewBox=\"0 0 80.08 102.071543\" version=\"1.1\" preserveAspectRatio=\"xMinYMin meet\" x=\"204\" y=\"-80\">\n <metadata>\n  <rdf:RDF>\n   <ns2:Work>\n    <dc:type rdf:resource=\"http://purl.org/dc/dcmitype/StillImage\" />\n    <dc:date>2024-10-16T15:26:02.885891</dc:date>\n    <dc:format>image/svg+xml</dc:format>\n    <dc:creator>\n     <ns2:Agent>\n      <dc:title>Matplotlib v3.7.1, https://matplotlib.org/</dc:title>\n     </ns2:Agent>\n    </dc:creator>\n   </ns2:Work>\n  </rdf:RDF>\n </metadata>\n <defs>\n  <style type=\"text/css\">*{stroke-linejoin: round; stroke-linecap: butt}</style>\n </defs>\n <g id=\"figure_1\">\n  <g id=\"patch_1\">\n   <path d=\"M 0 102.071543  L 80.08 102.071543  L 80.08 0  L 0 0  z \" style=\"fill: #ffffff\" />\n  </g>\n  <g id=\"axes_1\">\n   <g id=\"patch_2\">\n    <path d=\"M 80.08 40.039999  C 80.08 39.696308 80.075575 39.35263 80.066725 39.009053  C 80.057876 38.665475 80.044603 38.322026 80.02691 37.97879  L 40.04 40.039999  z \" style=\"fill: #fefebb; stroke: #444443; stroke-width: 0.5; stroke-linejoin: miter\" />\n   </g>\n   <g id=\"patch_3\">\n    <path d=\"M 80.02691 37.97879  C 79.758467 32.771069 78.475245 27.665593 76.249495 22.949826  C 74.023746 18.234059 70.89804 13.998199 67.048372 10.480746  C 63.198703 6.963293 58.698705 4.231526 53.801747 2.439256  C 48.90479 0.646986 43.704539 -0.171506 38.493793 0.029865  C 33.283047 0.231236 28.161473 1.448619 23.417441 3.613469  C 18.673408 5.778319 14.397656 8.849228 10.83093 12.65329  C 7.264204 16.457352 4.474726 20.921806 2.619556 25.795282  C 0.764386 30.668758 -0.120992 35.85804 0.013274 41.070947  C 0.14754 46.283853 1.298882 51.420677 3.402473 56.192189  C 5.506064 60.963701 8.521668 65.278636 12.279494 68.894044  C 16.037319 72.509452 20.465488 75.356179 25.314675 77.273941  C 30.163862 79.191703 35.341314 80.143819 40.555517 80.07668  C 45.769721 80.009542 50.920942 78.924432 55.719142 76.882449  C 60.517342 74.840466 64.870746 71.880666 68.534236 68.1697  C 72.197726 64.458735 75.10123 60.067584 77.081267 55.243491  C 79.061303 50.419397 80.08 45.254632 80.08 40.039997  L 40.04 40.039999  z \" style=\"fill: #d9e6f5; stroke: #444443; stroke-width: 0.5; stroke-linejoin: miter\" />\n   </g>\n   <g id=\"patch_4\">\n    <path d=\"M 80.08 40.039997  C 80.08 40.039997 80.08 40.039997 80.08 40.039997  L 40.04 40.039999  z \" style=\"fill: #a1dab4; stroke: #444443; stroke-width: 0.5; stroke-linejoin: miter\" />\n   </g>\n   <g id=\"text_1\">\n    \n    <g style=\"fill: #444443\" transform=\"translate(24.82789 90.121793) scale(0.09 -0.09)\">\n     <defs>\n      <path id=\"DejaVuSans-6e\" d=\"M 3513 2113  L 3513 0  L 2938 0  L 2938 2094  Q 2938 2591 2744 2837  Q 2550 3084 2163 3084  Q 1697 3084 1428 2787  Q 1159 2491 1159 1978  L 1159 0  L 581 0  L 581 3500  L 1159 3500  L 1159 2956  Q 1366 3272 1645 3428  Q 1925 3584 2291 3584  Q 2894 3584 3203 3211  Q 3513 2838 3513 2113  z \" transform=\"scale(0.015625)\" />\n      <path id=\"DejaVuSans-3d\" d=\"M 678 2906  L 4684 2906  L 4684 2381  L 678 2381  L 678 2906  z M 678 1631  L 4684 1631  L 4684 1100  L 678 1100  L 678 1631  z \" transform=\"scale(0.015625)\" />\n      <path id=\"DejaVuSans-31\" d=\"M 794 531  L 1825 531  L 1825 4091  L 703 3866  L 703 4441  L 1819 4666  L 2450 4666  L 2450 531  L 3481 531  L 3481 0  L 794 0  L 794 531  z \" transform=\"scale(0.015625)\" />\n      <path id=\"DejaVuSans-32\" d=\"M 1228 531  L 3431 531  L 3431 0  L 469 0  L 469 531  Q 828 903 1448 1529  Q 2069 2156 2228 2338  Q 2531 2678 2651 2914  Q 2772 3150 2772 3378  Q 2772 3750 2511 3984  Q 2250 4219 1831 4219  Q 1534 4219 1204 4116  Q 875 4013 500 3803  L 500 4441  Q 881 4594 1212 4672  Q 1544 4750 1819 4750  Q 2544 4750 2975 4387  Q 3406 4025 3406 3419  Q 3406 3131 3298 2873  Q 3191 2616 2906 2266  Q 2828 2175 2409 1742  Q 1991 1309 1228 531  z \" transform=\"scale(0.015625)\" />\n     </defs>\n     <use xlink:href=\"#DejaVuSans-6e\" />\n     <use xlink:href=\"#DejaVuSans-3d\" x=\"63.378906\" />\n     <use xlink:href=\"#DejaVuSans-31\" x=\"147.167969\" />\n     <use xlink:href=\"#DejaVuSans-32\" x=\"210.791016\" />\n     <use xlink:href=\"#DejaVuSans-32\" x=\"274.414062\" />\n    </g>\n    \n    <g style=\"fill: #444443\" transform=\"translate(18.371093 100.199824) scale(0.09 -0.09)\">\n     <defs>\n      <path id=\"DejaVuSans-43\" d=\"M 4122 4306  L 4122 3641  Q 3803 3938 3442 4084  Q 3081 4231 2675 4231  Q 1875 4231 1450 3742  Q 1025 3253 1025 2328  Q 1025 1406 1450 917  Q 1875 428 2675 428  Q 3081 428 3442 575  Q 3803 722 4122 1019  L 4122 359  Q 3791 134 3420 21  Q 3050 -91 2638 -91  Q 1578 -91 968 557  Q 359 1206 359 2328  Q 359 3453 968 4101  Q 1578 4750 2638 4750  Q 3056 4750 3426 4639  Q 3797 4528 4122 4306  z \" transform=\"scale(0.015625)\" />\n      <path id=\"DejaVuSans-68\" d=\"M 3513 2113  L 3513 0  L 2938 0  L 2938 2094  Q 2938 2591 2744 2837  Q 2550 3084 2163 3084  Q 1697 3084 1428 2787  Q 1159 2491 1159 1978  L 1159 0  L 581 0  L 581 4863  L 1159 4863  L 1159 2956  Q 1366 3272 1645 3428  Q 1925 3584 2291 3584  Q 2894 3584 3203 3211  Q 3513 2838 3513 2113  z \" transform=\"scale(0.015625)\" />\n      <path id=\"DejaVuSans-69\" d=\"M 603 3500  L 1178 3500  L 1178 0  L 603 0  L 603 3500  z M 603 4863  L 1178 4863  L 1178 4134  L 603 4134  L 603 4863  z \" transform=\"scale(0.015625)\" />\n      <path id=\"DejaVuSans-73\" d=\"M 2834 3397  L 2834 2853  Q 2591 2978 2328 3040  Q 2066 3103 1784 3103  Q 1356 3103 1142 2972  Q 928 2841 928 2578  Q 928 2378 1081 2264  Q 1234 2150 1697 2047  L 1894 2003  Q 2506 1872 2764 1633  Q 3022 1394 3022 966  Q 3022 478 2636 193  Q 2250 -91 1575 -91  Q 1294 -91 989 -36  Q 684 19 347 128  L 347 722  Q 666 556 975 473  Q 1284 391 1588 391  Q 1994 391 2212 530  Q 2431 669 2431 922  Q 2431 1156 2273 1281  Q 2116 1406 1581 1522  L 1381 1569  Q 847 1681 609 1914  Q 372 2147 372 2553  Q 372 3047 722 3315  Q 1072 3584 1716 3584  Q 2034 3584 2315 3537  Q 2597 3491 2834 3397  z \" transform=\"scale(0.015625)\" />\n      <path id=\"DejaVuSans-74\" d=\"M 1172 4494  L 1172 3500  L 2356 3500  L 2356 3053  L 1172 3053  L 1172 1153  Q 1172 725 1289 603  Q 1406 481 1766 481  L 2356 481  L 2356 0  L 1766 0  Q 1100 0 847 248  Q 594 497 594 1153  L 594 3053  L 172 3053  L 172 3500  L 594 3500  L 594 4494  L 1172 4494  z \" transform=\"scale(0.015625)\" />\n      <path id=\"DejaVuSans-72\" d=\"M 2631 2963  Q 2534 3019 2420 3045  Q 2306 3072 2169 3072  Q 1681 3072 1420 2755  Q 1159 2438 1159 1844  L 1159 0  L 581 0  L 581 3500  L 1159 3500  L 1159 2956  Q 1341 3275 1631 3429  Q 1922 3584 2338 3584  Q 2397 3584 2469 3576  Q 2541 3569 2628 3553  L 2631 2963  z \" transform=\"scale(0.015625)\" />\n      <path id=\"DejaVuSans-61\" d=\"M 2194 1759  Q 1497 1759 1228 1600  Q 959 1441 959 1056  Q 959 750 1161 570  Q 1363 391 1709 391  Q 2188 391 2477 730  Q 2766 1069 2766 1631  L 2766 1759  L 2194 1759  z M 3341 1997  L 3341 0  L 2766 0  L 2766 531  Q 2569 213 2275 61  Q 1981 -91 1556 -91  Q 1019 -91 701 211  Q 384 513 384 1019  Q 384 1609 779 1909  Q 1175 2209 1959 2209  L 2766 2209  L 2766 2266  Q 2766 2663 2505 2880  Q 2244 3097 1772 3097  Q 1472 3097 1187 3025  Q 903 2953 641 2809  L 641 3341  Q 956 3463 1253 3523  Q 1550 3584 1831 3584  Q 2591 3584 2966 3190  Q 3341 2797 3341 1997  z \" transform=\"scale(0.015625)\" />\n      <path id=\"DejaVuSans-70\" d=\"M 1159 525  L 1159 -1331  L 581 -1331  L 581 3500  L 1159 3500  L 1159 2969  Q 1341 3281 1617 3432  Q 1894 3584 2278 3584  Q 2916 3584 3314 3078  Q 3713 2572 3713 1747  Q 3713 922 3314 415  Q 2916 -91 2278 -91  Q 1894 -91 1617 61  Q 1341 213 1159 525  z M 3116 1747  Q 3116 2381 2855 2742  Q 2594 3103 2138 3103  Q 1681 3103 1420 2742  Q 1159 2381 1159 1747  Q 1159 1113 1420 752  Q 1681 391 2138 391  Q 2594 391 2855 752  Q 3116 1113 3116 1747  z \" transform=\"scale(0.015625)\" />\n     </defs>\n     <use xlink:href=\"#DejaVuSans-43\" />\n     <use xlink:href=\"#DejaVuSans-68\" x=\"69.824219\" />\n     <use xlink:href=\"#DejaVuSans-69\" x=\"133.203125\" />\n     <use xlink:href=\"#DejaVuSans-6e\" x=\"160.986328\" />\n     <use xlink:href=\"#DejaVuSans-73\" x=\"224.365234\" />\n     <use xlink:href=\"#DejaVuSans-74\" x=\"276.464844\" />\n     <use xlink:href=\"#DejaVuSans-72\" x=\"315.673828\" />\n     <use xlink:href=\"#DejaVuSans-61\" x=\"356.787109\" />\n     <use xlink:href=\"#DejaVuSans-70\" x=\"418.066406\" />\n    </g>\n   </g>\n  </g>\n </g>\n</svg></g>\n\n<g id=\"edge4\" class=\"edge\">\n<title>node4-&gt;leaf5</title>\n<path fill=\"none\" stroke=\"#444443\" stroke-width=\"0.3\" d=\"M256.57,-108.6C254.36,-102.18 251.95,-95.17 249.55,-88.2\" />\n<polygon fill=\"#444443\" stroke=\"#444443\" stroke-width=\"0.3\" points=\"250.85,-87.67 248.22,-84.34 248.2,-88.58 250.85,-87.67\" />\n</g>\n\n<g id=\"node7\" class=\"node\">\n<title>leaf6</title>\n<polygon fill=\"none\" stroke=\"#444443\" stroke-width=\"0\" points=\"314,-59 282,-59 282,-25 314,-25 314,-59\" />\n<svg width=\"24px\" height=\"26px\" viewBox=\"0 0 32.757188 34.804344\" version=\"1.1\" preserveAspectRatio=\"xMinYMin meet\" x=\"286\" y=\"-55\">\n <metadata>\n  <rdf:RDF>\n   <ns2:Work>\n    <dc:type rdf:resource=\"http://purl.org/dc/dcmitype/StillImage\" />\n    <dc:date>2024-10-16T15:26:02.997856</dc:date>\n    <dc:format>image/svg+xml</dc:format>\n    <dc:creator>\n     <ns2:Agent>\n      <dc:title>Matplotlib v3.7.1, https://matplotlib.org/</dc:title>\n     </ns2:Agent>\n    </dc:creator>\n   </ns2:Work>\n  </rdf:RDF>\n </metadata>\n <defs>\n  <style type=\"text/css\">*{stroke-linejoin: round; stroke-linecap: butt}</style>\n </defs>\n <g id=\"figure_1\">\n  <g id=\"patch_1\">\n   <path d=\"M 0 34.804344  L 32.757188 34.804344  L 32.757188 0  L 0 0  z \" style=\"fill: #ffffff\" />\n  </g>\n  <g id=\"axes_1\">\n   <g id=\"patch_2\">\n    <path d=\"M 24.078594 7.7  C 24.078594 6.074172 23.563662 4.489376 22.608025 3.174053  C 21.652387 1.858731 20.304279 0.879273 18.758024 0.376865  L 16.378594 7.7  z \" style=\"fill: #fefebb; stroke: #444443; stroke-width: 0.5; stroke-linejoin: miter\" />\n   </g>\n   <g id=\"patch_3\">\n    <path d=\"M 18.758024 0.376865  C 18.758024 0.376865 18.758024 0.376865 18.758024 0.376865  L 16.378594 7.7  z \" style=\"fill: #d9e6f5; stroke: #444443; stroke-width: 0.5; stroke-linejoin: miter\" />\n   </g>\n   <g id=\"patch_4\">\n    <path d=\"M 18.758024 0.376865  C 17.989574 0.12718 17.18659 -0 16.378594 -0  C 15.570597 0 14.767613 0.12718 13.999163 0.376865  C 13.230712 0.62655 12.50633 0.995641 11.852647 1.470569  C 11.198964 1.945498 10.624091 2.520371 10.149163 3.174054  C 9.674234 3.827737 9.305143 4.552119 9.055458 5.320569  C 8.805774 6.08902 8.678594 6.892004 8.678594 7.7  C 8.678594 8.507997 8.805774 9.310981 9.055459 10.079431  C 9.305143 10.847882 9.674235 11.572264 10.149163 12.225947  C 10.624092 12.87963 11.198965 13.454503 11.852648 13.929431  C 12.506331 14.40436 13.230713 14.773451 13.999163 15.023135  C 14.767614 15.27282 15.570598 15.4 16.378594 15.4  C 17.186591 15.4 17.989575 15.27282 18.758025 15.023135  C 19.526475 14.77345 20.250858 14.404359 20.904541 13.92943  C 21.558224 13.454502 22.133097 12.879629 22.608025 12.225946  C 23.082953 11.572263 23.452045 10.847881 23.701729 10.07943  C 23.951414 9.31098 24.078594 8.507996 24.078594 7.699999  L 16.378594 7.7  z \" style=\"fill: #a1dab4; stroke: #444443; stroke-width: 0.5; stroke-linejoin: miter\" />\n   </g>\n   <g id=\"text_1\">\n    \n    <g style=\"fill: #444443\" transform=\"translate(6.892734 22.854594) scale(0.09 -0.09)\">\n     <defs>\n      <path id=\"DejaVuSans-6e\" d=\"M 3513 2113  L 3513 0  L 2938 0  L 2938 2094  Q 2938 2591 2744 2837  Q 2550 3084 2163 3084  Q 1697 3084 1428 2787  Q 1159 2491 1159 1978  L 1159 0  L 581 0  L 581 3500  L 1159 3500  L 1159 2956  Q 1366 3272 1645 3428  Q 1925 3584 2291 3584  Q 2894 3584 3203 3211  Q 3513 2838 3513 2113  z \" transform=\"scale(0.015625)\" />\n      <path id=\"DejaVuSans-3d\" d=\"M 678 2906  L 4684 2906  L 4684 2381  L 678 2381  L 678 2906  z M 678 1631  L 4684 1631  L 4684 1100  L 678 1100  L 678 1631  z \" transform=\"scale(0.015625)\" />\n      <path id=\"DejaVuSans-35\" d=\"M 691 4666  L 3169 4666  L 3169 4134  L 1269 4134  L 1269 2991  Q 1406 3038 1543 3061  Q 1681 3084 1819 3084  Q 2600 3084 3056 2656  Q 3513 2228 3513 1497  Q 3513 744 3044 326  Q 2575 -91 1722 -91  Q 1428 -91 1123 -41  Q 819 9 494 109  L 494 744  Q 775 591 1075 516  Q 1375 441 1709 441  Q 2250 441 2565 725  Q 2881 1009 2881 1497  Q 2881 1984 2565 2268  Q 2250 2553 1709 2553  Q 1456 2553 1204 2497  Q 953 2441 691 2322  L 691 4666  z \" transform=\"scale(0.015625)\" />\n     </defs>\n     <use xlink:href=\"#DejaVuSans-6e\" />\n     <use xlink:href=\"#DejaVuSans-3d\" x=\"63.378906\" />\n     <use xlink:href=\"#DejaVuSans-35\" x=\"147.167969\" />\n    </g>\n    \n    <g style=\"fill: #444443\" transform=\"translate(0 32.932625) scale(0.09 -0.09)\">\n     <defs>\n      <path id=\"DejaVuSans-47\" d=\"M 3809 666  L 3809 1919  L 2778 1919  L 2778 2438  L 4434 2438  L 4434 434  Q 4069 175 3628 42  Q 3188 -91 2688 -91  Q 1594 -91 976 548  Q 359 1188 359 2328  Q 359 3472 976 4111  Q 1594 4750 2688 4750  Q 3144 4750 3555 4637  Q 3966 4525 4313 4306  L 4313 3634  Q 3963 3931 3569 4081  Q 3175 4231 2741 4231  Q 1884 4231 1454 3753  Q 1025 3275 1025 2328  Q 1025 1384 1454 906  Q 1884 428 2741 428  Q 3075 428 3337 486  Q 3600 544 3809 666  z \" transform=\"scale(0.015625)\" />\n      <path id=\"DejaVuSans-65\" d=\"M 3597 1894  L 3597 1613  L 953 1613  Q 991 1019 1311 708  Q 1631 397 2203 397  Q 2534 397 2845 478  Q 3156 559 3463 722  L 3463 178  Q 3153 47 2828 -22  Q 2503 -91 2169 -91  Q 1331 -91 842 396  Q 353 884 353 1716  Q 353 2575 817 3079  Q 1281 3584 2069 3584  Q 2775 3584 3186 3129  Q 3597 2675 3597 1894  z M 3022 2063  Q 3016 2534 2758 2815  Q 2500 3097 2075 3097  Q 1594 3097 1305 2825  Q 1016 2553 972 2059  L 3022 2063  z \" transform=\"scale(0.015625)\" />\n      <path id=\"DejaVuSans-74\" d=\"M 1172 4494  L 1172 3500  L 2356 3500  L 2356 3053  L 1172 3053  L 1172 1153  Q 1172 725 1289 603  Q 1406 481 1766 481  L 2356 481  L 2356 0  L 1766 0  Q 1100 0 847 248  Q 594 497 594 1153  L 594 3053  L 172 3053  L 172 3500  L 594 3500  L 594 4494  L 1172 4494  z \" transform=\"scale(0.015625)\" />\n      <path id=\"DejaVuSans-6f\" d=\"M 1959 3097  Q 1497 3097 1228 2736  Q 959 2375 959 1747  Q 959 1119 1226 758  Q 1494 397 1959 397  Q 2419 397 2687 759  Q 2956 1122 2956 1747  Q 2956 2369 2687 2733  Q 2419 3097 1959 3097  z M 1959 3584  Q 2709 3584 3137 3096  Q 3566 2609 3566 1747  Q 3566 888 3137 398  Q 2709 -91 1959 -91  Q 1206 -91 779 398  Q 353 888 353 1747  Q 353 2609 779 3096  Q 1206 3584 1959 3584  z \" transform=\"scale(0.015625)\" />\n     </defs>\n     <use xlink:href=\"#DejaVuSans-47\" />\n     <use xlink:href=\"#DejaVuSans-65\" x=\"77.490234\" />\n     <use xlink:href=\"#DejaVuSans-6e\" x=\"139.013672\" />\n     <use xlink:href=\"#DejaVuSans-74\" x=\"202.392578\" />\n     <use xlink:href=\"#DejaVuSans-6f\" x=\"241.601562\" />\n     <use xlink:href=\"#DejaVuSans-6f\" x=\"302.783203\" />\n    </g>\n   </g>\n  </g>\n </g>\n</svg></g>\n\n<g id=\"edge5\" class=\"edge\">\n<title>node4-&gt;leaf6</title>\n<path fill=\"none\" stroke=\"#444443\" stroke-width=\"0.3\" d=\"M275.43,-108.6C280.44,-94.03 286.49,-76.44 291.07,-63.14\" />\n<polygon fill=\"#444443\" stroke=\"#444443\" stroke-width=\"0.3\" points=\"292.46,-63.4 292.44,-59.16 289.81,-62.49 292.46,-63.4\" />\n</g>\n\n<g id=\"node3\" class=\"node\">\n<title>node0</title>\n<svg width=\"150px\" height=\"88px\" viewBox=\"0 0 201.32 118.35\" version=\"1.1\" preserveAspectRatio=\"xMinYMin meet\" x=\"105\" y=\"-296\">\n <metadata>\n  <rdf:RDF>\n   <ns2:Work>\n    <dc:type rdf:resource=\"http://purl.org/dc/dcmitype/StillImage\" />\n    <dc:date>2024-10-16T15:26:02.485760</dc:date>\n    <dc:format>image/svg+xml</dc:format>\n    <dc:creator>\n     <ns2:Agent>\n      <dc:title>Matplotlib v3.7.1, https://matplotlib.org/</dc:title>\n     </ns2:Agent>\n    </dc:creator>\n   </ns2:Work>\n  </rdf:RDF>\n </metadata>\n <defs>\n  <style type=\"text/css\">*{stroke-linejoin: round; stroke-linecap: butt}</style>\n </defs>\n <g id=\"figure_1\">\n  <g id=\"patch_1\">\n   <path d=\"M 0 118.35  L 201.32 118.35  L 201.32 0  L 0 0  z \" style=\"fill: #ffffff\" />\n  </g>\n  <g id=\"axes_1\">\n   <g id=\"patch_2\">\n    <path d=\"M 17.18 83.16  L 201.32 83.16  L 201.32 0  L 17.18 0  z \" style=\"fill: #ffffff\" />\n   </g>\n   <g id=\"matplotlib.axis_1\">\n    <g id=\"xtick_1\">\n     <g id=\"line2d_1\">\n      <defs>\n       <path id=\"mca28cfb225\" d=\"M 0 0  L 0 3.5  \" style=\"stroke: #262626; stroke-width: 0.3\" />\n      </defs>\n      <g>\n       <use xlink:href=\"#mca28cfb225\" x=\"34.717143\" y=\"83.16\" style=\"fill: #262626; stroke: #262626; stroke-width: 0.3\" />\n      </g>\n     </g>\n     <g id=\"text_1\">\n      \n      <g style=\"fill: #444443\" transform=\"translate(23.265893 100.73875) scale(0.08 -0.08)\">\n       <defs>\n        <path id=\"DejaVuSans-31\" d=\"M 794 531  L 1825 531  L 1825 4091  L 703 3866  L 703 4441  L 1819 4666  L 2450 4666  L 2450 531  L 3481 531  L 3481 0  L 794 0  L 794 531  z \" transform=\"scale(0.015625)\" />\n        <path id=\"DejaVuSans-37\" d=\"M 525 4666  L 3525 4666  L 3525 4397  L 1831 0  L 1172 0  L 2766 4134  L 525 4134  L 525 4666  z \" transform=\"scale(0.015625)\" />\n        <path id=\"DejaVuSans-32\" d=\"M 1228 531  L 3431 531  L 3431 0  L 469 0  L 469 531  Q 828 903 1448 1529  Q 2069 2156 2228 2338  Q 2531 2678 2651 2914  Q 2772 3150 2772 3378  Q 2772 3750 2511 3984  Q 2250 4219 1831 4219  Q 1534 4219 1204 4116  Q 875 4013 500 3803  L 500 4441  Q 881 4594 1212 4672  Q 1544 4750 1819 4750  Q 2544 4750 2975 4387  Q 3406 4025 3406 3419  Q 3406 3131 3298 2873  Q 3191 2616 2906 2266  Q 2828 2175 2409 1742  Q 1991 1309 1228 531  z \" transform=\"scale(0.015625)\" />\n        <path id=\"DejaVuSans-2e\" d=\"M 684 794  L 1344 794  L 1344 0  L 684 0  L 684 794  z \" transform=\"scale(0.015625)\" />\n        <path id=\"DejaVuSans-30\" d=\"M 2034 4250  Q 1547 4250 1301 3770  Q 1056 3291 1056 2328  Q 1056 1369 1301 889  Q 1547 409 2034 409  Q 2525 409 2770 889  Q 3016 1369 3016 2328  Q 3016 3291 2770 3770  Q 2525 4250 2034 4250  z M 2034 4750  Q 2819 4750 3233 4129  Q 3647 3509 3647 2328  Q 3647 1150 3233 529  Q 2819 -91 2034 -91  Q 1250 -91 836 529  Q 422 1150 422 2328  Q 422 3509 836 4129  Q 1250 4750 2034 4750  z \" transform=\"scale(0.015625)\" />\n       </defs>\n       <use xlink:href=\"#DejaVuSans-31\" />\n       <use xlink:href=\"#DejaVuSans-37\" x=\"63.623047\" />\n       <use xlink:href=\"#DejaVuSans-32\" x=\"127.246094\" />\n       <use xlink:href=\"#DejaVuSans-2e\" x=\"190.869141\" />\n       <use xlink:href=\"#DejaVuSans-30\" x=\"222.65625\" />\n      </g>\n     </g>\n    </g>\n    <g id=\"xtick_2\">\n     <g id=\"line2d_2\">\n      <g>\n       <use xlink:href=\"#mca28cfb225\" x=\"124.409225\" y=\"83.16\" style=\"fill: #262626; stroke: #262626; stroke-width: 0.3\" />\n      </g>\n     </g>\n     <g id=\"text_2\">\n      \n      <g style=\"fill: #444443\" transform=\"translate(112.957975 100.73875) scale(0.08 -0.08)\">\n       <defs>\n        <path id=\"DejaVuSans-35\" d=\"M 691 4666  L 3169 4666  L 3169 4134  L 1269 4134  L 1269 2991  Q 1406 3038 1543 3061  Q 1681 3084 1819 3084  Q 2600 3084 3056 2656  Q 3513 2228 3513 1497  Q 3513 744 3044 326  Q 2575 -91 1722 -91  Q 1428 -91 1123 -41  Q 819 9 494 109  L 494 744  Q 775 591 1075 516  Q 1375 441 1709 441  Q 2250 441 2565 725  Q 2881 1009 2881 1497  Q 2881 1984 2565 2268  Q 2250 2553 1709 2553  Q 1456 2553 1204 2497  Q 953 2441 691 2322  L 691 4666  z \" transform=\"scale(0.015625)\" />\n       </defs>\n       <use xlink:href=\"#DejaVuSans-32\" />\n       <use xlink:href=\"#DejaVuSans-30\" x=\"63.623047\" />\n       <use xlink:href=\"#DejaVuSans-37\" x=\"127.246094\" />\n       <use xlink:href=\"#DejaVuSans-2e\" x=\"190.869141\" />\n       <use xlink:href=\"#DejaVuSans-35\" x=\"222.65625\" />\n      </g>\n     </g>\n    </g>\n    <g id=\"xtick_3\">\n     <g id=\"line2d_3\">\n      <g>\n       <use xlink:href=\"#mca28cfb225\" x=\"183.782857\" y=\"83.16\" style=\"fill: #262626; stroke: #262626; stroke-width: 0.3\" />\n      </g>\n     </g>\n     <g id=\"text_3\">\n      \n      <g style=\"fill: #444443\" transform=\"translate(172.331607 100.73875) scale(0.08 -0.08)\">\n       <defs>\n        <path id=\"DejaVuSans-33\" d=\"M 2597 2516  Q 3050 2419 3304 2112  Q 3559 1806 3559 1356  Q 3559 666 3084 287  Q 2609 -91 1734 -91  Q 1441 -91 1130 -33  Q 819 25 488 141  L 488 750  Q 750 597 1062 519  Q 1375 441 1716 441  Q 2309 441 2620 675  Q 2931 909 2931 1356  Q 2931 1769 2642 2001  Q 2353 2234 1838 2234  L 1294 2234  L 1294 2753  L 1863 2753  Q 2328 2753 2575 2939  Q 2822 3125 2822 3475  Q 2822 3834 2567 4026  Q 2313 4219 1838 4219  Q 1578 4219 1281 4162  Q 984 4106 628 3988  L 628 4550  Q 988 4650 1302 4700  Q 1616 4750 1894 4750  Q 2613 4750 3031 4423  Q 3450 4097 3450 3541  Q 3450 3153 3228 2886  Q 3006 2619 2597 2516  z \" transform=\"scale(0.015625)\" />\n       </defs>\n       <use xlink:href=\"#DejaVuSans-32\" />\n       <use xlink:href=\"#DejaVuSans-33\" x=\"63.623047\" />\n       <use xlink:href=\"#DejaVuSans-31\" x=\"127.246094\" />\n       <use xlink:href=\"#DejaVuSans-2e\" x=\"190.869141\" />\n       <use xlink:href=\"#DejaVuSans-30\" x=\"222.65625\" />\n      </g>\n     </g>\n    </g>\n    <g id=\"text_4\">\n     \n     <g style=\"fill: #444443\" transform=\"translate(53.21375 115.520625) scale(0.12 -0.12)\">\n      <defs>\n       <path id=\"DejaVuSans-66\" d=\"M 2375 4863  L 2375 4384  L 1825 4384  Q 1516 4384 1395 4259  Q 1275 4134 1275 3809  L 1275 3500  L 2222 3500  L 2222 3053  L 1275 3053  L 1275 0  L 697 0  L 697 3053  L 147 3053  L 147 3500  L 697 3500  L 697 3744  Q 697 4328 969 4595  Q 1241 4863 1831 4863  L 2375 4863  z \" transform=\"scale(0.015625)\" />\n       <path id=\"DejaVuSans-6c\" d=\"M 603 4863  L 1178 4863  L 1178 0  L 603 0  L 603 4863  z \" transform=\"scale(0.015625)\" />\n       <path id=\"DejaVuSans-69\" d=\"M 603 3500  L 1178 3500  L 1178 0  L 603 0  L 603 3500  z M 603 4863  L 1178 4863  L 1178 4134  L 603 4134  L 603 4863  z \" transform=\"scale(0.015625)\" />\n       <path id=\"DejaVuSans-70\" d=\"M 1159 525  L 1159 -1331  L 581 -1331  L 581 3500  L 1159 3500  L 1159 2969  Q 1341 3281 1617 3432  Q 1894 3584 2278 3584  Q 2916 3584 3314 3078  Q 3713 2572 3713 1747  Q 3713 922 3314 415  Q 2916 -91 2278 -91  Q 1894 -91 1617 61  Q 1341 213 1159 525  z M 3116 1747  Q 3116 2381 2855 2742  Q 2594 3103 2138 3103  Q 1681 3103 1420 2742  Q 1159 2381 1159 1747  Q 1159 1113 1420 752  Q 1681 391 2138 391  Q 2594 391 2855 752  Q 3116 1113 3116 1747  z \" transform=\"scale(0.015625)\" />\n       <path id=\"DejaVuSans-65\" d=\"M 3597 1894  L 3597 1613  L 953 1613  Q 991 1019 1311 708  Q 1631 397 2203 397  Q 2534 397 2845 478  Q 3156 559 3463 722  L 3463 178  Q 3153 47 2828 -22  Q 2503 -91 2169 -91  Q 1331 -91 842 396  Q 353 884 353 1716  Q 353 2575 817 3079  Q 1281 3584 2069 3584  Q 2775 3584 3186 3129  Q 3597 2675 3597 1894  z M 3022 2063  Q 3016 2534 2758 2815  Q 2500 3097 2075 3097  Q 1594 3097 1305 2825  Q 1016 2553 972 2059  L 3022 2063  z \" transform=\"scale(0.015625)\" />\n       <path id=\"DejaVuSans-72\" d=\"M 2631 2963  Q 2534 3019 2420 3045  Q 2306 3072 2169 3072  Q 1681 3072 1420 2755  Q 1159 2438 1159 1844  L 1159 0  L 581 0  L 581 3500  L 1159 3500  L 1159 2956  Q 1341 3275 1631 3429  Q 1922 3584 2338 3584  Q 2397 3584 2469 3576  Q 2541 3569 2628 3553  L 2631 2963  z \" transform=\"scale(0.015625)\" />\n       <path id=\"DejaVuSans-5f\" d=\"M 3263 -1063  L 3263 -1509  L -63 -1509  L -63 -1063  L 3263 -1063  z \" transform=\"scale(0.015625)\" />\n       <path id=\"DejaVuSans-6e\" d=\"M 3513 2113  L 3513 0  L 2938 0  L 2938 2094  Q 2938 2591 2744 2837  Q 2550 3084 2163 3084  Q 1697 3084 1428 2787  Q 1159 2491 1159 1978  L 1159 0  L 581 0  L 581 3500  L 1159 3500  L 1159 2956  Q 1366 3272 1645 3428  Q 1925 3584 2291 3584  Q 2894 3584 3203 3211  Q 3513 2838 3513 2113  z \" transform=\"scale(0.015625)\" />\n       <path id=\"DejaVuSans-67\" d=\"M 2906 1791  Q 2906 2416 2648 2759  Q 2391 3103 1925 3103  Q 1463 3103 1205 2759  Q 947 2416 947 1791  Q 947 1169 1205 825  Q 1463 481 1925 481  Q 2391 481 2648 825  Q 2906 1169 2906 1791  z M 3481 434  Q 3481 -459 3084 -895  Q 2688 -1331 1869 -1331  Q 1566 -1331 1297 -1286  Q 1028 -1241 775 -1147  L 775 -588  Q 1028 -725 1275 -790  Q 1522 -856 1778 -856  Q 2344 -856 2625 -561  Q 2906 -266 2906 331  L 2906 616  Q 2728 306 2450 153  Q 2172 0 1784 0  Q 1141 0 747 490  Q 353 981 353 1791  Q 353 2603 747 3093  Q 1141 3584 1784 3584  Q 2172 3584 2450 3431  Q 2728 3278 2906 2969  L 2906 3500  L 3481 3500  L 3481 434  z \" transform=\"scale(0.015625)\" />\n       <path id=\"DejaVuSans-74\" d=\"M 1172 4494  L 1172 3500  L 2356 3500  L 2356 3053  L 1172 3053  L 1172 1153  Q 1172 725 1289 603  Q 1406 481 1766 481  L 2356 481  L 2356 0  L 1766 0  Q 1100 0 847 248  Q 594 497 594 1153  L 594 3053  L 172 3053  L 172 3500  L 594 3500  L 594 4494  L 1172 4494  z \" transform=\"scale(0.015625)\" />\n       <path id=\"DejaVuSans-68\" d=\"M 3513 2113  L 3513 0  L 2938 0  L 2938 2094  Q 2938 2591 2744 2837  Q 2550 3084 2163 3084  Q 1697 3084 1428 2787  Q 1159 2491 1159 1978  L 1159 0  L 581 0  L 581 4863  L 1159 4863  L 1159 2956  Q 1366 3272 1645 3428  Q 1925 3584 2291 3584  Q 2894 3584 3203 3211  Q 3513 2838 3513 2113  z \" transform=\"scale(0.015625)\" />\n       <path id=\"DejaVuSans-6d\" d=\"M 3328 2828  Q 3544 3216 3844 3400  Q 4144 3584 4550 3584  Q 5097 3584 5394 3201  Q 5691 2819 5691 2113  L 5691 0  L 5113 0  L 5113 2094  Q 5113 2597 4934 2840  Q 4756 3084 4391 3084  Q 3944 3084 3684 2787  Q 3425 2491 3425 1978  L 3425 0  L 2847 0  L 2847 2094  Q 2847 2600 2669 2842  Q 2491 3084 2119 3084  Q 1678 3084 1418 2786  Q 1159 2488 1159 1978  L 1159 0  L 581 0  L 581 3500  L 1159 3500  L 1159 2956  Q 1356 3278 1631 3431  Q 1906 3584 2284 3584  Q 2666 3584 2933 3390  Q 3200 3197 3328 2828  z \" transform=\"scale(0.015625)\" />\n      </defs>\n      <use xlink:href=\"#DejaVuSans-66\" />\n      <use xlink:href=\"#DejaVuSans-6c\" x=\"35.205078\" />\n      <use xlink:href=\"#DejaVuSans-69\" x=\"62.988281\" />\n      <use xlink:href=\"#DejaVuSans-70\" x=\"90.771484\" />\n      <use xlink:href=\"#DejaVuSans-70\" x=\"154.248047\" />\n      <use xlink:href=\"#DejaVuSans-65\" x=\"217.724609\" />\n      <use xlink:href=\"#DejaVuSans-72\" x=\"279.248047\" />\n      <use xlink:href=\"#DejaVuSans-5f\" x=\"320.361328\" />\n      <use xlink:href=\"#DejaVuSans-6c\" x=\"370.361328\" />\n      <use xlink:href=\"#DejaVuSans-65\" x=\"398.144531\" />\n      <use xlink:href=\"#DejaVuSans-6e\" x=\"459.667969\" />\n      <use xlink:href=\"#DejaVuSans-67\" x=\"523.046875\" />\n      <use xlink:href=\"#DejaVuSans-74\" x=\"586.523438\" />\n      <use xlink:href=\"#DejaVuSans-68\" x=\"625.732422\" />\n      <use xlink:href=\"#DejaVuSans-5f\" x=\"689.111328\" />\n      <use xlink:href=\"#DejaVuSans-6d\" x=\"739.111328\" />\n      <use xlink:href=\"#DejaVuSans-6d\" x=\"836.523438\" />\n     </g>\n    </g>\n   </g>\n   <g id=\"matplotlib.axis_2\">\n    <g id=\"ytick_1\">\n     <g id=\"line2d_4\">\n      <defs>\n       <path id=\"m26eecb3417\" d=\"M 0 0  L -3.5 0  \" style=\"stroke: #262626; stroke-width: 0.3\" />\n      </defs>\n      <g>\n       <use xlink:href=\"#m26eecb3417\" x=\"17.18\" y=\"83.16\" style=\"fill: #262626; stroke: #262626; stroke-width: 0.3\" />\n      </g>\n     </g>\n     <g id=\"text_5\">\n      \n      <g style=\"fill: #444443\" transform=\"translate(5.09 86.199375) scale(0.08 -0.08)\">\n       <use xlink:href=\"#DejaVuSans-30\" />\n      </g>\n     </g>\n    </g>\n    <g id=\"ytick_2\">\n     <g id=\"line2d_5\">\n      <g>\n       <use xlink:href=\"#m26eecb3417\" x=\"17.18\" y=\"3.96\" style=\"fill: #262626; stroke: #262626; stroke-width: 0.3\" />\n      </g>\n     </g>\n     <g id=\"text_6\">\n      \n      <g style=\"fill: #444443\" transform=\"translate(0 6.999375) scale(0.08 -0.08)\">\n       <defs>\n        <path id=\"DejaVuSans-34\" d=\"M 2419 4116  L 825 1625  L 2419 1625  L 2419 4116  z M 2253 4666  L 3047 4666  L 3047 1625  L 3713 1625  L 3713 1100  L 3047 1100  L 3047 0  L 2419 0  L 2419 1100  L 313 1100  L 313 1709  L 2253 4666  z \" transform=\"scale(0.015625)\" />\n       </defs>\n       <use xlink:href=\"#DejaVuSans-34\" />\n       <use xlink:href=\"#DejaVuSans-37\" x=\"63.623047\" />\n      </g>\n     </g>\n    </g>\n   </g>\n   <g id=\"patch_3\">\n    <path d=\"M 34.717143 83.16  L 43.485714 83.16  L 43.485714 79.789787  L 34.717143 79.789787  z \" clip-path=\"url(#pfa30b80919)\" style=\"fill: #fefebb; stroke: #444443; stroke-width: 0.5; stroke-linejoin: miter\" />\n   </g>\n   <g id=\"patch_4\">\n    <path d=\"M 43.485714 83.16  L 52.254286 83.16  L 52.254286 76.419574  L 43.485714 76.419574  z \" clip-path=\"url(#pfa30b80919)\" style=\"fill: #fefebb; stroke: #444443; stroke-width: 0.5; stroke-linejoin: miter\" />\n   </g>\n   <g id=\"patch_5\">\n    <path d=\"M 52.254286 83.16  L 61.022857 83.16  L 61.022857 59.568511  L 52.254286 59.568511  z \" clip-path=\"url(#pfa30b80919)\" style=\"fill: #fefebb; stroke: #444443; stroke-width: 0.5; stroke-linejoin: miter\" />\n   </g>\n   <g id=\"patch_6\">\n    <path d=\"M 61.022857 83.16  L 69.791429 83.16  L 69.791429 54.513191  L 61.022857 54.513191  z \" clip-path=\"url(#pfa30b80919)\" style=\"fill: #fefebb; stroke: #444443; stroke-width: 0.5; stroke-linejoin: miter\" />\n   </g>\n   <g id=\"patch_7\">\n    <path d=\"M 69.791429 83.16  L 78.56 83.16  L 78.56 35.977021  L 69.791429 35.977021  z \" clip-path=\"url(#pfa30b80919)\" style=\"fill: #fefebb; stroke: #444443; stroke-width: 0.5; stroke-linejoin: miter\" />\n   </g>\n   <g id=\"patch_8\">\n    <path d=\"M 78.56 83.16  L 87.328571 83.16  L 87.328571 25.866383  L 78.56 25.866383  z \" clip-path=\"url(#pfa30b80919)\" style=\"fill: #fefebb; stroke: #444443; stroke-width: 0.5; stroke-linejoin: miter\" />\n   </g>\n   <g id=\"patch_9\">\n    <path d=\"M 87.328571 83.16  L 96.097143 83.16  L 96.097143 32.606809  L 87.328571 32.606809  z \" clip-path=\"url(#pfa30b80919)\" style=\"fill: #fefebb; stroke: #444443; stroke-width: 0.5; stroke-linejoin: miter\" />\n   </g>\n   <g id=\"patch_10\">\n    <path d=\"M 96.097143 83.16  L 104.865714 83.16  L 104.865714 61.253617  L 96.097143 61.253617  z \" clip-path=\"url(#pfa30b80919)\" style=\"fill: #fefebb; stroke: #444443; stroke-width: 0.5; stroke-linejoin: miter\" />\n   </g>\n   <g id=\"patch_11\">\n    <path d=\"M 104.865714 83.16  L 113.634286 83.16  L 113.634286 71.364255  L 104.865714 71.364255  z \" clip-path=\"url(#pfa30b80919)\" style=\"fill: #fefebb; stroke: #444443; stroke-width: 0.5; stroke-linejoin: miter\" />\n   </g>\n   <g id=\"patch_12\">\n    <path d=\"M 113.634286 83.16  L 122.402857 83.16  L 122.402857 81.474894  L 113.634286 81.474894  z \" clip-path=\"url(#pfa30b80919)\" style=\"fill: #fefebb; stroke: #444443; stroke-width: 0.5; stroke-linejoin: miter\" />\n   </g>\n   <g id=\"patch_13\">\n    <path d=\"M 122.402857 83.16  L 131.171429 83.16  L 131.171429 79.789787  L 122.402857 79.789787  z \" clip-path=\"url(#pfa30b80919)\" style=\"fill: #fefebb; stroke: #444443; stroke-width: 0.5; stroke-linejoin: miter\" />\n   </g>\n   <g id=\"patch_14\">\n    <path d=\"M 131.171429 83.16  L 139.94 83.16  L 139.94 83.16  L 131.171429 83.16  z \" clip-path=\"url(#pfa30b80919)\" style=\"fill: #fefebb; stroke: #444443; stroke-width: 0.5; stroke-linejoin: miter\" />\n   </g>\n   <g id=\"patch_15\">\n    <path d=\"M 139.94 83.16  L 148.708571 83.16  L 148.708571 83.16  L 139.94 83.16  z \" clip-path=\"url(#pfa30b80919)\" style=\"fill: #fefebb; stroke: #444443; stroke-width: 0.5; stroke-linejoin: miter\" />\n   </g>\n   <g id=\"patch_16\">\n    <path d=\"M 148.708571 83.16  L 157.477143 83.16  L 157.477143 83.16  L 148.708571 83.16  z \" clip-path=\"url(#pfa30b80919)\" style=\"fill: #fefebb; stroke: #444443; stroke-width: 0.5; stroke-linejoin: miter\" />\n   </g>\n   <g id=\"patch_17\">\n    <path d=\"M 157.477143 83.16  L 166.245714 83.16  L 166.245714 83.16  L 157.477143 83.16  z \" clip-path=\"url(#pfa30b80919)\" style=\"fill: #fefebb; stroke: #444443; stroke-width: 0.5; stroke-linejoin: miter\" />\n   </g>\n   <g id=\"patch_18\">\n    <path d=\"M 166.245714 83.16  L 175.014286 83.16  L 175.014286 83.16  L 166.245714 83.16  z \" clip-path=\"url(#pfa30b80919)\" style=\"fill: #fefebb; stroke: #444443; stroke-width: 0.5; stroke-linejoin: miter\" />\n   </g>\n   <g id=\"patch_19\">\n    <path d=\"M 175.014286 83.16  L 183.782857 83.16  L 183.782857 83.16  L 175.014286 83.16  z \" clip-path=\"url(#pfa30b80919)\" style=\"fill: #fefebb; stroke: #444443; stroke-width: 0.5; stroke-linejoin: miter\" />\n   </g>\n   <g id=\"patch_20\">\n    <path d=\"M 34.717143 79.789787  L 43.485714 79.789787  L 43.485714 79.789787  L 34.717143 79.789787  z \" clip-path=\"url(#pfa30b80919)\" style=\"fill: #d9e6f5; stroke: #444443; stroke-width: 0.5; stroke-linejoin: miter\" />\n   </g>\n   <g id=\"patch_21\">\n    <path d=\"M 43.485714 76.419574  L 52.254286 76.419574  L 52.254286 76.419574  L 43.485714 76.419574  z \" clip-path=\"url(#pfa30b80919)\" style=\"fill: #d9e6f5; stroke: #444443; stroke-width: 0.5; stroke-linejoin: miter\" />\n   </g>\n   <g id=\"patch_22\">\n    <path d=\"M 52.254286 59.568511  L 61.022857 59.568511  L 61.022857 59.568511  L 52.254286 59.568511  z \" clip-path=\"url(#pfa30b80919)\" style=\"fill: #d9e6f5; stroke: #444443; stroke-width: 0.5; stroke-linejoin: miter\" />\n   </g>\n   <g id=\"patch_23\">\n    <path d=\"M 61.022857 54.513191  L 69.791429 54.513191  L 69.791429 54.513191  L 61.022857 54.513191  z \" clip-path=\"url(#pfa30b80919)\" style=\"fill: #d9e6f5; stroke: #444443; stroke-width: 0.5; stroke-linejoin: miter\" />\n   </g>\n   <g id=\"patch_24\">\n    <path d=\"M 69.791429 35.977021  L 78.56 35.977021  L 78.56 35.977021  L 69.791429 35.977021  z \" clip-path=\"url(#pfa30b80919)\" style=\"fill: #d9e6f5; stroke: #444443; stroke-width: 0.5; stroke-linejoin: miter\" />\n   </g>\n   <g id=\"patch_25\">\n    <path d=\"M 78.56 25.866383  L 87.328571 25.866383  L 87.328571 25.866383  L 78.56 25.866383  z \" clip-path=\"url(#pfa30b80919)\" style=\"fill: #d9e6f5; stroke: #444443; stroke-width: 0.5; stroke-linejoin: miter\" />\n   </g>\n   <g id=\"patch_26\">\n    <path d=\"M 87.328571 32.606809  L 96.097143 32.606809  L 96.097143 32.606809  L 87.328571 32.606809  z \" clip-path=\"url(#pfa30b80919)\" style=\"fill: #d9e6f5; stroke: #444443; stroke-width: 0.5; stroke-linejoin: miter\" />\n   </g>\n   <g id=\"patch_27\">\n    <path d=\"M 96.097143 61.253617  L 104.865714 61.253617  L 104.865714 61.253617  L 96.097143 61.253617  z \" clip-path=\"url(#pfa30b80919)\" style=\"fill: #d9e6f5; stroke: #444443; stroke-width: 0.5; stroke-linejoin: miter\" />\n   </g>\n   <g id=\"patch_28\">\n    <path d=\"M 104.865714 71.364255  L 113.634286 71.364255  L 113.634286 67.994043  L 104.865714 67.994043  z \" clip-path=\"url(#pfa30b80919)\" style=\"fill: #d9e6f5; stroke: #444443; stroke-width: 0.5; stroke-linejoin: miter\" />\n   </g>\n   <g id=\"patch_29\">\n    <path d=\"M 113.634286 81.474894  L 122.402857 81.474894  L 122.402857 81.474894  L 113.634286 81.474894  z \" clip-path=\"url(#pfa30b80919)\" style=\"fill: #d9e6f5; stroke: #444443; stroke-width: 0.5; stroke-linejoin: miter\" />\n   </g>\n   <g id=\"patch_30\">\n    <path d=\"M 122.402857 79.789787  L 131.171429 79.789787  L 131.171429 41.03234  L 122.402857 41.03234  z \" clip-path=\"url(#pfa30b80919)\" style=\"fill: #d9e6f5; stroke: #444443; stroke-width: 0.5; stroke-linejoin: miter\" />\n   </g>\n   <g id=\"patch_31\">\n    <path d=\"M 131.171429 83.16  L 139.94 83.16  L 139.94 59.568511  L 131.171429 59.568511  z \" clip-path=\"url(#pfa30b80919)\" style=\"fill: #d9e6f5; stroke: #444443; stroke-width: 0.5; stroke-linejoin: miter\" />\n   </g>\n   <g id=\"patch_32\">\n    <path d=\"M 139.94 83.16  L 148.708571 83.16  L 148.708571 29.236596  L 139.94 29.236596  z \" clip-path=\"url(#pfa30b80919)\" style=\"fill: #d9e6f5; stroke: #444443; stroke-width: 0.5; stroke-linejoin: miter\" />\n   </g>\n   <g id=\"patch_33\">\n    <path d=\"M 148.708571 83.16  L 157.477143 83.16  L 157.477143 52.828085  L 148.708571 52.828085  z \" clip-path=\"url(#pfa30b80919)\" style=\"fill: #d9e6f5; stroke: #444443; stroke-width: 0.5; stroke-linejoin: miter\" />\n   </g>\n   <g id=\"patch_34\">\n    <path d=\"M 157.477143 83.16  L 166.245714 83.16  L 166.245714 56.198298  L 157.477143 56.198298  z \" clip-path=\"url(#pfa30b80919)\" style=\"fill: #d9e6f5; stroke: #444443; stroke-width: 0.5; stroke-linejoin: miter\" />\n   </g>\n   <g id=\"patch_35\">\n    <path d=\"M 166.245714 83.16  L 175.014286 83.16  L 175.014286 74.734468  L 166.245714 74.734468  z \" clip-path=\"url(#pfa30b80919)\" style=\"fill: #d9e6f5; stroke: #444443; stroke-width: 0.5; stroke-linejoin: miter\" />\n   </g>\n   <g id=\"patch_36\">\n    <path d=\"M 175.014286 83.16  L 183.782857 83.16  L 183.782857 59.568511  L 175.014286 59.568511  z \" clip-path=\"url(#pfa30b80919)\" style=\"fill: #d9e6f5; stroke: #444443; stroke-width: 0.5; stroke-linejoin: miter\" />\n   </g>\n   <g id=\"patch_37\">\n    <path d=\"M 34.717143 79.789787  L 43.485714 79.789787  L 43.485714 79.789787  L 34.717143 79.789787  z \" clip-path=\"url(#pfa30b80919)\" style=\"fill: #a1dab4; stroke: #444443; stroke-width: 0.5; stroke-linejoin: miter\" />\n   </g>\n   <g id=\"patch_38\">\n    <path d=\"M 43.485714 76.419574  L 52.254286 76.419574  L 52.254286 74.734468  L 43.485714 74.734468  z \" clip-path=\"url(#pfa30b80919)\" style=\"fill: #a1dab4; stroke: #444443; stroke-width: 0.5; stroke-linejoin: miter\" />\n   </g>\n   <g id=\"patch_39\">\n    <path d=\"M 52.254286 59.568511  L 61.022857 59.568511  L 61.022857 56.198298  L 52.254286 56.198298  z \" clip-path=\"url(#pfa30b80919)\" style=\"fill: #a1dab4; stroke: #444443; stroke-width: 0.5; stroke-linejoin: miter\" />\n   </g>\n   <g id=\"patch_40\">\n    <path d=\"M 61.022857 54.513191  L 69.791429 54.513191  L 69.791429 52.828085  L 61.022857 52.828085  z \" clip-path=\"url(#pfa30b80919)\" style=\"fill: #a1dab4; stroke: #444443; stroke-width: 0.5; stroke-linejoin: miter\" />\n   </g>\n   <g id=\"patch_41\">\n    <path d=\"M 69.791429 35.977021  L 78.56 35.977021  L 78.56 22.49617  L 69.791429 22.49617  z \" clip-path=\"url(#pfa30b80919)\" style=\"fill: #a1dab4; stroke: #444443; stroke-width: 0.5; stroke-linejoin: miter\" />\n   </g>\n   <g id=\"patch_42\">\n    <path d=\"M 78.56 25.866383  L 87.328571 25.866383  L 87.328571 12.385532  L 78.56 12.385532  z \" clip-path=\"url(#pfa30b80919)\" style=\"fill: #a1dab4; stroke: #444443; stroke-width: 0.5; stroke-linejoin: miter\" />\n   </g>\n   <g id=\"patch_43\">\n    <path d=\"M 87.328571 32.606809  L 96.097143 32.606809  L 96.097143 3.96  L 87.328571 3.96  z \" clip-path=\"url(#pfa30b80919)\" style=\"fill: #a1dab4; stroke: #444443; stroke-width: 0.5; stroke-linejoin: miter\" />\n   </g>\n   <g id=\"patch_44\">\n    <path d=\"M 96.097143 61.253617  L 104.865714 61.253617  L 104.865714 42.717447  L 96.097143 42.717447  z \" clip-path=\"url(#pfa30b80919)\" style=\"fill: #a1dab4; stroke: #444443; stroke-width: 0.5; stroke-linejoin: miter\" />\n   </g>\n   <g id=\"patch_45\">\n    <path d=\"M 104.865714 67.994043  L 113.634286 67.994043  L 113.634286 47.772766  L 104.865714 47.772766  z \" clip-path=\"url(#pfa30b80919)\" style=\"fill: #a1dab4; stroke: #444443; stroke-width: 0.5; stroke-linejoin: miter\" />\n   </g>\n   <g id=\"patch_46\">\n    <path d=\"M 113.634286 81.474894  L 122.402857 81.474894  L 122.402857 76.419574  L 113.634286 76.419574  z \" clip-path=\"url(#pfa30b80919)\" style=\"fill: #a1dab4; stroke: #444443; stroke-width: 0.5; stroke-linejoin: miter\" />\n   </g>\n   <g id=\"patch_47\">\n    <path d=\"M 122.402857 41.03234  L 131.171429 41.03234  L 131.171429 34.291915  L 122.402857 34.291915  z \" clip-path=\"url(#pfa30b80919)\" style=\"fill: #a1dab4; stroke: #444443; stroke-width: 0.5; stroke-linejoin: miter\" />\n   </g>\n   <g id=\"patch_48\">\n    <path d=\"M 131.171429 59.568511  L 139.94 59.568511  L 139.94 57.883404  L 131.171429 57.883404  z \" clip-path=\"url(#pfa30b80919)\" style=\"fill: #a1dab4; stroke: #444443; stroke-width: 0.5; stroke-linejoin: miter\" />\n   </g>\n   <g id=\"patch_49\">\n    <path d=\"M 139.94 29.236596  L 148.708571 29.236596  L 148.708571 29.236596  L 139.94 29.236596  z \" clip-path=\"url(#pfa30b80919)\" style=\"fill: #a1dab4; stroke: #444443; stroke-width: 0.5; stroke-linejoin: miter\" />\n   </g>\n   <g id=\"patch_50\">\n    <path d=\"M 148.708571 52.828085  L 157.477143 52.828085  L 157.477143 52.828085  L 148.708571 52.828085  z \" clip-path=\"url(#pfa30b80919)\" style=\"fill: #a1dab4; stroke: #444443; stroke-width: 0.5; stroke-linejoin: miter\" />\n   </g>\n   <g id=\"patch_51\">\n    <path d=\"M 157.477143 56.198298  L 166.245714 56.198298  L 166.245714 56.198298  L 157.477143 56.198298  z \" clip-path=\"url(#pfa30b80919)\" style=\"fill: #a1dab4; stroke: #444443; stroke-width: 0.5; stroke-linejoin: miter\" />\n   </g>\n   <g id=\"patch_52\">\n    <path d=\"M 166.245714 74.734468  L 175.014286 74.734468  L 175.014286 74.734468  L 166.245714 74.734468  z \" clip-path=\"url(#pfa30b80919)\" style=\"fill: #a1dab4; stroke: #444443; stroke-width: 0.5; stroke-linejoin: miter\" />\n   </g>\n   <g id=\"patch_53\">\n    <path d=\"M 175.014286 59.568511  L 183.782857 59.568511  L 183.782857 59.568511  L 175.014286 59.568511  z \" clip-path=\"url(#pfa30b80919)\" style=\"fill: #a1dab4; stroke: #444443; stroke-width: 0.5; stroke-linejoin: miter\" />\n   </g>\n   <g id=\"patch_54\">\n    <path d=\"M 124.409225 83.9916  L 121.094705 92.3076  L 127.723745 92.3076  z \" style=\"fill: #444443; stroke: #ffffff; stroke-linejoin: miter\" />\n   </g>\n   <g id=\"patch_55\">\n    <path d=\"M 17.18 83.16  L 17.18 0  \" style=\"fill: none; stroke: #444443; stroke-width: 0.3; stroke-linejoin: miter; stroke-linecap: square\" />\n   </g>\n   <g id=\"patch_56\">\n    <path d=\"M 17.18 83.16  L 201.32 83.16  \" style=\"fill: none; stroke: #444443; stroke-width: 0.3; stroke-linejoin: miter; stroke-linecap: square\" />\n   </g>\n  </g>\n </g>\n <defs>\n  <clipPath id=\"pfa30b80919\">\n   <rect x=\"17.18\" y=\"0\" width=\"184.14\" height=\"83.16\" />\n  </clipPath>\n </defs>\n</svg></g>\n\n<g id=\"edge7\" class=\"edge\">\n<title>node0-&gt;node1</title>\n<path fill=\"none\" stroke=\"#444443\" stroke-width=\"0.3\" d=\"M144.44,-203.73C137.56,-194.58 130.42,-185.09 123.78,-176.26\" />\n<polygon fill=\"#444443\" stroke=\"#444443\" stroke-width=\"0.3\" points=\"124.88,-175.4 121.36,-173.04 122.65,-177.08 124.88,-175.4\" />\n<text text-anchor=\"start\" x=\"138\" y=\"-184.8\" font-family=\"sans-serif\" font-size=\"14.00\" fill=\"#444443\"> &#160;&#8804;</text>\n</g>\n\n<g id=\"edge8\" class=\"edge\">\n<title>node0-&gt;node4</title>\n<path fill=\"none\" stroke=\"#444443\" stroke-width=\"0.3\" d=\"M215.97,-203.73C225.07,-191.78 234.59,-179.27 242.86,-168.41\" />\n<polygon fill=\"#444443\" stroke=\"#444443\" stroke-width=\"0.3\" points=\"244.08,-169.12 245.38,-165.09 241.85,-167.42 244.08,-169.12\" />\n<text text-anchor=\"start\" x=\"234\" y=\"-184.8\" font-family=\"sans-serif\" font-size=\"14.00\" fill=\"#444443\"> &#160;&gt;</text>\n</g>\n\n\n\n<g id=\"node8\" class=\"node\">\n<title>legend</title>\n<polygon fill=\"none\" stroke=\"black\" stroke-width=\"0\" points=\"338.5,-282 265.5,-282 265.5,-222 338.5,-222 338.5,-282\" />\n<svg width=\"69px\" height=\"56px\" viewBox=\"0 0 92.653125 74.7125\" version=\"1.1\" preserveAspectRatio=\"xMinYMin meet\" x=\"268\" y=\"-280\">\n <metadata>\n  <rdf:RDF>\n   <ns2:Work>\n    <dc:type rdf:resource=\"http://purl.org/dc/dcmitype/StillImage\" />\n    <dc:date>2024-10-16T15:26:01.276872</dc:date>\n    <dc:format>image/svg+xml</dc:format>\n    <dc:creator>\n     <ns2:Agent>\n      <dc:title>Matplotlib v3.7.1, https://matplotlib.org/</dc:title>\n     </ns2:Agent>\n    </dc:creator>\n   </ns2:Work>\n  </rdf:RDF>\n </metadata>\n <defs>\n  <style type=\"text/css\">*{stroke-linejoin: round; stroke-linecap: butt}</style>\n </defs>\n <g id=\"figure_1\">\n  <g id=\"patch_1\">\n   <path d=\"M 0 74.7125  L 92.653125 74.7125  L 92.653125 0  L 0 0  z \" style=\"fill: #ffffff\" />\n  </g>\n  <g id=\"axes_1\">\n   <g id=\"legend_1\">\n    <g id=\"patch_2\">\n     <path d=\"M 2 74.7125  L 85.653125 74.7125  Q 87.653125 74.7125 87.653125 72.7125  L 87.653125 7  Q 87.653125 5 85.653125 5  L 2 5  Q 0 5 0 7  L 0 72.7125  Q 0 74.7125 2 74.7125  z \" style=\"fill: #ffffff; opacity: 0.8; stroke: #444443; stroke-width: 0.5; stroke-linejoin: miter\" />\n    </g>\n    <g id=\"text_1\">\n     \n     <g style=\"fill: #444443\" transform=\"translate(22.835156 20.598438) scale(0.1 -0.1)\">\n      <defs>\n       <path id=\"DejaVuSans-Bold-73\" d=\"M 3272 3391  L 3272 2541  Q 2913 2691 2578 2766  Q 2244 2841 1947 2841  Q 1628 2841 1473 2761  Q 1319 2681 1319 2516  Q 1319 2381 1436 2309  Q 1553 2238 1856 2203  L 2053 2175  Q 2913 2066 3209 1816  Q 3506 1566 3506 1031  Q 3506 472 3093 190  Q 2681 -91 1863 -91  Q 1516 -91 1145 -36  Q 775 19 384 128  L 384 978  Q 719 816 1070 734  Q 1422 653 1784 653  Q 2113 653 2278 743  Q 2444 834 2444 1013  Q 2444 1163 2330 1236  Q 2216 1309 1875 1350  L 1678 1375  Q 931 1469 631 1722  Q 331 1975 331 2491  Q 331 3047 712 3315  Q 1094 3584 1881 3584  Q 2191 3584 2531 3537  Q 2872 3491 3272 3391  z \" transform=\"scale(0.015625)\" />\n       <path id=\"DejaVuSans-Bold-70\" d=\"M 1656 506  L 1656 -1331  L 538 -1331  L 538 3500  L 1656 3500  L 1656 2988  Q 1888 3294 2169 3439  Q 2450 3584 2816 3584  Q 3463 3584 3878 3070  Q 4294 2556 4294 1747  Q 4294 938 3878 423  Q 3463 -91 2816 -91  Q 2450 -91 2169 54  Q 1888 200 1656 506  z M 2400 2772  Q 2041 2772 1848 2508  Q 1656 2244 1656 1747  Q 1656 1250 1848 986  Q 2041 722 2400 722  Q 2759 722 2948 984  Q 3138 1247 3138 1747  Q 3138 2247 2948 2509  Q 2759 2772 2400 2772  z \" transform=\"scale(0.015625)\" />\n       <path id=\"DejaVuSans-Bold-65\" d=\"M 4031 1759  L 4031 1441  L 1416 1441  Q 1456 1047 1700 850  Q 1944 653 2381 653  Q 2734 653 3104 758  Q 3475 863 3866 1075  L 3866 213  Q 3469 63 3072 -14  Q 2675 -91 2278 -91  Q 1328 -91 801 392  Q 275 875 275 1747  Q 275 2603 792 3093  Q 1309 3584 2216 3584  Q 3041 3584 3536 3087  Q 4031 2591 4031 1759  z M 2881 2131  Q 2881 2450 2695 2645  Q 2509 2841 2209 2841  Q 1884 2841 1681 2658  Q 1478 2475 1428 2131  L 2881 2131  z \" transform=\"scale(0.015625)\" />\n       <path id=\"DejaVuSans-Bold-63\" d=\"M 3366 3391  L 3366 2478  Q 3138 2634 2908 2709  Q 2678 2784 2431 2784  Q 1963 2784 1702 2511  Q 1441 2238 1441 1747  Q 1441 1256 1702 982  Q 1963 709 2431 709  Q 2694 709 2930 787  Q 3166 866 3366 1019  L 3366 103  Q 3103 6 2833 -42  Q 2563 -91 2291 -91  Q 1344 -91 809 395  Q 275 881 275 1747  Q 275 2613 809 3098  Q 1344 3584 2291 3584  Q 2566 3584 2833 3536  Q 3100 3488 3366 3391  z \" transform=\"scale(0.015625)\" />\n       <path id=\"DejaVuSans-Bold-69\" d=\"M 538 3500  L 1656 3500  L 1656 0  L 538 0  L 538 3500  z M 538 4863  L 1656 4863  L 1656 3950  L 538 3950  L 538 4863  z \" transform=\"scale(0.015625)\" />\n      </defs>\n      <use xlink:href=\"#DejaVuSans-Bold-73\" />\n      <use xlink:href=\"#DejaVuSans-Bold-70\" x=\"59.521484\" />\n      <use xlink:href=\"#DejaVuSans-Bold-65\" x=\"131.103516\" />\n      <use xlink:href=\"#DejaVuSans-Bold-63\" x=\"198.925781\" />\n      <use xlink:href=\"#DejaVuSans-Bold-69\" x=\"258.203125\" />\n      <use xlink:href=\"#DejaVuSans-Bold-65\" x=\"292.480469\" />\n      <use xlink:href=\"#DejaVuSans-Bold-73\" x=\"360.302734\" />\n     </g>\n    </g>\n    <g id=\"patch_3\">\n     <path d=\"M 8 35.276563  L 28 35.276563  L 28 28.276563  L 8 28.276563  z \" style=\"fill: #fefebb; stroke: #444443; stroke-width: 0.4; stroke-linejoin: miter\" />\n    </g>\n    <g id=\"text_2\">\n     \n     <g style=\"fill: #444443\" transform=\"translate(31.5 35.276563) scale(0.1 -0.1)\">\n      <defs>\n       <path id=\"DejaVuSans-41\" d=\"M 2188 4044  L 1331 1722  L 3047 1722  L 2188 4044  z M 1831 4666  L 2547 4666  L 4325 0  L 3669 0  L 3244 1197  L 1141 1197  L 716 0  L 50 0  L 1831 4666  z \" transform=\"scale(0.015625)\" />\n       <path id=\"DejaVuSans-64\" d=\"M 2906 2969  L 2906 4863  L 3481 4863  L 3481 0  L 2906 0  L 2906 525  Q 2725 213 2448 61  Q 2172 -91 1784 -91  Q 1150 -91 751 415  Q 353 922 353 1747  Q 353 2572 751 3078  Q 1150 3584 1784 3584  Q 2172 3584 2448 3432  Q 2725 3281 2906 2969  z M 947 1747  Q 947 1113 1208 752  Q 1469 391 1925 391  Q 2381 391 2643 752  Q 2906 1113 2906 1747  Q 2906 2381 2643 2742  Q 2381 3103 1925 3103  Q 1469 3103 1208 2742  Q 947 2381 947 1747  z \" transform=\"scale(0.015625)\" />\n       <path id=\"DejaVuSans-65\" d=\"M 3597 1894  L 3597 1613  L 953 1613  Q 991 1019 1311 708  Q 1631 397 2203 397  Q 2534 397 2845 478  Q 3156 559 3463 722  L 3463 178  Q 3153 47 2828 -22  Q 2503 -91 2169 -91  Q 1331 -91 842 396  Q 353 884 353 1716  Q 353 2575 817 3079  Q 1281 3584 2069 3584  Q 2775 3584 3186 3129  Q 3597 2675 3597 1894  z M 3022 2063  Q 3016 2534 2758 2815  Q 2500 3097 2075 3097  Q 1594 3097 1305 2825  Q 1016 2553 972 2059  L 3022 2063  z \" transform=\"scale(0.015625)\" />\n       <path id=\"DejaVuSans-6c\" d=\"M 603 4863  L 1178 4863  L 1178 0  L 603 0  L 603 4863  z \" transform=\"scale(0.015625)\" />\n       <path id=\"DejaVuSans-69\" d=\"M 603 3500  L 1178 3500  L 1178 0  L 603 0  L 603 3500  z M 603 4863  L 1178 4863  L 1178 4134  L 603 4134  L 603 4863  z \" transform=\"scale(0.015625)\" />\n      </defs>\n      <use xlink:href=\"#DejaVuSans-41\" />\n      <use xlink:href=\"#DejaVuSans-64\" x=\"66.658203\" />\n      <use xlink:href=\"#DejaVuSans-65\" x=\"130.134766\" />\n      <use xlink:href=\"#DejaVuSans-6c\" x=\"191.658203\" />\n      <use xlink:href=\"#DejaVuSans-69\" x=\"219.441406\" />\n      <use xlink:href=\"#DejaVuSans-65\" x=\"247.224609\" />\n     </g>\n    </g>\n    <g id=\"patch_4\">\n     <path d=\"M 8 49.954688  L 28 49.954688  L 28 42.954688  L 8 42.954688  z \" style=\"fill: #d9e6f5; stroke: #444443; stroke-width: 0.4; stroke-linejoin: miter\" />\n    </g>\n    <g id=\"text_3\">\n     \n     <g style=\"fill: #444443\" transform=\"translate(31.5 49.954688) scale(0.1 -0.1)\">\n      <defs>\n       <path id=\"DejaVuSans-43\" d=\"M 4122 4306  L 4122 3641  Q 3803 3938 3442 4084  Q 3081 4231 2675 4231  Q 1875 4231 1450 3742  Q 1025 3253 1025 2328  Q 1025 1406 1450 917  Q 1875 428 2675 428  Q 3081 428 3442 575  Q 3803 722 4122 1019  L 4122 359  Q 3791 134 3420 21  Q 3050 -91 2638 -91  Q 1578 -91 968 557  Q 359 1206 359 2328  Q 359 3453 968 4101  Q 1578 4750 2638 4750  Q 3056 4750 3426 4639  Q 3797 4528 4122 4306  z \" transform=\"scale(0.015625)\" />\n       <path id=\"DejaVuSans-68\" d=\"M 3513 2113  L 3513 0  L 2938 0  L 2938 2094  Q 2938 2591 2744 2837  Q 2550 3084 2163 3084  Q 1697 3084 1428 2787  Q 1159 2491 1159 1978  L 1159 0  L 581 0  L 581 4863  L 1159 4863  L 1159 2956  Q 1366 3272 1645 3428  Q 1925 3584 2291 3584  Q 2894 3584 3203 3211  Q 3513 2838 3513 2113  z \" transform=\"scale(0.015625)\" />\n       <path id=\"DejaVuSans-6e\" d=\"M 3513 2113  L 3513 0  L 2938 0  L 2938 2094  Q 2938 2591 2744 2837  Q 2550 3084 2163 3084  Q 1697 3084 1428 2787  Q 1159 2491 1159 1978  L 1159 0  L 581 0  L 581 3500  L 1159 3500  L 1159 2956  Q 1366 3272 1645 3428  Q 1925 3584 2291 3584  Q 2894 3584 3203 3211  Q 3513 2838 3513 2113  z \" transform=\"scale(0.015625)\" />\n       <path id=\"DejaVuSans-73\" d=\"M 2834 3397  L 2834 2853  Q 2591 2978 2328 3040  Q 2066 3103 1784 3103  Q 1356 3103 1142 2972  Q 928 2841 928 2578  Q 928 2378 1081 2264  Q 1234 2150 1697 2047  L 1894 2003  Q 2506 1872 2764 1633  Q 3022 1394 3022 966  Q 3022 478 2636 193  Q 2250 -91 1575 -91  Q 1294 -91 989 -36  Q 684 19 347 128  L 347 722  Q 666 556 975 473  Q 1284 391 1588 391  Q 1994 391 2212 530  Q 2431 669 2431 922  Q 2431 1156 2273 1281  Q 2116 1406 1581 1522  L 1381 1569  Q 847 1681 609 1914  Q 372 2147 372 2553  Q 372 3047 722 3315  Q 1072 3584 1716 3584  Q 2034 3584 2315 3537  Q 2597 3491 2834 3397  z \" transform=\"scale(0.015625)\" />\n       <path id=\"DejaVuSans-74\" d=\"M 1172 4494  L 1172 3500  L 2356 3500  L 2356 3053  L 1172 3053  L 1172 1153  Q 1172 725 1289 603  Q 1406 481 1766 481  L 2356 481  L 2356 0  L 1766 0  Q 1100 0 847 248  Q 594 497 594 1153  L 594 3053  L 172 3053  L 172 3500  L 594 3500  L 594 4494  L 1172 4494  z \" transform=\"scale(0.015625)\" />\n       <path id=\"DejaVuSans-72\" d=\"M 2631 2963  Q 2534 3019 2420 3045  Q 2306 3072 2169 3072  Q 1681 3072 1420 2755  Q 1159 2438 1159 1844  L 1159 0  L 581 0  L 581 3500  L 1159 3500  L 1159 2956  Q 1341 3275 1631 3429  Q 1922 3584 2338 3584  Q 2397 3584 2469 3576  Q 2541 3569 2628 3553  L 2631 2963  z \" transform=\"scale(0.015625)\" />\n       <path id=\"DejaVuSans-61\" d=\"M 2194 1759  Q 1497 1759 1228 1600  Q 959 1441 959 1056  Q 959 750 1161 570  Q 1363 391 1709 391  Q 2188 391 2477 730  Q 2766 1069 2766 1631  L 2766 1759  L 2194 1759  z M 3341 1997  L 3341 0  L 2766 0  L 2766 531  Q 2569 213 2275 61  Q 1981 -91 1556 -91  Q 1019 -91 701 211  Q 384 513 384 1019  Q 384 1609 779 1909  Q 1175 2209 1959 2209  L 2766 2209  L 2766 2266  Q 2766 2663 2505 2880  Q 2244 3097 1772 3097  Q 1472 3097 1187 3025  Q 903 2953 641 2809  L 641 3341  Q 956 3463 1253 3523  Q 1550 3584 1831 3584  Q 2591 3584 2966 3190  Q 3341 2797 3341 1997  z \" transform=\"scale(0.015625)\" />\n       <path id=\"DejaVuSans-70\" d=\"M 1159 525  L 1159 -1331  L 581 -1331  L 581 3500  L 1159 3500  L 1159 2969  Q 1341 3281 1617 3432  Q 1894 3584 2278 3584  Q 2916 3584 3314 3078  Q 3713 2572 3713 1747  Q 3713 922 3314 415  Q 2916 -91 2278 -91  Q 1894 -91 1617 61  Q 1341 213 1159 525  z M 3116 1747  Q 3116 2381 2855 2742  Q 2594 3103 2138 3103  Q 1681 3103 1420 2742  Q 1159 2381 1159 1747  Q 1159 1113 1420 752  Q 1681 391 2138 391  Q 2594 391 2855 752  Q 3116 1113 3116 1747  z \" transform=\"scale(0.015625)\" />\n      </defs>\n      <use xlink:href=\"#DejaVuSans-43\" />\n      <use xlink:href=\"#DejaVuSans-68\" x=\"69.824219\" />\n      <use xlink:href=\"#DejaVuSans-69\" x=\"133.203125\" />\n      <use xlink:href=\"#DejaVuSans-6e\" x=\"160.986328\" />\n      <use xlink:href=\"#DejaVuSans-73\" x=\"224.365234\" />\n      <use xlink:href=\"#DejaVuSans-74\" x=\"276.464844\" />\n      <use xlink:href=\"#DejaVuSans-72\" x=\"315.673828\" />\n      <use xlink:href=\"#DejaVuSans-61\" x=\"356.787109\" />\n      <use xlink:href=\"#DejaVuSans-70\" x=\"418.066406\" />\n     </g>\n    </g>\n    <g id=\"patch_5\">\n     <path d=\"M 8 64.632812  L 28 64.632812  L 28 57.632812  L 8 57.632812  z \" style=\"fill: #a1dab4; stroke: #444443; stroke-width: 0.4; stroke-linejoin: miter\" />\n    </g>\n    <g id=\"text_4\">\n     \n     <g style=\"fill: #444443\" transform=\"translate(31.5 64.632812) scale(0.1 -0.1)\">\n      <defs>\n       <path id=\"DejaVuSans-47\" d=\"M 3809 666  L 3809 1919  L 2778 1919  L 2778 2438  L 4434 2438  L 4434 434  Q 4069 175 3628 42  Q 3188 -91 2688 -91  Q 1594 -91 976 548  Q 359 1188 359 2328  Q 359 3472 976 4111  Q 1594 4750 2688 4750  Q 3144 4750 3555 4637  Q 3966 4525 4313 4306  L 4313 3634  Q 3963 3931 3569 4081  Q 3175 4231 2741 4231  Q 1884 4231 1454 3753  Q 1025 3275 1025 2328  Q 1025 1384 1454 906  Q 1884 428 2741 428  Q 3075 428 3337 486  Q 3600 544 3809 666  z \" transform=\"scale(0.015625)\" />\n       <path id=\"DejaVuSans-6f\" d=\"M 1959 3097  Q 1497 3097 1228 2736  Q 959 2375 959 1747  Q 959 1119 1226 758  Q 1494 397 1959 397  Q 2419 397 2687 759  Q 2956 1122 2956 1747  Q 2956 2369 2687 2733  Q 2419 3097 1959 3097  z M 1959 3584  Q 2709 3584 3137 3096  Q 3566 2609 3566 1747  Q 3566 888 3137 398  Q 2709 -91 1959 -91  Q 1206 -91 779 398  Q 353 888 353 1747  Q 353 2609 779 3096  Q 1206 3584 1959 3584  z \" transform=\"scale(0.015625)\" />\n      </defs>\n      <use xlink:href=\"#DejaVuSans-47\" />\n      <use xlink:href=\"#DejaVuSans-65\" x=\"77.490234\" />\n      <use xlink:href=\"#DejaVuSans-6e\" x=\"139.013672\" />\n      <use xlink:href=\"#DejaVuSans-74\" x=\"202.392578\" />\n      <use xlink:href=\"#DejaVuSans-6f\" x=\"241.601562\" />\n      <use xlink:href=\"#DejaVuSans-6f\" x=\"302.783203\" />\n     </g>\n    </g>\n   </g>\n  </g>\n </g>\n</svg></g>\n</g>\n</svg>"
          },
          "metadata": {},
          "execution_count": 58
        }
      ]
    }
  ]
}